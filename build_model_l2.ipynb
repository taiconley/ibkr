{
 "cells": [
  {
   "cell_type": "code",
   "execution_count": 1,
   "id": "6e66c51d",
   "metadata": {
    "scrolled": false
   },
   "outputs": [
    {
     "name": "stderr",
     "output_type": "stream",
     "text": [
      "2023-07-21 17:27:28.497782: I tensorflow/core/util/port.cc:110] oneDNN custom operations are on. You may see slightly different numerical results due to floating-point round-off errors from different computation orders. To turn them off, set the environment variable `TF_ENABLE_ONEDNN_OPTS=0`.\n",
      "2023-07-21 17:27:28.602251: I tensorflow/core/platform/cpu_feature_guard.cc:182] This TensorFlow binary is optimized to use available CPU instructions in performance-critical operations.\n",
      "To enable the following instructions: AVX2 AVX_VNNI FMA, in other operations, rebuild TensorFlow with the appropriate compiler flags.\n",
      "/usr/lib/python3/dist-packages/requests/__init__.py:89: RequestsDependencyWarning: urllib3 (2.0.3) or chardet (3.0.4) doesn't match a supported version!\n",
      "  warnings.warn(\"urllib3 ({}) or chardet ({}) doesn't match a supported \"\n"
     ]
    }
   ],
   "source": [
    "import sys\n",
    "# sys.path.append(\"/ibkr\")\n",
    "\n",
    "import os\n",
    "import datetime\n",
    "import pandas as pd\n",
    "import time\n",
    "import numpy as np\n",
    "import matplotlib.pyplot as plt\n",
    "\n",
    "\n",
    "from sklearn.preprocessing import MinMaxScaler\n",
    "from sklearn.model_selection import train_test_split\n",
    "\n",
    "import tensorflow as tf\n",
    "from tensorflow.keras.models import load_model\n",
    "from keras.models import Sequential\n",
    "from keras.layers import Dense\n",
    "from keras.layers import LSTM\n",
    "from keras.layers import Dropout\n",
    "import pytz\n",
    "\n",
    "\n",
    "import passwords\n",
    "from databaseClass import DB\n",
    "from utilsl2 import generate_df_from_sql_file, generate_list_from_sql_file\n",
    "from utilsl2 import DataProcessor\n",
    "from utilsl2 import ModelBuilder\n",
    "from utilsl2 import Predictor\n",
    "pd.set_option('display.max_rows', None)\n",
    "pd.set_option('display.max_columns', None)\n",
    "from sql_files import queries"
   ]
  },
  {
   "cell_type": "code",
   "execution_count": 2,
   "id": "2a91627f",
   "metadata": {},
   "outputs": [
    {
     "name": "stdout",
     "output_type": "stream",
     "text": [
      "1 Physical GPUs, 1 Logical GPU\n"
     ]
    },
    {
     "name": "stderr",
     "output_type": "stream",
     "text": [
      "2023-07-21 17:27:29.780788: I tensorflow/compiler/xla/stream_executor/cuda/cuda_gpu_executor.cc:995] successful NUMA node read from SysFS had negative value (-1), but there must be at least one NUMA node, so returning NUMA node zero. See more at https://github.com/torvalds/linux/blob/v6.0/Documentation/ABI/testing/sysfs-bus-pci#L344-L355\n",
      "2023-07-21 17:27:29.789933: I tensorflow/compiler/xla/stream_executor/cuda/cuda_gpu_executor.cc:995] successful NUMA node read from SysFS had negative value (-1), but there must be at least one NUMA node, so returning NUMA node zero. See more at https://github.com/torvalds/linux/blob/v6.0/Documentation/ABI/testing/sysfs-bus-pci#L344-L355\n",
      "2023-07-21 17:27:29.790015: I tensorflow/compiler/xla/stream_executor/cuda/cuda_gpu_executor.cc:995] successful NUMA node read from SysFS had negative value (-1), but there must be at least one NUMA node, so returning NUMA node zero. See more at https://github.com/torvalds/linux/blob/v6.0/Documentation/ABI/testing/sysfs-bus-pci#L344-L355\n",
      "2023-07-21 17:27:29.791902: I tensorflow/compiler/xla/stream_executor/cuda/cuda_gpu_executor.cc:995] successful NUMA node read from SysFS had negative value (-1), but there must be at least one NUMA node, so returning NUMA node zero. See more at https://github.com/torvalds/linux/blob/v6.0/Documentation/ABI/testing/sysfs-bus-pci#L344-L355\n",
      "2023-07-21 17:27:29.791970: I tensorflow/compiler/xla/stream_executor/cuda/cuda_gpu_executor.cc:995] successful NUMA node read from SysFS had negative value (-1), but there must be at least one NUMA node, so returning NUMA node zero. See more at https://github.com/torvalds/linux/blob/v6.0/Documentation/ABI/testing/sysfs-bus-pci#L344-L355\n",
      "2023-07-21 17:27:29.792007: I tensorflow/compiler/xla/stream_executor/cuda/cuda_gpu_executor.cc:995] successful NUMA node read from SysFS had negative value (-1), but there must be at least one NUMA node, so returning NUMA node zero. See more at https://github.com/torvalds/linux/blob/v6.0/Documentation/ABI/testing/sysfs-bus-pci#L344-L355\n",
      "2023-07-21 17:27:30.191308: I tensorflow/compiler/xla/stream_executor/cuda/cuda_gpu_executor.cc:995] successful NUMA node read from SysFS had negative value (-1), but there must be at least one NUMA node, so returning NUMA node zero. See more at https://github.com/torvalds/linux/blob/v6.0/Documentation/ABI/testing/sysfs-bus-pci#L344-L355\n",
      "2023-07-21 17:27:30.191397: I tensorflow/compiler/xla/stream_executor/cuda/cuda_gpu_executor.cc:995] successful NUMA node read from SysFS had negative value (-1), but there must be at least one NUMA node, so returning NUMA node zero. See more at https://github.com/torvalds/linux/blob/v6.0/Documentation/ABI/testing/sysfs-bus-pci#L344-L355\n",
      "2023-07-21 17:27:30.191441: I tensorflow/compiler/xla/stream_executor/cuda/cuda_gpu_executor.cc:995] successful NUMA node read from SysFS had negative value (-1), but there must be at least one NUMA node, so returning NUMA node zero. See more at https://github.com/torvalds/linux/blob/v6.0/Documentation/ABI/testing/sysfs-bus-pci#L344-L355\n",
      "2023-07-21 17:27:30.191496: I tensorflow/core/common_runtime/gpu/gpu_device.cc:1639] Created device /job:localhost/replica:0/task:0/device:GPU:0 with 7924 MB memory:  -> device: 0, name: NVIDIA GeForce RTX 3080 Ti, pci bus id: 0000:01:00.0, compute capability: 8.6\n"
     ]
    }
   ],
   "source": [
    "import tensorflow as tf\n",
    "\n",
    "gpus = tf.config.list_physical_devices('GPU')\n",
    "if gpus:\n",
    "  try:\n",
    "    # Restrict TensorFlow to only use the first GPU\n",
    "    tf.config.set_visible_devices(gpus[0], 'GPU')\n",
    "\n",
    "    logical_gpus = tf.config.experimental.list_logical_devices('GPU')\n",
    "    print(len(gpus), \"Physical GPUs,\", len(logical_gpus), \"Logical GPU\")\n",
    "  except RuntimeError as e:\n",
    "    # Visible devices must be set before GPUs have been initialized\n",
    "    print(e)"
   ]
  },
  {
   "cell_type": "code",
   "execution_count": 3,
   "id": "faa04032",
   "metadata": {},
   "outputs": [
    {
     "data": {
      "text/plain": [
       "[PhysicalDevice(name='/physical_device:GPU:0', device_type='GPU')]"
      ]
     },
     "execution_count": 3,
     "metadata": {},
     "output_type": "execute_result"
    }
   ],
   "source": [
    "gpus"
   ]
  },
  {
   "cell_type": "code",
   "execution_count": 4,
   "id": "96cd3ae2",
   "metadata": {},
   "outputs": [
    {
     "name": "stdout",
     "output_type": "stream",
     "text": [
      "Fri Jul 21 17:27:30 2023       \r\n",
      "+-----------------------------------------------------------------------------+\r\n",
      "| NVIDIA-SMI 525.60.11    Driver Version: 525.60.11    CUDA Version: 12.0     |\r\n",
      "|-------------------------------+----------------------+----------------------+\r\n",
      "| GPU  Name        Persistence-M| Bus-Id        Disp.A | Volatile Uncorr. ECC |\r\n",
      "| Fan  Temp  Perf  Pwr:Usage/Cap|         Memory-Usage | GPU-Util  Compute M. |\r\n",
      "|                               |                      |               MIG M. |\r\n",
      "|===============================+======================+======================|\r\n",
      "|   0  NVIDIA GeForce ...  Off  | 00000000:01:00.0  On |                  N/A |\r\n",
      "|  0%   53C    P2    60W / 350W |   2581MiB / 12288MiB |      5%      Default |\r\n",
      "|                               |                      |                  N/A |\r\n",
      "+-------------------------------+----------------------+----------------------+\r\n",
      "                                                                               \r\n",
      "+-----------------------------------------------------------------------------+\r\n",
      "| Processes:                                                                  |\r\n",
      "|  GPU   GI   CI        PID   Type   Process name                  GPU Memory |\r\n",
      "|        ID   ID                                                   Usage      |\r\n",
      "|=============================================================================|\r\n",
      "+-----------------------------------------------------------------------------+\r\n"
     ]
    }
   ],
   "source": [
    "!nvidia-smi"
   ]
  },
  {
   "cell_type": "code",
   "execution_count": 6,
   "id": "9ff075e7",
   "metadata": {},
   "outputs": [],
   "source": [
    "userName = passwords.userName\n",
    "userPass = passwords.userPass\n",
    "dataBaseName = passwords.dataBaseName\n",
    "host = passwords.host"
   ]
  },
  {
   "cell_type": "code",
   "execution_count": 7,
   "id": "a25276eb",
   "metadata": {},
   "outputs": [],
   "source": [
    "db = DB(userName=userName, userPass=userPass, dataBaseName=dataBaseName, host='ibkr_db', docker=True)"
   ]
  },
  {
   "cell_type": "code",
   "execution_count": 8,
   "id": "b7efd5d3",
   "metadata": {
    "scrolled": false
   },
   "outputs": [
    {
     "name": "stderr",
     "output_type": "stream",
     "text": [
      "/ibkr/databaseClass.py:111: UserWarning: pandas only supports SQLAlchemy connectable (engine/connection) or database string URI or sqlite3 DBAPI2 connection. Other DBAPI2 objects are not tested. Please consider using SQLAlchemy.\n",
      "  df = pd.read_sql_query(query, con=conn)\n"
     ]
    }
   ],
   "source": [
    "df = db.DBtoDF(queries.sql_l2)"
   ]
  },
  {
   "cell_type": "code",
   "execution_count": 9,
   "id": "8db777e9",
   "metadata": {
    "scrolled": true
   },
   "outputs": [
    {
     "data": {
      "text/html": [
       "<div>\n",
       "<style scoped>\n",
       "    .dataframe tbody tr th:only-of-type {\n",
       "        vertical-align: middle;\n",
       "    }\n",
       "\n",
       "    .dataframe tbody tr th {\n",
       "        vertical-align: top;\n",
       "    }\n",
       "\n",
       "    .dataframe thead th {\n",
       "        text-align: right;\n",
       "    }\n",
       "</style>\n",
       "<table border=\"1\" class=\"dataframe\">\n",
       "  <thead>\n",
       "    <tr style=\"text-align: right;\">\n",
       "      <th></th>\n",
       "      <th>position</th>\n",
       "      <th>operation</th>\n",
       "      <th>side</th>\n",
       "      <th>price</th>\n",
       "      <th>size</th>\n",
       "      <th>timestamp</th>\n",
       "    </tr>\n",
       "  </thead>\n",
       "  <tbody>\n",
       "    <tr>\n",
       "      <th>0</th>\n",
       "      <td>0</td>\n",
       "      <td>0</td>\n",
       "      <td>1</td>\n",
       "      <td>4579.00</td>\n",
       "      <td>68</td>\n",
       "      <td>2023-07-21 15:35:30.542088</td>\n",
       "    </tr>\n",
       "    <tr>\n",
       "      <th>1</th>\n",
       "      <td>1</td>\n",
       "      <td>0</td>\n",
       "      <td>1</td>\n",
       "      <td>4578.75</td>\n",
       "      <td>95</td>\n",
       "      <td>2023-07-21 15:35:30.569578</td>\n",
       "    </tr>\n",
       "    <tr>\n",
       "      <th>2</th>\n",
       "      <td>2</td>\n",
       "      <td>0</td>\n",
       "      <td>1</td>\n",
       "      <td>4578.50</td>\n",
       "      <td>109</td>\n",
       "      <td>2023-07-21 15:35:30.576519</td>\n",
       "    </tr>\n",
       "    <tr>\n",
       "      <th>3</th>\n",
       "      <td>3</td>\n",
       "      <td>0</td>\n",
       "      <td>1</td>\n",
       "      <td>4578.25</td>\n",
       "      <td>124</td>\n",
       "      <td>2023-07-21 15:35:30.587448</td>\n",
       "    </tr>\n",
       "    <tr>\n",
       "      <th>4</th>\n",
       "      <td>4</td>\n",
       "      <td>0</td>\n",
       "      <td>1</td>\n",
       "      <td>4578.00</td>\n",
       "      <td>121</td>\n",
       "      <td>2023-07-21 15:35:30.594338</td>\n",
       "    </tr>\n",
       "  </tbody>\n",
       "</table>\n",
       "</div>"
      ],
      "text/plain": [
       "   position  operation  side    price  size                  timestamp\n",
       "0         0          0     1  4579.00    68 2023-07-21 15:35:30.542088\n",
       "1         1          0     1  4578.75    95 2023-07-21 15:35:30.569578\n",
       "2         2          0     1  4578.50   109 2023-07-21 15:35:30.576519\n",
       "3         3          0     1  4578.25   124 2023-07-21 15:35:30.587448\n",
       "4         4          0     1  4578.00   121 2023-07-21 15:35:30.594338"
      ]
     },
     "execution_count": 9,
     "metadata": {},
     "output_type": "execute_result"
    }
   ],
   "source": [
    "df.head()"
   ]
  },
  {
   "cell_type": "code",
   "execution_count": 10,
   "id": "2c97bcc1",
   "metadata": {},
   "outputs": [],
   "source": [
    "def main_build_model(df, look_ahead=5, TIME_STEPS=60, epochs=50):\n",
    "    \n",
    "    # Create a DataProcessor instance\n",
    "    processor = DataProcessor(df) \n",
    "    # Process the df\n",
    "    processor.process_df()\n",
    "    print(processor.processed_df.head(10))\n",
    "    \n",
    "    # Scale and shift the data\n",
    "    scaler, close_scaler = processor.scale_shift_data(look_ahead)\n",
    "    # Create the X and y datasets\n",
    "    X, y = processor.scaled_df, processor.shifted_df['price_0_0']\n",
    "    # Create train test split\n",
    "    X_train, X_test, y_train, y_test = processor.create_train_test_split(X, y)   \n",
    "    # Create final train and test datasets\n",
    "\n",
    "    X_train, y_train = processor.create_dataset(X_train, y=y_train, time_steps=TIME_STEPS, for_training=True, look_ahead=look_ahead)\n",
    "    X_test, y_test = processor.create_dataset(X_test, y=y_test, time_steps=TIME_STEPS, for_training=True, look_ahead=look_ahead)\n",
    "\n",
    "    # Number of features in the data\n",
    "    n_features = X_train.shape[2]\n",
    "    \n",
    "    # Create a ModelBuilder instance and build the model\n",
    "    builder = ModelBuilder(n_features, TIME_STEPS)\n",
    "    # Train the model\n",
    "    model, history = builder.train_model(X_train, y_train, X_test, y_test, epochs=epochs, batch_size=64)\n",
    "    # Save the model\n",
    "    model_path = 'models/model.h5'\n",
    "    builder.save_model(model_path)\n",
    "    # Plot loss\n",
    "    builder.plot_loss(history)"
   ]
  },
  {
   "cell_type": "code",
   "execution_count": 11,
   "id": "96b3e8e5",
   "metadata": {},
   "outputs": [
    {
     "name": "stderr",
     "output_type": "stream",
     "text": [
      "/ibkr/databaseClass.py:111: UserWarning: pandas only supports SQLAlchemy connectable (engine/connection) or database string URI or sqlite3 DBAPI2 connection. Other DBAPI2 objects are not tested. Please consider using SQLAlchemy.\n",
      "  df = pd.read_sql_query(query, con=conn)\n"
     ]
    },
    {
     "name": "stdout",
     "output_type": "stream",
     "text": [
      "                             price_0_0    price_0_1    price_1_0    price_1_1  \\\n",
      "timestamp                                                                       \n",
      "2023-07-21 15:35:30+00:00  4579.250000  4579.000000  4579.500000  4578.750000   \n",
      "2023-07-21 15:35:31+00:00  4579.312500  4579.062500  4579.562500  4578.833333   \n",
      "2023-07-21 15:35:32+00:00  4579.125000  4578.875000  4579.333333  4578.583333   \n",
      "2023-07-21 15:35:33+00:00  4579.115385  4578.854167  4579.406250  4578.613636   \n",
      "2023-07-21 15:35:34+00:00  4579.113636  4578.861111  4579.375000  4578.625000   \n",
      "2023-07-21 15:35:35+00:00  4578.958333  4578.708333  4579.208333  4578.375000   \n",
      "2023-07-21 15:35:36+00:00  4579.125000  4578.875000  4579.375000  4578.625000   \n",
      "2023-07-21 15:35:37+00:00  4579.000000  4578.750000  4579.250000  4578.500000   \n",
      "2023-07-21 15:35:38+00:00  4579.000000  4578.750000  4579.250000  4578.500000   \n",
      "2023-07-21 15:35:39+00:00  4579.000000  4578.750000  4579.250000  4578.500000   \n",
      "\n",
      "                             price_2_0    price_2_1    price_3_0    price_3_1  \\\n",
      "timestamp                                                                       \n",
      "2023-07-21 15:35:30+00:00  4579.750000  4578.500000  4580.000000  4578.250000   \n",
      "2023-07-21 15:35:31+00:00  4579.812500  4578.562500  4580.062500  4578.333333   \n",
      "2023-07-21 15:35:32+00:00  4579.625000  4578.375000  4579.916667  4578.125000   \n",
      "2023-07-21 15:35:33+00:00  4579.611111  4578.363636  4579.875000  4578.111111   \n",
      "2023-07-21 15:35:34+00:00  4579.625000  4578.361111  4579.843750  4578.107143   \n",
      "2023-07-21 15:35:35+00:00  4579.450000  4578.208333  4579.687500  4577.950000   \n",
      "2023-07-21 15:35:36+00:00  4579.625000  4578.375000  4579.875000  4578.125000   \n",
      "2023-07-21 15:35:37+00:00  4579.500000  4578.250000  4579.750000  4578.000000   \n",
      "2023-07-21 15:35:38+00:00  4579.500000  4578.250000  4579.750000  4578.000000   \n",
      "2023-07-21 15:35:39+00:00  4579.500000  4578.250000  4579.750000  4578.000000   \n",
      "\n",
      "                            price_4+_0   price_4+_1   size_0_0   size_0_1  \\\n",
      "timestamp                                                                   \n",
      "2023-07-21 15:35:30+00:00  4580.250000  4578.000000  60.000000  68.000000   \n",
      "2023-07-21 15:35:31+00:00  4580.312500  4578.083333  70.000000  67.000000   \n",
      "2023-07-21 15:35:32+00:00  4580.125000  4577.875000  54.750000  63.500000   \n",
      "2023-07-21 15:35:33+00:00  4580.111111  4577.892857  57.153846  64.416667   \n",
      "2023-07-21 15:35:34+00:00  4580.107143  4577.875000  54.181818  64.222222   \n",
      "2023-07-21 15:35:35+00:00  4579.916667  4577.666667  64.833333  52.333333   \n",
      "2023-07-21 15:35:36+00:00  4580.125000  4577.875000  78.500000  39.000000   \n",
      "2023-07-21 15:35:37+00:00  4580.000000  4577.875000  33.500000  87.500000   \n",
      "2023-07-21 15:35:38+00:00  4580.000000  4577.875000  36.666667  75.000000   \n",
      "2023-07-21 15:35:39+00:00  4580.000000  4577.750000  79.000000  59.000000   \n",
      "\n",
      "                             size_1_0    size_1_1    size_2_0    size_2_1  \\\n",
      "timestamp                                                                   \n",
      "2023-07-21 15:35:30+00:00  115.000000   95.000000  127.000000  109.000000   \n",
      "2023-07-21 15:35:31+00:00  118.250000   96.666667  131.250000  105.000000   \n",
      "2023-07-21 15:35:32+00:00  107.666667  103.666667  120.000000  115.250000   \n",
      "2023-07-21 15:35:33+00:00  112.500000  104.545455  121.333333  114.454545   \n",
      "2023-07-21 15:35:34+00:00  111.750000  105.125000  124.375000  113.777778   \n",
      "2023-07-21 15:35:35+00:00  109.000000  106.000000  131.800000  114.000000   \n",
      "2023-07-21 15:35:36+00:00  123.000000   90.000000  130.500000  108.000000   \n",
      "2023-07-21 15:35:37+00:00  111.000000  101.000000  133.500000  113.500000   \n",
      "2023-07-21 15:35:38+00:00   98.500000  100.000000  129.000000  121.000000   \n",
      "2023-07-21 15:35:39+00:00  101.000000  102.000000  131.000000  115.000000   \n",
      "\n",
      "                             size_3_0    size_3_1   size_4+_0   size_4+_1  \n",
      "timestamp                                                                  \n",
      "2023-07-21 15:35:30+00:00  159.000000  124.000000  119.000000  121.000000  \n",
      "2023-07-21 15:35:31+00:00  151.250000  120.666667  121.000000  124.000000  \n",
      "2023-07-21 15:35:32+00:00  147.666667  124.250000  139.500000  157.000000  \n",
      "2023-07-21 15:35:33+00:00  142.375000  124.000000  142.000000  149.285714  \n",
      "2023-07-21 15:35:34+00:00  138.625000  122.714286  141.285714  153.125000  \n",
      "2023-07-21 15:35:35+00:00  130.500000  134.600000  152.333333  165.666667  \n",
      "2023-07-21 15:35:36+00:00  145.000000  118.000000  142.000000  149.500000  \n",
      "2023-07-21 15:35:37+00:00  124.500000  123.000000  164.000000  149.500000  \n",
      "2023-07-21 15:35:38+00:00  122.000000  125.000000  162.500000  149.500000  \n",
      "2023-07-21 15:35:39+00:00  121.000000  124.000000  162.500000  180.000000  \n",
      "Epoch 1/30\n",
      "38/38 [==============================] - 7s 181ms/step - loss: 0.0686 - val_loss: 0.0381\n",
      "Epoch 2/30\n",
      "38/38 [==============================] - 7s 177ms/step - loss: 0.0303 - val_loss: 0.0073\n",
      "Epoch 3/30\n",
      "38/38 [==============================] - 7s 179ms/step - loss: 0.0106 - val_loss: 0.0056\n",
      "Epoch 4/30\n",
      "38/38 [==============================] - 7s 175ms/step - loss: 0.0087 - val_loss: 0.0092\n",
      "Epoch 5/30\n",
      "38/38 [==============================] - 7s 179ms/step - loss: 0.0092 - val_loss: 0.0043\n",
      "Epoch 6/30\n",
      "38/38 [==============================] - 7s 179ms/step - loss: 0.0082 - val_loss: 0.0048\n",
      "Epoch 7/30\n",
      "38/38 [==============================] - 7s 180ms/step - loss: 0.0079 - val_loss: 0.0042\n",
      "Epoch 8/30\n",
      "38/38 [==============================] - 7s 178ms/step - loss: 0.0085 - val_loss: 0.0030\n",
      "Epoch 9/30\n",
      "38/38 [==============================] - 7s 176ms/step - loss: 0.0076 - val_loss: 0.0033\n",
      "Epoch 10/30\n",
      "38/38 [==============================] - 7s 179ms/step - loss: 0.0076 - val_loss: 0.0027\n",
      "Epoch 11/30\n",
      "38/38 [==============================] - 7s 178ms/step - loss: 0.0073 - val_loss: 0.0030\n",
      "Epoch 12/30\n",
      "38/38 [==============================] - 7s 180ms/step - loss: 0.0076 - val_loss: 0.0023\n",
      "Epoch 13/30\n",
      "38/38 [==============================] - 7s 180ms/step - loss: 0.0074 - val_loss: 0.0024\n",
      "Epoch 14/30\n",
      "38/38 [==============================] - 7s 180ms/step - loss: 0.0068 - val_loss: 0.0023\n",
      "Epoch 15/30\n",
      "38/38 [==============================] - 7s 178ms/step - loss: 0.0070 - val_loss: 0.0022\n",
      "Epoch 16/30\n",
      "38/38 [==============================] - 7s 179ms/step - loss: 0.0068 - val_loss: 0.0027\n",
      "Epoch 17/30\n",
      "38/38 [==============================] - 7s 178ms/step - loss: 0.0069 - val_loss: 0.0021\n",
      "Epoch 18/30\n",
      "38/38 [==============================] - 7s 181ms/step - loss: 0.0073 - val_loss: 0.0021\n",
      "Epoch 19/30\n",
      "38/38 [==============================] - 7s 178ms/step - loss: 0.0064 - val_loss: 0.0021\n",
      "Epoch 20/30\n",
      "38/38 [==============================] - 7s 179ms/step - loss: 0.0062 - val_loss: 0.0022\n",
      "Epoch 21/30\n",
      "38/38 [==============================] - 7s 181ms/step - loss: 0.0063 - val_loss: 0.0022\n",
      "Epoch 22/30\n",
      "38/38 [==============================] - 7s 182ms/step - loss: 0.0054 - val_loss: 0.0056\n",
      "Epoch 23/30\n",
      "38/38 [==============================] - 7s 181ms/step - loss: 0.0067 - val_loss: 0.0020\n",
      "Epoch 24/30\n",
      "38/38 [==============================] - 7s 178ms/step - loss: 0.0058 - val_loss: 0.0022\n",
      "Epoch 25/30\n",
      "38/38 [==============================] - 7s 178ms/step - loss: 0.0063 - val_loss: 0.0020\n",
      "Epoch 26/30\n",
      "38/38 [==============================] - 7s 178ms/step - loss: 0.0061 - val_loss: 0.0027\n",
      "Epoch 27/30\n",
      "38/38 [==============================] - 7s 178ms/step - loss: 0.0057 - val_loss: 0.0021\n",
      "Epoch 28/30\n",
      "38/38 [==============================] - 7s 179ms/step - loss: 0.0060 - val_loss: 0.0021\n",
      "Epoch 29/30\n",
      "38/38 [==============================] - 7s 180ms/step - loss: 0.0056 - val_loss: 0.0021\n",
      "Epoch 30/30\n",
      "38/38 [==============================] - 7s 177ms/step - loss: 0.0058 - val_loss: 0.0020\n"
     ]
    },
    {
     "name": "stderr",
     "output_type": "stream",
     "text": [
      "/usr/local/lib/python3.8/dist-packages/keras/src/engine/training.py:3000: UserWarning: You are saving your model as an HDF5 file via `model.save()`. This file format is considered legacy. We recommend using instead the native Keras format, e.g. `model.save('my_model.keras')`.\n",
      "  saving_api.save_model(\n"
     ]
    },
    {
     "data": {
      "image/png": "[encoded data removed]",
      "text/plain": [
       "<Figure size 640x480 with 1 Axes>"
      ]
     },
     "metadata": {},
     "output_type": "display_data"
    }
   ],
   "source": [
    "df = db.DBtoDF(queries.sql_l2)\n",
    "main_build_model(df, look_ahead=5, TIME_STEPS=60, epochs=30)"
   ]
  },
  {
   "cell_type": "markdown",
   "id": "2fc5e4d2",
   "metadata": {},
   "source": [
    "http://localhost:6006/#timeseries"
   ]
  },
  {
   "cell_type": "code",
   "execution_count": null,
   "id": "b53797ae",
   "metadata": {},
   "outputs": [],
   "source": []
  }
 ],
 "metadata": {
  "kernelspec": {
   "display_name": "Python 3 (ipykernel)",
   "language": "python",
   "name": "python3"
  },
  "language_info": {
   "codemirror_mode": {
    "name": "ipython",
    "version": 3
   },
   "file_extension": ".py",
   "mimetype": "text/x-python",
   "name": "python",
   "nbconvert_exporter": "python",
   "pygments_lexer": "ipython3",
   "version": "3.8.10"
  }
 },
 "nbformat": 4,
 "nbformat_minor": 5
}
