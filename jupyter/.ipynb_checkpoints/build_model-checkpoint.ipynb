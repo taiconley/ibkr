{
 "cells": [
  {
   "cell_type": "code",
   "execution_count": 2,
   "id": "796e7ce7",
   "metadata": {},
   "outputs": [
    {
     "name": "stdout",
     "output_type": "stream",
     "text": [
      "Defaulting to user installation because normal site-packages is not writeable\n",
      "Collecting keras-tuner\n",
      "  Downloading keras_tuner-1.3.5-py3-none-any.whl (176 kB)\n",
      "\u001b[2K     \u001b[90m━━━━━━━━━━━━━━━━━━━━━━━━━━━━━━━━━━━━━━━\u001b[0m \u001b[32m176.1/176.1 kB\u001b[0m \u001b[31m3.9 MB/s\u001b[0m eta \u001b[36m0:00:00\u001b[0m00:01\u001b[0m\n",
      "\u001b[?25hRequirement already satisfied: requests in /usr/lib/python3/dist-packages (from keras-tuner) (2.22.0)\n",
      "Requirement already satisfied: packaging in /usr/local/lib/python3.8/dist-packages (from keras-tuner) (23.0)\n",
      "Collecting kt-legacy\n",
      "  Downloading kt_legacy-1.0.5-py3-none-any.whl (9.6 kB)\n",
      "Installing collected packages: kt-legacy, keras-tuner\n",
      "Successfully installed keras-tuner-1.3.5 kt-legacy-1.0.5\n",
      "\n",
      "\u001b[1m[\u001b[0m\u001b[34;49mnotice\u001b[0m\u001b[1;39;49m]\u001b[0m\u001b[39;49m A new release of pip is available: \u001b[0m\u001b[31;49m23.0.1\u001b[0m\u001b[39;49m -> \u001b[0m\u001b[32;49m23.1.2\u001b[0m\n",
      "\u001b[1m[\u001b[0m\u001b[34;49mnotice\u001b[0m\u001b[1;39;49m]\u001b[0m\u001b[39;49m To update, run: \u001b[0m\u001b[32;49mpython3 -m pip install --upgrade pip\u001b[0m\n"
     ]
    }
   ],
   "source": [
    "!pip install keras-tuner"
   ]
  },
  {
   "cell_type": "code",
   "execution_count": 1,
   "id": "7337afa3",
   "metadata": {},
   "outputs": [
    {
     "name": "stderr",
     "output_type": "stream",
     "text": [
      "2023-07-06 21:41:24.580821: I tensorflow/core/util/port.cc:110] oneDNN custom operations are on. You may see slightly different numerical results due to floating-point round-off errors from different computation orders. To turn them off, set the environment variable `TF_ENABLE_ONEDNN_OPTS=0`.\n",
      "2023-07-06 21:41:24.601666: I tensorflow/core/platform/cpu_feature_guard.cc:182] This TensorFlow binary is optimized to use available CPU instructions in performance-critical operations.\n",
      "To enable the following instructions: AVX2 AVX_VNNI FMA, in other operations, rebuild TensorFlow with the appropriate compiler flags.\n",
      "/usr/lib/python3/dist-packages/requests/__init__.py:89: RequestsDependencyWarning: urllib3 (2.0.3) or chardet (3.0.4) doesn't match a supported version!\n",
      "  warnings.warn(\"urllib3 ({}) or chardet ({}) doesn't match a supported \"\n"
     ]
    }
   ],
   "source": [
    "import sys\n",
    "sys.path.append(\"/ibkr\")\n",
    "\n",
    "import os\n",
    "import datetime\n",
    "import pandas as pd\n",
    "import time\n",
    "import numpy as np\n",
    "import matplotlib.pyplot as plt\n",
    "\n",
    "\n",
    "from sklearn.preprocessing import MinMaxScaler\n",
    "from sklearn.model_selection import train_test_split\n",
    "\n",
    "import tensorflow as tf\n",
    "from tensorflow.keras.models import load_model\n",
    "from keras.models import Sequential\n",
    "from keras.layers import Dense\n",
    "from keras.layers import LSTM\n",
    "from keras.layers import Dropout\n",
    "import pytz\n",
    "\n",
    "\n",
    "import passwords\n",
    "from databaseClass import DB\n",
    "from utils import generate_df_from_sql_file, generate_list_from_sql_file\n",
    "from utils import DataProcessor\n",
    "from utils import ModelBuilder\n",
    "from utils import Predictor\n",
    "pd.set_option('display.max_rows', None)"
   ]
  },
  {
   "cell_type": "code",
   "execution_count": 2,
   "id": "d738da33",
   "metadata": {},
   "outputs": [
    {
     "name": "stdout",
     "output_type": "stream",
     "text": [
      "1 Physical GPUs, 1 Logical GPU\n"
     ]
    },
    {
     "name": "stderr",
     "output_type": "stream",
     "text": [
      "2023-07-06 21:41:25.272177: I tensorflow/compiler/xla/stream_executor/cuda/cuda_gpu_executor.cc:995] successful NUMA node read from SysFS had negative value (-1), but there must be at least one NUMA node, so returning NUMA node zero. See more at https://github.com/torvalds/linux/blob/v6.0/Documentation/ABI/testing/sysfs-bus-pci#L344-L355\n",
      "2023-07-06 21:41:25.274891: I tensorflow/compiler/xla/stream_executor/cuda/cuda_gpu_executor.cc:995] successful NUMA node read from SysFS had negative value (-1), but there must be at least one NUMA node, so returning NUMA node zero. See more at https://github.com/torvalds/linux/blob/v6.0/Documentation/ABI/testing/sysfs-bus-pci#L344-L355\n",
      "2023-07-06 21:41:25.274978: I tensorflow/compiler/xla/stream_executor/cuda/cuda_gpu_executor.cc:995] successful NUMA node read from SysFS had negative value (-1), but there must be at least one NUMA node, so returning NUMA node zero. See more at https://github.com/torvalds/linux/blob/v6.0/Documentation/ABI/testing/sysfs-bus-pci#L344-L355\n",
      "2023-07-06 21:41:25.276299: I tensorflow/compiler/xla/stream_executor/cuda/cuda_gpu_executor.cc:995] successful NUMA node read from SysFS had negative value (-1), but there must be at least one NUMA node, so returning NUMA node zero. See more at https://github.com/torvalds/linux/blob/v6.0/Documentation/ABI/testing/sysfs-bus-pci#L344-L355\n",
      "2023-07-06 21:41:25.276369: I tensorflow/compiler/xla/stream_executor/cuda/cuda_gpu_executor.cc:995] successful NUMA node read from SysFS had negative value (-1), but there must be at least one NUMA node, so returning NUMA node zero. See more at https://github.com/torvalds/linux/blob/v6.0/Documentation/ABI/testing/sysfs-bus-pci#L344-L355\n",
      "2023-07-06 21:41:25.276405: I tensorflow/compiler/xla/stream_executor/cuda/cuda_gpu_executor.cc:995] successful NUMA node read from SysFS had negative value (-1), but there must be at least one NUMA node, so returning NUMA node zero. See more at https://github.com/torvalds/linux/blob/v6.0/Documentation/ABI/testing/sysfs-bus-pci#L344-L355\n",
      "2023-07-06 21:41:25.544864: I tensorflow/compiler/xla/stream_executor/cuda/cuda_gpu_executor.cc:995] successful NUMA node read from SysFS had negative value (-1), but there must be at least one NUMA node, so returning NUMA node zero. See more at https://github.com/torvalds/linux/blob/v6.0/Documentation/ABI/testing/sysfs-bus-pci#L344-L355\n",
      "2023-07-06 21:41:25.544949: I tensorflow/compiler/xla/stream_executor/cuda/cuda_gpu_executor.cc:995] successful NUMA node read from SysFS had negative value (-1), but there must be at least one NUMA node, so returning NUMA node zero. See more at https://github.com/torvalds/linux/blob/v6.0/Documentation/ABI/testing/sysfs-bus-pci#L344-L355\n",
      "2023-07-06 21:41:25.544991: I tensorflow/compiler/xla/stream_executor/cuda/cuda_gpu_executor.cc:995] successful NUMA node read from SysFS had negative value (-1), but there must be at least one NUMA node, so returning NUMA node zero. See more at https://github.com/torvalds/linux/blob/v6.0/Documentation/ABI/testing/sysfs-bus-pci#L344-L355\n",
      "2023-07-06 21:41:25.545034: I tensorflow/core/common_runtime/gpu/gpu_device.cc:1639] Created device /job:localhost/replica:0/task:0/device:GPU:0 with 7377 MB memory:  -> device: 0, name: NVIDIA GeForce RTX 3080 Ti, pci bus id: 0000:01:00.0, compute capability: 8.6\n"
     ]
    }
   ],
   "source": [
    "import tensorflow as tf\n",
    "\n",
    "gpus = tf.config.list_physical_devices('GPU')\n",
    "if gpus:\n",
    "  try:\n",
    "    # Restrict TensorFlow to only use the first GPU\n",
    "    tf.config.set_visible_devices(gpus[0], 'GPU')\n",
    "\n",
    "    logical_gpus = tf.config.experimental.list_logical_devices('GPU')\n",
    "    print(len(gpus), \"Physical GPUs,\", len(logical_gpus), \"Logical GPU\")\n",
    "  except RuntimeError as e:\n",
    "    # Visible devices must be set before GPUs have been initialized\n",
    "    print(e)"
   ]
  },
  {
   "cell_type": "code",
   "execution_count": 3,
   "id": "e0c40067",
   "metadata": {},
   "outputs": [
    {
     "data": {
      "text/plain": [
       "[PhysicalDevice(name='/physical_device:GPU:0', device_type='GPU')]"
      ]
     },
     "execution_count": 3,
     "metadata": {},
     "output_type": "execute_result"
    }
   ],
   "source": [
    "gpus"
   ]
  },
  {
   "cell_type": "code",
   "execution_count": 4,
   "id": "4578ac9c",
   "metadata": {
    "scrolled": true
   },
   "outputs": [
    {
     "name": "stdout",
     "output_type": "stream",
     "text": [
      "Thu Jul  6 21:41:27 2023       \r\n",
      "+-----------------------------------------------------------------------------+\r\n",
      "| NVIDIA-SMI 525.60.11    Driver Version: 525.60.11    CUDA Version: 12.0     |\r\n",
      "|-------------------------------+----------------------+----------------------+\r\n",
      "| GPU  Name        Persistence-M| Bus-Id        Disp.A | Volatile Uncorr. ECC |\r\n",
      "| Fan  Temp  Perf  Pwr:Usage/Cap|         Memory-Usage | GPU-Util  Compute M. |\r\n",
      "|                               |                      |               MIG M. |\r\n",
      "|===============================+======================+======================|\r\n",
      "|   0  NVIDIA GeForce ...  Off  | 00000000:01:00.0  On |                  N/A |\r\n",
      "|  0%   50C    P2   114W / 350W |   3094MiB / 12288MiB |      4%      Default |\r\n",
      "|                               |                      |                  N/A |\r\n",
      "+-------------------------------+----------------------+----------------------+\r\n",
      "                                                                               \r\n",
      "+-----------------------------------------------------------------------------+\r\n",
      "| Processes:                                                                  |\r\n",
      "|  GPU   GI   CI        PID   Type   Process name                  GPU Memory |\r\n",
      "|        ID   ID                                                   Usage      |\r\n",
      "|=============================================================================|\r\n",
      "+-----------------------------------------------------------------------------+\r\n"
     ]
    }
   ],
   "source": [
    "!nvidia-smi"
   ]
  },
  {
   "cell_type": "code",
   "execution_count": 5,
   "id": "c3385596",
   "metadata": {},
   "outputs": [],
   "source": [
    "# !pip install scikit-learn"
   ]
  },
  {
   "cell_type": "code",
   "execution_count": 6,
   "id": "6786a0f2",
   "metadata": {},
   "outputs": [],
   "source": [
    "userName = passwords.userName\n",
    "userPass = passwords.userPass\n",
    "dataBaseName = passwords.dataBaseName\n",
    "host = passwords.host"
   ]
  },
  {
   "cell_type": "code",
   "execution_count": 7,
   "id": "976a0b1b",
   "metadata": {},
   "outputs": [],
   "source": [
    "db = DB(userName=userName, userPass=userPass, dataBaseName=dataBaseName, host='ibkr_db', docker=True)"
   ]
  },
  {
   "cell_type": "code",
   "execution_count": 8,
   "id": "99521d83",
   "metadata": {
    "scrolled": true
   },
   "outputs": [
    {
     "data": {
      "text/plain": [
       "['tickdata_jun29', 'tickdata_jul6']"
      ]
     },
     "execution_count": 8,
     "metadata": {},
     "output_type": "execute_result"
    }
   ],
   "source": [
    "db.tables"
   ]
  },
  {
   "cell_type": "code",
   "execution_count": 8,
   "id": "d40de832",
   "metadata": {},
   "outputs": [
    {
     "name": "stderr",
     "output_type": "stream",
     "text": [
      "/ibkr/databaseClass.py:111: UserWarning: pandas only supports SQLAlchemy connectable (engine/connection) or database string URI or sqlite3 DBAPI2 connection. Other DBAPI2 objects are not tested. Please consider using SQLAlchemy.\n",
      "  df = pd.read_sql_query(query, con=conn)\n"
     ]
    }
   ],
   "source": [
    "input_sql_file='../sql_files/test.sql'\n",
    "df = generate_df_from_sql_file(input_sql_file, db)"
   ]
  },
  {
   "cell_type": "code",
   "execution_count": 9,
   "id": "3d715640",
   "metadata": {
    "scrolled": false
   },
   "outputs": [
    {
     "data": {
      "text/html": [
       "<div>\n",
       "<style scoped>\n",
       "    .dataframe tbody tr th:only-of-type {\n",
       "        vertical-align: middle;\n",
       "    }\n",
       "\n",
       "    .dataframe tbody tr th {\n",
       "        vertical-align: top;\n",
       "    }\n",
       "\n",
       "    .dataframe thead th {\n",
       "        text-align: right;\n",
       "    }\n",
       "</style>\n",
       "<table border=\"1\" class=\"dataframe\">\n",
       "  <thead>\n",
       "    <tr style=\"text-align: right;\">\n",
       "      <th></th>\n",
       "      <th>ticktype</th>\n",
       "      <th>price</th>\n",
       "      <th>volume</th>\n",
       "      <th>timestamp</th>\n",
       "    </tr>\n",
       "  </thead>\n",
       "  <tbody>\n",
       "    <tr>\n",
       "      <th>0</th>\n",
       "      <td>1</td>\n",
       "      <td>4434.75</td>\n",
       "      <td>0</td>\n",
       "      <td>2023-06-29 22:44:07.806861</td>\n",
       "    </tr>\n",
       "    <tr>\n",
       "      <th>1</th>\n",
       "      <td>2</td>\n",
       "      <td>4435.00</td>\n",
       "      <td>0</td>\n",
       "      <td>2023-06-29 22:44:07.818198</td>\n",
       "    </tr>\n",
       "    <tr>\n",
       "      <th>2</th>\n",
       "      <td>4</td>\n",
       "      <td>4435.00</td>\n",
       "      <td>0</td>\n",
       "      <td>2023-06-29 22:44:07.824383</td>\n",
       "    </tr>\n",
       "    <tr>\n",
       "      <th>3</th>\n",
       "      <td>5</td>\n",
       "      <td>0.00</td>\n",
       "      <td>1</td>\n",
       "      <td>2023-06-29 22:44:07.829809</td>\n",
       "    </tr>\n",
       "    <tr>\n",
       "      <th>4</th>\n",
       "      <td>5</td>\n",
       "      <td>0.00</td>\n",
       "      <td>1</td>\n",
       "      <td>2023-06-29 22:44:07.838547</td>\n",
       "    </tr>\n",
       "    <tr>\n",
       "      <th>5</th>\n",
       "      <td>5</td>\n",
       "      <td>0.00</td>\n",
       "      <td>11</td>\n",
       "      <td>2023-06-29 22:44:10.894014</td>\n",
       "    </tr>\n",
       "    <tr>\n",
       "      <th>6</th>\n",
       "      <td>1</td>\n",
       "      <td>4435.00</td>\n",
       "      <td>0</td>\n",
       "      <td>2023-06-29 22:44:10.920193</td>\n",
       "    </tr>\n",
       "    <tr>\n",
       "      <th>7</th>\n",
       "      <td>2</td>\n",
       "      <td>4435.25</td>\n",
       "      <td>0</td>\n",
       "      <td>2023-06-29 22:44:10.926092</td>\n",
       "    </tr>\n",
       "    <tr>\n",
       "      <th>8</th>\n",
       "      <td>4</td>\n",
       "      <td>4435.25</td>\n",
       "      <td>0</td>\n",
       "      <td>2023-06-29 22:44:25.667186</td>\n",
       "    </tr>\n",
       "    <tr>\n",
       "      <th>9</th>\n",
       "      <td>5</td>\n",
       "      <td>0.00</td>\n",
       "      <td>1</td>\n",
       "      <td>2023-06-29 22:44:25.687053</td>\n",
       "    </tr>\n",
       "  </tbody>\n",
       "</table>\n",
       "</div>"
      ],
      "text/plain": [
       "   ticktype    price  volume                  timestamp\n",
       "0         1  4434.75       0 2023-06-29 22:44:07.806861\n",
       "1         2  4435.00       0 2023-06-29 22:44:07.818198\n",
       "2         4  4435.00       0 2023-06-29 22:44:07.824383\n",
       "3         5     0.00       1 2023-06-29 22:44:07.829809\n",
       "4         5     0.00       1 2023-06-29 22:44:07.838547\n",
       "5         5     0.00      11 2023-06-29 22:44:10.894014\n",
       "6         1  4435.00       0 2023-06-29 22:44:10.920193\n",
       "7         2  4435.25       0 2023-06-29 22:44:10.926092\n",
       "8         4  4435.25       0 2023-06-29 22:44:25.667186\n",
       "9         5     0.00       1 2023-06-29 22:44:25.687053"
      ]
     },
     "execution_count": 9,
     "metadata": {},
     "output_type": "execute_result"
    }
   ],
   "source": [
    "df.head(10)"
   ]
  },
  {
   "cell_type": "code",
   "execution_count": 14,
   "id": "79cd2cce",
   "metadata": {},
   "outputs": [],
   "source": [
    "def main_build_model(df, look_ahead=5):\n",
    "    \n",
    "    df['timestamp'] = df['timestamp'].dt.tz_localize('UTC') #adding this to update to utc\n",
    "\n",
    "    # Create a DataProcessor instance\n",
    "    processor = DataProcessor(df) \n",
    "    # Process the df\n",
    "    processor.process_df()\n",
    "    \n",
    "    # Scale and shift the data\n",
    "    scaler, close_scaler = processor.scale_shift_data(look_ahead)\n",
    "    # Create the X and y datasets\n",
    "    X, y = processor.scaled_df, processor.shifted_df['Close']\n",
    "    # Create train test split\n",
    "    X_train, X_test, y_train, y_test = processor.create_train_test_split(X, y)   \n",
    "    # Create final train and test datasets\n",
    "    TIME_STEPS = 60\n",
    "    X_train, y_train = processor.create_dataset(X_train, y=y_train, time_steps=TIME_STEPS, for_training=True, look_ahead=look_ahead)\n",
    "    X_test, y_test = processor.create_dataset(X_test, y=y_test, time_steps=TIME_STEPS, for_training=True, look_ahead=look_ahead)\n",
    "\n",
    "    # Number of features in the data\n",
    "    n_features = X_train.shape[2]\n",
    "    \n",
    "    # Create a ModelBuilder instance and build the model\n",
    "    builder = ModelBuilder(n_features, TIME_STEPS)\n",
    "    # Train the model\n",
    "    model, history = builder.train_model(X_train, y_train, X_test, y_test, epochs=50, batch_size=64)\n",
    "    # Save the model\n",
    "    model_path = '../models/model.h5'\n",
    "    builder.save_model(model_path)\n",
    "    # Plot loss\n",
    "    builder.plot_loss(history)\n"
   ]
  },
  {
   "cell_type": "code",
   "execution_count": 15,
   "id": "5d6be138",
   "metadata": {},
   "outputs": [
    {
     "name": "stdout",
     "output_type": "stream",
     "text": [
      "5\n"
     ]
    }
   ],
   "source": [
    "main_build_model(df, look_ahead=5)"
   ]
  },
  {
   "cell_type": "code",
   "execution_count": 10,
   "id": "d4a04746",
   "metadata": {},
   "outputs": [],
   "source": [
    "def main_build_model_with_hps(df, best_hps, look_ahead=5):\n",
    "    \n",
    "    df['timestamp'] = df['timestamp'].dt.tz_localize('UTC') #adding this to update to utc\n",
    "\n",
    "    # Create a DataProcessor instance\n",
    "    processor = DataProcessor(df) \n",
    "    # Process the df\n",
    "    processor.process_df()\n",
    "    \n",
    "    # Scale and shift the data\n",
    "    scaler, close_scaler = processor.scale_shift_data(look_ahead)\n",
    "    # Create the X and y datasets\n",
    "    X, y = processor.scaled_df, processor.shifted_df['Close']\n",
    "    # Create train test split\n",
    "    X_train, X_test, y_train, y_test = processor.create_train_test_split(X, y)   \n",
    "    # Create final train and test datasets\n",
    "    TIME_STEPS = 60\n",
    "    X_train, y_train = processor.create_dataset(X_train, y=y_train, time_steps=TIME_STEPS, for_training=True, look_ahead=look_ahead)\n",
    "    X_test, y_test = processor.create_dataset(X_test, y=y_test, time_steps=TIME_STEPS, for_training=True, look_ahead=look_ahead)\n",
    "\n",
    "    # Number of features in the data\n",
    "    n_features = X_train.shape[2]\n",
    "    \n",
    "    # Create a ModelBuilder instance and build the model\n",
    "    builder = ModelBuilder(n_features, TIME_STEPS)\n",
    "    # Train the model\n",
    "    model, history = builder.train_model(X_train, y_train, X_test, y_test, epochs=50, batch_size=64, best_hps=best_hps)\n",
    "    # Save the model\n",
    "    model_path = '../models/model.h5'\n",
    "    builder.save_model(model_path)\n",
    "    # Plot loss\n",
    "    builder.plot_loss(history)"
   ]
  },
  {
   "cell_type": "code",
   "execution_count": 25,
   "id": "df7fbb78",
   "metadata": {},
   "outputs": [
    {
     "name": "stderr",
     "output_type": "stream",
     "text": [
      "/ibkr/databaseClass.py:111: UserWarning: pandas only supports SQLAlchemy connectable (engine/connection) or database string URI or sqlite3 DBAPI2 connection. Other DBAPI2 objects are not tested. Please consider using SQLAlchemy.\n",
      "  df = pd.read_sql_query(query, con=conn)\n"
     ]
    },
    {
     "name": "stdout",
     "output_type": "stream",
     "text": [
      "Epoch 1/50\n",
      "74/74 [==============================] - 2s 18ms/step - loss: 0.0129 - val_loss: 0.0052\n",
      "Epoch 2/50\n",
      "74/74 [==============================] - 1s 20ms/step - loss: 0.0102 - val_loss: 0.0457\n",
      "Epoch 3/50\n",
      "74/74 [==============================] - 1s 19ms/step - loss: 0.0121 - val_loss: 0.0919\n",
      "Epoch 4/50\n",
      "74/74 [==============================] - 1s 18ms/step - loss: 0.0107 - val_loss: 0.1458\n",
      "Epoch 5/50\n",
      "74/74 [==============================] - 1s 19ms/step - loss: 0.0123 - val_loss: 0.2173\n",
      "Epoch 6/50\n",
      "74/74 [==============================] - 1s 19ms/step - loss: 0.0151 - val_loss: 0.2436\n",
      "Epoch 7/50\n",
      "74/74 [==============================] - 1s 19ms/step - loss: 0.0181 - val_loss: 0.1834\n",
      "Epoch 8/50\n",
      "74/74 [==============================] - 1s 19ms/step - loss: 0.0137 - val_loss: 0.1764\n",
      "Epoch 9/50\n",
      "74/74 [==============================] - 1s 19ms/step - loss: 0.0133 - val_loss: 0.1775\n",
      "Epoch 10/50\n",
      "74/74 [==============================] - 1s 20ms/step - loss: 0.0126 - val_loss: 0.2112\n",
      "Epoch 11/50\n",
      "74/74 [==============================] - 1s 18ms/step - loss: 0.0142 - val_loss: 0.1762\n",
      "Epoch 12/50\n",
      "74/74 [==============================] - 1s 19ms/step - loss: 0.0125 - val_loss: 0.1741\n",
      "Epoch 13/50\n",
      "74/74 [==============================] - 1s 19ms/step - loss: 0.0123 - val_loss: 0.1770\n",
      "Epoch 14/50\n",
      "74/74 [==============================] - 1s 19ms/step - loss: 0.0114 - val_loss: 0.1869\n",
      "Epoch 15/50\n",
      "74/74 [==============================] - 1s 19ms/step - loss: 0.0107 - val_loss: 0.1759\n",
      "Epoch 16/50\n",
      "74/74 [==============================] - 1s 18ms/step - loss: 0.0115 - val_loss: 0.1806\n",
      "Epoch 17/50\n",
      "74/74 [==============================] - 1s 19ms/step - loss: 0.0122 - val_loss: 0.2022\n",
      "Epoch 18/50\n",
      "74/74 [==============================] - 1s 19ms/step - loss: 0.0133 - val_loss: 0.1923\n",
      "Epoch 19/50\n",
      "74/74 [==============================] - 1s 18ms/step - loss: 0.0118 - val_loss: 0.1794\n",
      "Epoch 20/50\n",
      "74/74 [==============================] - 1s 19ms/step - loss: 0.0113 - val_loss: 0.2126\n",
      "Epoch 21/50\n",
      "74/74 [==============================] - 1s 19ms/step - loss: 0.0117 - val_loss: 0.2010\n",
      "Epoch 22/50\n",
      "74/74 [==============================] - 1s 19ms/step - loss: 0.0131 - val_loss: 0.1926\n",
      "Epoch 23/50\n",
      "74/74 [==============================] - 1s 19ms/step - loss: 0.0115 - val_loss: 0.1690\n",
      "Epoch 24/50\n",
      "74/74 [==============================] - 1s 19ms/step - loss: 0.0109 - val_loss: 0.2060\n",
      "Epoch 25/50\n",
      "74/74 [==============================] - 1s 19ms/step - loss: 0.0150 - val_loss: 0.2199\n",
      "Epoch 26/50\n",
      "74/74 [==============================] - 1s 19ms/step - loss: 0.0114 - val_loss: 0.2259\n",
      "Epoch 27/50\n",
      "74/74 [==============================] - 1s 18ms/step - loss: 0.0145 - val_loss: 0.2363\n",
      "Epoch 28/50\n",
      "74/74 [==============================] - 1s 19ms/step - loss: 0.0153 - val_loss: 0.2342\n",
      "Epoch 29/50\n",
      "74/74 [==============================] - 1s 19ms/step - loss: 0.0152 - val_loss: 0.2331\n",
      "Epoch 30/50\n",
      "74/74 [==============================] - 2s 21ms/step - loss: 0.0152 - val_loss: 0.2321\n",
      "Epoch 31/50\n",
      "74/74 [==============================] - 1s 19ms/step - loss: 0.0151 - val_loss: 0.2313\n",
      "Epoch 32/50\n",
      "74/74 [==============================] - 1s 19ms/step - loss: 0.0151 - val_loss: 0.2306\n",
      "Epoch 33/50\n",
      "74/74 [==============================] - 1s 19ms/step - loss: 0.0151 - val_loss: 0.2300\n",
      "Epoch 34/50\n",
      "74/74 [==============================] - 1s 19ms/step - loss: 0.0150 - val_loss: 0.2295\n",
      "Epoch 35/50\n",
      "74/74 [==============================] - 1s 19ms/step - loss: 0.0150 - val_loss: 0.2290\n",
      "Epoch 36/50\n",
      "74/74 [==============================] - 1s 18ms/step - loss: 0.0150 - val_loss: 0.2286\n",
      "Epoch 37/50\n",
      "74/74 [==============================] - 1s 19ms/step - loss: 0.0150 - val_loss: 0.2283\n",
      "Epoch 38/50\n",
      "74/74 [==============================] - 1s 19ms/step - loss: 0.0150 - val_loss: 0.2279\n",
      "Epoch 39/50\n",
      "74/74 [==============================] - 1s 19ms/step - loss: 0.0149 - val_loss: 0.2276\n",
      "Epoch 40/50\n",
      "74/74 [==============================] - 1s 19ms/step - loss: 0.0149 - val_loss: 0.2273\n",
      "Epoch 41/50\n",
      "74/74 [==============================] - 1s 19ms/step - loss: 0.0149 - val_loss: 0.2270\n",
      "Epoch 42/50\n",
      "74/74 [==============================] - 2s 20ms/step - loss: 0.0149 - val_loss: 0.2268\n",
      "Epoch 43/50\n",
      "74/74 [==============================] - 1s 19ms/step - loss: 0.0149 - val_loss: 0.2265\n",
      "Epoch 44/50\n",
      "74/74 [==============================] - 1s 19ms/step - loss: 0.0149 - val_loss: 0.2263\n",
      "Epoch 45/50\n",
      "74/74 [==============================] - 1s 19ms/step - loss: 0.0149 - val_loss: 0.2261\n",
      "Epoch 46/50\n",
      "74/74 [==============================] - 1s 19ms/step - loss: 0.0149 - val_loss: 0.2259\n",
      "Epoch 47/50\n",
      "74/74 [==============================] - 1s 19ms/step - loss: 0.0149 - val_loss: 0.2257\n",
      "Epoch 48/50\n",
      "74/74 [==============================] - 2s 21ms/step - loss: 0.0148 - val_loss: 0.2255\n",
      "Epoch 49/50\n",
      "74/74 [==============================] - 1s 19ms/step - loss: 0.0148 - val_loss: 0.2253\n",
      "Epoch 50/50\n",
      "74/74 [==============================] - 1s 19ms/step - loss: 0.0148 - val_loss: 0.2252\n"
     ]
    },
    {
     "name": "stderr",
     "output_type": "stream",
     "text": [
      "/usr/local/lib/python3.8/dist-packages/keras/src/engine/training.py:3000: UserWarning: You are saving your model as an HDF5 file via `model.save()`. This file format is considered legacy. We recommend using instead the native Keras format, e.g. `model.save('my_model.keras')`.\n",
      "  saving_api.save_model(\n"
     ]
    },
    {
     "data": {
      "image/png": "[encoded data removed]",
      "text/plain": [
       "<Figure size 640x480 with 1 Axes>"
      ]
     },
     "metadata": {},
     "output_type": "display_data"
    }
   ],
   "source": [
    "input_sql_file='../sql_files/test.sql'\n",
    "df = generate_df_from_sql_file(input_sql_file, db)\n",
    "main_build_model_with_hps(df, best_hps, look_ahead=5)"
   ]
  },
  {
   "cell_type": "code",
   "execution_count": 11,
   "id": "54cbec9d",
   "metadata": {
    "scrolled": true
   },
   "outputs": [
    {
     "name": "stderr",
     "output_type": "stream",
     "text": [
      "/ibkr/databaseClass.py:111: UserWarning: pandas only supports SQLAlchemy connectable (engine/connection) or database string URI or sqlite3 DBAPI2 connection. Other DBAPI2 objects are not tested. Please consider using SQLAlchemy.\n",
      "  df = pd.read_sql_query(query, con=conn)\n"
     ]
    },
    {
     "name": "stdout",
     "output_type": "stream",
     "text": [
      "Epoch 1/50\n"
     ]
    },
    {
     "name": "stderr",
     "output_type": "stream",
     "text": [
      "2023-07-06 21:41:41.287196: I tensorflow/compiler/xla/stream_executor/cuda/cuda_dnn.cc:432] Loaded cuDNN version 8600\n",
      "2023-07-06 21:41:41.354172: I tensorflow/compiler/xla/stream_executor/cuda/cuda_blas.cc:606] TensorFloat-32 will be used for the matrix multiplication. This will only be logged once.\n",
      "2023-07-06 21:41:41.461840: I tensorflow/compiler/xla/service/service.cc:168] XLA service 0x630ba6f0 initialized for platform CUDA (this does not guarantee that XLA will be used). Devices:\n",
      "2023-07-06 21:41:41.461855: I tensorflow/compiler/xla/service/service.cc:176]   StreamExecutor device (0): NVIDIA GeForce RTX 3080 Ti, Compute Capability 8.6\n",
      "2023-07-06 21:41:41.464497: I tensorflow/compiler/mlir/tensorflow/utils/dump_mlir_util.cc:255] disabling MLIR crash reproducer, set env var `MLIR_CRASH_REPRODUCER_DIRECTORY` to enable.\n",
      "2023-07-06 21:41:41.519840: I ./tensorflow/compiler/jit/device_compiler.h:186] Compiled cluster using XLA!  This line is logged at most once for the lifetime of the process.\n"
     ]
    },
    {
     "name": "stdout",
     "output_type": "stream",
     "text": [
      "WARNING:tensorflow:5 out of the last 5 calls to <function _BaseOptimizer._update_step_xla at 0x7f06caf05550> triggered tf.function retracing. Tracing is expensive and the excessive number of tracings could be due to (1) creating @tf.function repeatedly in a loop, (2) passing tensors with different shapes, (3) passing Python objects instead of tensors. For (1), please define your @tf.function outside of the loop. For (2), @tf.function has reduce_retracing=True option that can avoid unnecessary retracing. For (3), please refer to https://www.tensorflow.org/guide/function#controlling_retracing and https://www.tensorflow.org/api_docs/python/tf/function for  more details.\n",
      "WARNING:tensorflow:6 out of the last 6 calls to <function _BaseOptimizer._update_step_xla at 0x7f06caf05550> triggered tf.function retracing. Tracing is expensive and the excessive number of tracings could be due to (1) creating @tf.function repeatedly in a loop, (2) passing tensors with different shapes, (3) passing Python objects instead of tensors. For (1), please define your @tf.function outside of the loop. For (2), @tf.function has reduce_retracing=True option that can avoid unnecessary retracing. For (3), please refer to https://www.tensorflow.org/guide/function#controlling_retracing and https://www.tensorflow.org/api_docs/python/tf/function for  more details.\n",
      "74/74 [==============================] - 3s 19ms/step - loss: 0.0134 - val_loss: 0.0129\n",
      "Epoch 2/50\n",
      "74/74 [==============================] - 1s 18ms/step - loss: 0.0081 - val_loss: 0.0333\n",
      "Epoch 3/50\n",
      "74/74 [==============================] - 1s 18ms/step - loss: 0.0068 - val_loss: 0.0452\n",
      "Epoch 4/50\n",
      "74/74 [==============================] - 1s 18ms/step - loss: 0.0071 - val_loss: 0.0618\n",
      "Epoch 5/50\n",
      "74/74 [==============================] - 1s 18ms/step - loss: 0.0070 - val_loss: 0.0771\n",
      "Epoch 6/50\n",
      "74/74 [==============================] - 1s 18ms/step - loss: 0.0115 - val_loss: 0.1440\n",
      "Epoch 7/50\n",
      "74/74 [==============================] - 1s 18ms/step - loss: 0.0158 - val_loss: 0.1472\n",
      "Epoch 8/50\n",
      "74/74 [==============================] - 1s 18ms/step - loss: 0.0136 - val_loss: 0.1247\n",
      "Epoch 9/50\n",
      "74/74 [==============================] - 1s 18ms/step - loss: 0.0116 - val_loss: 0.1223\n",
      "Epoch 10/50\n",
      "74/74 [==============================] - 1s 19ms/step - loss: 0.0111 - val_loss: 0.1181\n",
      "Epoch 11/50\n",
      "74/74 [==============================] - 1s 18ms/step - loss: 0.0106 - val_loss: 0.1155\n",
      "Epoch 12/50\n",
      "74/74 [==============================] - 1s 19ms/step - loss: 0.0106 - val_loss: 0.1156\n",
      "Epoch 13/50\n",
      "74/74 [==============================] - 1s 19ms/step - loss: 0.0108 - val_loss: 0.1101\n",
      "Epoch 14/50\n",
      "74/74 [==============================] - 1s 18ms/step - loss: 0.0096 - val_loss: 0.1028\n",
      "Epoch 15/50\n",
      "74/74 [==============================] - 1s 19ms/step - loss: 0.0091 - val_loss: 0.0931\n",
      "Epoch 16/50\n",
      "74/74 [==============================] - 1s 19ms/step - loss: 0.0089 - val_loss: 0.0905\n",
      "Epoch 17/50\n",
      "74/74 [==============================] - 1s 18ms/step - loss: 0.0085 - val_loss: 0.0797\n",
      "Epoch 18/50\n",
      "74/74 [==============================] - 1s 19ms/step - loss: 0.0076 - val_loss: 0.0736\n",
      "Epoch 19/50\n",
      "74/74 [==============================] - 1s 19ms/step - loss: 0.0073 - val_loss: 0.0623\n",
      "Epoch 20/50\n",
      "74/74 [==============================] - 1s 19ms/step - loss: 0.0066 - val_loss: 0.0513\n",
      "Epoch 21/50\n",
      "74/74 [==============================] - 1s 19ms/step - loss: 0.0057 - val_loss: 0.0380\n",
      "Epoch 22/50\n",
      "74/74 [==============================] - 1s 19ms/step - loss: 0.0046 - val_loss: 0.0252\n",
      "Epoch 23/50\n",
      "74/74 [==============================] - 1s 19ms/step - loss: 0.0035 - val_loss: 0.0158\n",
      "Epoch 24/50\n",
      "74/74 [==============================] - 1s 19ms/step - loss: 0.0028 - val_loss: 0.0126\n",
      "Epoch 25/50\n",
      "74/74 [==============================] - 1s 19ms/step - loss: 0.0027 - val_loss: 0.0096\n",
      "Epoch 26/50\n",
      "74/74 [==============================] - 1s 19ms/step - loss: 0.0027 - val_loss: 0.0096\n",
      "Epoch 27/50\n",
      "74/74 [==============================] - 1s 19ms/step - loss: 0.0027 - val_loss: 0.0088\n",
      "Epoch 28/50\n",
      "74/74 [==============================] - 1s 19ms/step - loss: 0.0026 - val_loss: 0.0065\n",
      "Epoch 29/50\n",
      "74/74 [==============================] - 1s 19ms/step - loss: 0.0024 - val_loss: 0.0067\n",
      "Epoch 30/50\n",
      "74/74 [==============================] - 1s 19ms/step - loss: 0.0024 - val_loss: 0.0053\n",
      "Epoch 31/50\n",
      "74/74 [==============================] - 1s 19ms/step - loss: 0.0024 - val_loss: 0.0046\n",
      "Epoch 32/50\n",
      "74/74 [==============================] - 1s 19ms/step - loss: 0.0023 - val_loss: 0.0036\n",
      "Epoch 33/50\n",
      "74/74 [==============================] - 1s 19ms/step - loss: 0.0022 - val_loss: 0.0051\n",
      "Epoch 34/50\n",
      "74/74 [==============================] - 1s 19ms/step - loss: 0.0023 - val_loss: 0.0057\n",
      "Epoch 35/50\n",
      "74/74 [==============================] - 1s 19ms/step - loss: 0.0023 - val_loss: 0.0074\n",
      "Epoch 36/50\n",
      "74/74 [==============================] - 1s 19ms/step - loss: 0.0022 - val_loss: 0.0041\n",
      "Epoch 37/50\n",
      "74/74 [==============================] - 1s 19ms/step - loss: 0.0024 - val_loss: 0.0058\n",
      "Epoch 38/50\n",
      "74/74 [==============================] - 1s 19ms/step - loss: 0.0023 - val_loss: 0.0035\n",
      "Epoch 39/50\n",
      "74/74 [==============================] - 1s 19ms/step - loss: 0.0021 - val_loss: 0.0064\n",
      "Epoch 40/50\n",
      "74/74 [==============================] - 1s 19ms/step - loss: 0.0021 - val_loss: 0.0039\n",
      "Epoch 41/50\n",
      "74/74 [==============================] - 1s 18ms/step - loss: 0.0022 - val_loss: 0.0058\n",
      "Epoch 42/50\n",
      "74/74 [==============================] - 1s 19ms/step - loss: 0.0021 - val_loss: 0.0049\n",
      "Epoch 43/50\n",
      "74/74 [==============================] - 1s 19ms/step - loss: 0.0021 - val_loss: 0.0037\n",
      "Epoch 44/50\n",
      "74/74 [==============================] - 1s 19ms/step - loss: 0.0021 - val_loss: 0.0044\n",
      "Epoch 45/50\n",
      "74/74 [==============================] - 1s 19ms/step - loss: 0.0017 - val_loss: 0.0033\n",
      "Epoch 46/50\n",
      "74/74 [==============================] - 1s 19ms/step - loss: 0.0018 - val_loss: 0.0039\n",
      "Epoch 47/50\n",
      "74/74 [==============================] - 1s 19ms/step - loss: 0.0021 - val_loss: 0.0082\n",
      "Epoch 48/50\n",
      "74/74 [==============================] - 1s 19ms/step - loss: 0.0022 - val_loss: 0.0065\n",
      "Epoch 49/50\n",
      "74/74 [==============================] - 1s 20ms/step - loss: 0.0019 - val_loss: 0.0047\n",
      "Epoch 50/50\n",
      "74/74 [==============================] - 1s 19ms/step - loss: 0.0018 - val_loss: 0.0039\n"
     ]
    },
    {
     "name": "stderr",
     "output_type": "stream",
     "text": [
      "/usr/local/lib/python3.8/dist-packages/keras/src/engine/training.py:3000: UserWarning: You are saving your model as an HDF5 file via `model.save()`. This file format is considered legacy. We recommend using instead the native Keras format, e.g. `model.save('my_model.keras')`.\n",
      "  saving_api.save_model(\n"
     ]
    },
    {
     "data": {
      "image/png": "[encoded data removed]",
      "text/plain": [
       "<Figure size 640x480 with 1 Axes>"
      ]
     },
     "metadata": {},
     "output_type": "display_data"
    }
   ],
   "source": [
    "input_sql_file='../sql_files/test.sql'\n",
    "df = generate_df_from_sql_file(input_sql_file, db)\n",
    "main_build_model(df, 5)"
   ]
  },
  {
   "cell_type": "code",
   "execution_count": 11,
   "id": "c1d5d0db",
   "metadata": {},
   "outputs": [
    {
     "data": {
      "text/html": [
       "<div>\n",
       "<style scoped>\n",
       "    .dataframe tbody tr th:only-of-type {\n",
       "        vertical-align: middle;\n",
       "    }\n",
       "\n",
       "    .dataframe tbody tr th {\n",
       "        vertical-align: top;\n",
       "    }\n",
       "\n",
       "    .dataframe thead th {\n",
       "        text-align: right;\n",
       "    }\n",
       "</style>\n",
       "<table border=\"1\" class=\"dataframe\">\n",
       "  <thead>\n",
       "    <tr style=\"text-align: right;\">\n",
       "      <th></th>\n",
       "      <th>ticktype</th>\n",
       "      <th>price</th>\n",
       "      <th>volume</th>\n",
       "      <th>timestamp</th>\n",
       "    </tr>\n",
       "  </thead>\n",
       "  <tbody>\n",
       "    <tr>\n",
       "      <th>0</th>\n",
       "      <td>1</td>\n",
       "      <td>4434.75</td>\n",
       "      <td>0</td>\n",
       "      <td>2023-06-29 22:44:07.806861+00:00</td>\n",
       "    </tr>\n",
       "    <tr>\n",
       "      <th>1</th>\n",
       "      <td>2</td>\n",
       "      <td>4435.00</td>\n",
       "      <td>0</td>\n",
       "      <td>2023-06-29 22:44:07.818198+00:00</td>\n",
       "    </tr>\n",
       "    <tr>\n",
       "      <th>2</th>\n",
       "      <td>4</td>\n",
       "      <td>4435.00</td>\n",
       "      <td>0</td>\n",
       "      <td>2023-06-29 22:44:07.824383+00:00</td>\n",
       "    </tr>\n",
       "    <tr>\n",
       "      <th>3</th>\n",
       "      <td>5</td>\n",
       "      <td>0.00</td>\n",
       "      <td>1</td>\n",
       "      <td>2023-06-29 22:44:07.829809+00:00</td>\n",
       "    </tr>\n",
       "    <tr>\n",
       "      <th>4</th>\n",
       "      <td>5</td>\n",
       "      <td>0.00</td>\n",
       "      <td>1</td>\n",
       "      <td>2023-06-29 22:44:07.838547+00:00</td>\n",
       "    </tr>\n",
       "  </tbody>\n",
       "</table>\n",
       "</div>"
      ],
      "text/plain": [
       "   ticktype    price  volume                        timestamp\n",
       "0         1  4434.75       0 2023-06-29 22:44:07.806861+00:00\n",
       "1         2  4435.00       0 2023-06-29 22:44:07.818198+00:00\n",
       "2         4  4435.00       0 2023-06-29 22:44:07.824383+00:00\n",
       "3         5     0.00       1 2023-06-29 22:44:07.829809+00:00\n",
       "4         5     0.00       1 2023-06-29 22:44:07.838547+00:00"
      ]
     },
     "execution_count": 11,
     "metadata": {},
     "output_type": "execute_result"
    }
   ],
   "source": [
    "df.head()"
   ]
  },
  {
   "cell_type": "code",
   "execution_count": 14,
   "id": "1fd98a26",
   "metadata": {},
   "outputs": [],
   "source": [
    "def main_hp_tuning(df, look_ahead, time_steps=60):\n",
    "    # Create an instance of the DataProcessor class\n",
    "    df['timestamp'] = df['timestamp'].dt.tz_localize('UTC') #adding this to update to utc\n",
    "    data_processor = DataProcessor(df)\n",
    "\n",
    "    # Process the dataframe\n",
    "    data_processor.process_df()\n",
    "\n",
    "    # Normalize and shift the data\n",
    "    scaler, close_scaler = data_processor.scale_shift_data(look_ahead)\n",
    "\n",
    "    # Create the dataset\n",
    "    X, y = data_processor.create_dataset(data_processor.scaled_df, time_steps, y=data_processor.shifted_df['Close'], look_ahead=look_ahead)\n",
    "\n",
    "    # Calculate train size\n",
    "    train_ratio = 0.8\n",
    "    train_size = int(len(X) * train_ratio)\n",
    "\n",
    "    # Split the data into train and test sets using numpy indexing\n",
    "    X_train, X_test = X[:train_size], X[train_size:]\n",
    "    y_train, y_test = y[:train_size], y[train_size:]\n",
    "\n",
    "    n_features = X_train.shape[2]\n",
    "\n",
    "    # Create a ModelBuilder instance\n",
    "    model_builder = ModelBuilder(n_features, time_steps)\n",
    "\n",
    "    # Perform hyperparameter tuning\n",
    "    best_hps = model_builder.perform_hyperparameter_tuning(X_train, y_train, X_test, y_test)\n",
    "\n",
    "#     # Print the best hyperparameters\n",
    "#     print(f\"\"\"\n",
    "#     The hyperparameter search is complete. The optimal number of LSTM layers is {best_hps.get('num_layers')}, and the optimal number of units in each layer is {best_hps.get('units')}. The optimal learning rate for the optimizer is {best_hps.get('learning_rate')}.\n",
    "#     \"\"\")\n",
    "\n",
    "    return best_hps"
   ]
  },
  {
   "cell_type": "code",
   "execution_count": 15,
   "id": "25e8ac3d",
   "metadata": {},
   "outputs": [
    {
     "name": "stderr",
     "output_type": "stream",
     "text": [
      "/ibkr/databaseClass.py:111: UserWarning: pandas only supports SQLAlchemy connectable (engine/connection) or database string URI or sqlite3 DBAPI2 connection. Other DBAPI2 objects are not tested. Please consider using SQLAlchemy.\n",
      "  df = pd.read_sql_query(query, con=conn)\n"
     ]
    },
    {
     "name": "stdout",
     "output_type": "stream",
     "text": [
      "INFO:tensorflow:Reloading Tuner from random_search/stock_price_prediction/tuner0.json\n",
      "INFO:tensorflow:Oracle triggered exit\n"
     ]
    }
   ],
   "source": [
    "input_sql_file='../sql_files/test.sql'\n",
    "df = generate_df_from_sql_file(input_sql_file, db)\n",
    "\n",
    "best_hps = main_hp_tuning(df, 5, 60)"
   ]
  },
  {
   "cell_type": "code",
   "execution_count": 10,
   "id": "1ab52bcc",
   "metadata": {},
   "outputs": [
    {
     "ename": "NameError",
     "evalue": "name 'model_builder' is not defined",
     "output_type": "error",
     "traceback": [
      "\u001b[0;31m---------------------------------------------------------------------------\u001b[0m",
      "\u001b[0;31mNameError\u001b[0m                                 Traceback (most recent call last)",
      "Cell \u001b[0;32mIn[10], line 1\u001b[0m\n\u001b[0;32m----> 1\u001b[0m best_hps \u001b[38;5;241m=\u001b[39m \u001b[43mmodel_builder\u001b[49m\u001b[38;5;241m.\u001b[39mtuner\u001b[38;5;241m.\u001b[39mget_best_hyperparameters(num_trials\u001b[38;5;241m=\u001b[39m\u001b[38;5;241m1\u001b[39m)[\u001b[38;5;241m0\u001b[39m]\n\u001b[1;32m      2\u001b[0m \u001b[38;5;28mprint\u001b[39m(best_hps)\n",
      "\u001b[0;31mNameError\u001b[0m: name 'model_builder' is not defined"
     ]
    }
   ],
   "source": [
    "best_hps = model_builder.tuner.get_best_hyperparameters(num_trials=1)[0]\n",
    "print(best_hps)"
   ]
  },
  {
   "cell_type": "code",
   "execution_count": 21,
   "id": "b7267c7d",
   "metadata": {},
   "outputs": [
    {
     "data": {
      "text/plain": [
       "{'units_1': 320,\n",
       " 'dropout_1': 0.0,\n",
       " 'units_2': 512,\n",
       " 'dropout_2': 0.0,\n",
       " 'units_3': 64,\n",
       " 'dropout_3': 0.30000000000000004,\n",
       " 'dense_units': 32}"
      ]
     },
     "execution_count": 21,
     "metadata": {},
     "output_type": "execute_result"
    }
   ],
   "source": [
    "best_hps.values"
   ]
  },
  {
   "cell_type": "code",
   "execution_count": null,
   "id": "a41b2e7b",
   "metadata": {},
   "outputs": [],
   "source": []
  }
 ],
 "metadata": {
  "kernelspec": {
   "display_name": "Python 3 (ipykernel)",
   "language": "python",
   "name": "python3"
  },
  "language_info": {
   "codemirror_mode": {
    "name": "ipython",
    "version": 3
   },
   "file_extension": ".py",
   "mimetype": "text/x-python",
   "name": "python",
   "nbconvert_exporter": "python",
   "pygments_lexer": "ipython3",
   "version": "3.8.10"
  }
 },
 "nbformat": 4,
 "nbformat_minor": 5
}
