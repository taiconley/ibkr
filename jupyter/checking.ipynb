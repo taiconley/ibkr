{
 "cells": [
  {
   "cell_type": "code",
   "execution_count": null,
   "metadata": {},
   "outputs": [],
   "source": [
    "!pip install protobuf==3.20.0"
   ]
  },
  {
   "cell_type": "code",
   "execution_count": 1,
   "metadata": {},
   "outputs": [],
   "source": [
    "import sys\n",
    "sys.path.append(\"/ibkr\")"
   ]
  },
  {
   "cell_type": "code",
   "execution_count": 2,
   "metadata": {},
   "outputs": [
    {
     "name": "stdout",
     "output_type": "stream",
     "text": [
      "/ibkr/jupyter\r\n"
     ]
    }
   ],
   "source": [
    "!pwd"
   ]
  },
  {
   "cell_type": "code",
   "execution_count": 3,
   "metadata": {},
   "outputs": [
    {
     "name": "stderr",
     "output_type": "stream",
     "text": [
      "/usr/lib/python3/dist-packages/requests/__init__.py:89: RequestsDependencyWarning: urllib3 (2.0.3) or chardet (3.0.4) doesn't match a supported version!\n",
      "  warnings.warn(\"urllib3 ({}) or chardet ({}) doesn't match a supported \"\n"
     ]
    }
   ],
   "source": [
    "import time\n",
    "import datetime\n",
    "import pandas as pd\n",
    "from databaseClass import DB\n",
    "import passwords\n",
    "from utils import DataProcessor\n",
    "from utils import ModelBuilder\n",
    "from utils import Predictor\n",
    "from sklearn.preprocessing import MinMaxScaler\n",
    "from sklearn.model_selection import train_test_split\n",
    "import sklearn\n",
    "import pytz\n",
    "from joblib import dump, load"
   ]
  },
  {
   "cell_type": "code",
   "execution_count": 4,
   "metadata": {},
   "outputs": [],
   "source": [
    "userName = passwords.userName\n",
    "userPass = passwords.userPass\n",
    "dataBaseName = passwords.dataBaseName\n",
    "host = passwords.host"
   ]
  },
  {
   "cell_type": "code",
   "execution_count": 5,
   "metadata": {},
   "outputs": [],
   "source": [
    "db = DB(userName=userName, userPass=userPass, dataBaseName=dataBaseName, host=host, docker=True)"
   ]
  },
  {
   "cell_type": "code",
   "execution_count": null,
   "metadata": {},
   "outputs": [],
   "source": [
    "2023-06-21 20:57:03.165"
   ]
  },
  {
   "cell_type": "code",
   "execution_count": 5,
   "metadata": {},
   "outputs": [],
   "source": [
    "now = datetime.datetime(2023, 6, 21, 20, 57, 3, 410027, pytz.UTC) # for testing\n",
    "five_minutes_ago = now - datetime.timedelta(minutes=5)"
   ]
  },
  {
   "cell_type": "code",
   "execution_count": 6,
   "metadata": {},
   "outputs": [
    {
     "name": "stderr",
     "output_type": "stream",
     "text": [
      "/ibkr/databaseClass.py:111: UserWarning: pandas only supports SQLAlchemy connectable (engine/connection) or database string URI or sqlite3 DBAPI2 connection. Other DBAPI2 objects are not tested. Please consider using SQLAlchemy.\n",
      "  df = pd.read_sql_query(query, con=conn)\n"
     ]
    }
   ],
   "source": [
    "df = db.DBtoDF(f\"SELECT * FROM tickdata_jun21 WHERE timestamp BETWEEN '{five_minutes_ago}' AND '{now}'\")"
   ]
  },
  {
   "cell_type": "code",
   "execution_count": 8,
   "metadata": {
    "scrolled": true
   },
   "outputs": [
    {
     "name": "stdout",
     "output_type": "stream",
     "text": [
      "<class 'pandas.core.frame.DataFrame'>\n",
      "RangeIndex: 241 entries, 0 to 240\n",
      "Data columns (total 4 columns):\n",
      " #   Column     Non-Null Count  Dtype         \n",
      "---  ------     --------------  -----         \n",
      " 0   ticktype   241 non-null    int64         \n",
      " 1   price      241 non-null    float64       \n",
      " 2   volume     241 non-null    int64         \n",
      " 3   timestamp  241 non-null    datetime64[ns]\n",
      "dtypes: datetime64[ns](1), float64(1), int64(2)\n",
      "memory usage: 7.7 KB\n"
     ]
    }
   ],
   "source": [
    "df.info()"
   ]
  },
  {
   "cell_type": "code",
   "execution_count": 10,
   "metadata": {},
   "outputs": [
    {
     "name": "stderr",
     "output_type": "stream",
     "text": [
      "/ibkr/databaseClass.py:111: UserWarning: pandas only supports SQLAlchemy connectable (engine/connection) or database string URI or sqlite3 DBAPI2 connection. Other DBAPI2 objects are not tested. Please consider using SQLAlchemy.\n",
      "  df = pd.read_sql_query(query, con=conn)\n"
     ]
    }
   ],
   "source": [
    "df = db.DBtoDF(f\"SELECT * FROM tickdata_jun21\")"
   ]
  },
  {
   "cell_type": "code",
   "execution_count": 11,
   "metadata": {
    "scrolled": true
   },
   "outputs": [
    {
     "name": "stdout",
     "output_type": "stream",
     "text": [
      "<class 'pandas.core.frame.DataFrame'>\n",
      "RangeIndex: 1582 entries, 0 to 1581\n",
      "Data columns (total 4 columns):\n",
      " #   Column     Non-Null Count  Dtype         \n",
      "---  ------     --------------  -----         \n",
      " 0   ticktype   1582 non-null   int64         \n",
      " 1   price      1582 non-null   float64       \n",
      " 2   volume     1582 non-null   int64         \n",
      " 3   timestamp  1582 non-null   datetime64[ns]\n",
      "dtypes: datetime64[ns](1), float64(1), int64(2)\n",
      "memory usage: 49.6 KB\n"
     ]
    }
   ],
   "source": [
    "df.info()"
   ]
  },
  {
   "cell_type": "code",
   "execution_count": 12,
   "metadata": {},
   "outputs": [
    {
     "data": {
      "text/html": [
       "<div>\n",
       "<style scoped>\n",
       "    .dataframe tbody tr th:only-of-type {\n",
       "        vertical-align: middle;\n",
       "    }\n",
       "\n",
       "    .dataframe tbody tr th {\n",
       "        vertical-align: top;\n",
       "    }\n",
       "\n",
       "    .dataframe thead th {\n",
       "        text-align: right;\n",
       "    }\n",
       "</style>\n",
       "<table border=\"1\" class=\"dataframe\">\n",
       "  <thead>\n",
       "    <tr style=\"text-align: right;\">\n",
       "      <th></th>\n",
       "      <th>ticktype</th>\n",
       "      <th>price</th>\n",
       "      <th>volume</th>\n",
       "      <th>timestamp</th>\n",
       "    </tr>\n",
       "  </thead>\n",
       "  <tbody>\n",
       "    <tr>\n",
       "      <th>0</th>\n",
       "      <td>1</td>\n",
       "      <td>4410.00</td>\n",
       "      <td>0</td>\n",
       "      <td>2023-06-21 20:22:28.671067</td>\n",
       "    </tr>\n",
       "    <tr>\n",
       "      <th>1</th>\n",
       "      <td>2</td>\n",
       "      <td>4410.25</td>\n",
       "      <td>0</td>\n",
       "      <td>2023-06-21 20:22:28.689977</td>\n",
       "    </tr>\n",
       "    <tr>\n",
       "      <th>2</th>\n",
       "      <td>4</td>\n",
       "      <td>4410.00</td>\n",
       "      <td>0</td>\n",
       "      <td>2023-06-21 20:22:28.696408</td>\n",
       "    </tr>\n",
       "    <tr>\n",
       "      <th>3</th>\n",
       "      <td>5</td>\n",
       "      <td>0.00</td>\n",
       "      <td>11</td>\n",
       "      <td>2023-06-21 20:22:28.702679</td>\n",
       "    </tr>\n",
       "    <tr>\n",
       "      <th>4</th>\n",
       "      <td>5</td>\n",
       "      <td>0.00</td>\n",
       "      <td>11</td>\n",
       "      <td>2023-06-21 20:22:28.708767</td>\n",
       "    </tr>\n",
       "  </tbody>\n",
       "</table>\n",
       "</div>"
      ],
      "text/plain": [
       "   ticktype    price  volume                  timestamp\n",
       "0         1  4410.00       0 2023-06-21 20:22:28.671067\n",
       "1         2  4410.25       0 2023-06-21 20:22:28.689977\n",
       "2         4  4410.00       0 2023-06-21 20:22:28.696408\n",
       "3         5     0.00      11 2023-06-21 20:22:28.702679\n",
       "4         5     0.00      11 2023-06-21 20:22:28.708767"
      ]
     },
     "execution_count": 12,
     "metadata": {},
     "output_type": "execute_result"
    }
   ],
   "source": [
    "df.head()"
   ]
  },
  {
   "cell_type": "code",
   "execution_count": null,
   "metadata": {},
   "outputs": [],
   "source": [
    "# Build Model    \n",
    "    \n",
    "df['timestamp'] = df['timestamp'].dt.tz_localize('UTC') #adding this to update to utc\n",
    "\n",
    "# Create a DataProcessor instance\n",
    "processor = DataProcessor(df) \n",
    "# Process the df\n",
    "processor.process_df()\n",
    "\n",
    "# Scale and shift the data\n",
    "scaler, close_scaler = processor.scale_shift_data(look_ahead)\n",
    "# Create the X and y datasets\n",
    "X, y = processor.scaled_df, processor.shifted_df['Close']\n",
    "# Create train test split\n",
    "X_train, X_test, y_train, y_test = processor.create_train_test_split(X, y)\n",
    "# Create final train and test datasets\n",
    "# TIME_STEPS = 60\n",
    "X_train, y_train = processor.create_dataset(X_train, y_train, TIME_STEPS)\n",
    "X_test, y_test = processor.create_dataset(X_test, y_test, TIME_STEPS)\n",
    "# Number of features in the data\n",
    "n_features = X_train.shape[2]\n",
    "\n",
    "# Create a ModelBuilder instance and build the model\n",
    "builder = ModelBuilder(n_features, TIME_STEPS)\n",
    "# Train the model\n",
    "model, history = builder.train_model(X_train, y_train, X_test, y_test, epochs=20, batch_size=64)\n",
    "# Save the model\n",
    "model_path = 'models/model.h5'\n",
    "builder.save_model(model_path)\n",
    "# Plot loss\n",
    "# builder.plot_loss(history) #this needs to save vs show\n",
    "# Create a Predictor instance\n",
    "predictor = Predictor(model, processor)\n",
    "# Predict\n",
    "predictions = predictor.predict(look_ahead, TIME_STEPS)\n",
    "# Rescale predictions\n",
    "rescaled_predictions = predictor.rescale_prediction(predictions)"
   ]
  },
  {
   "cell_type": "code",
   "execution_count": 13,
   "metadata": {},
   "outputs": [],
   "source": [
    "df['timestamp'] = df['timestamp'].dt.tz_localize('UTC') #adding this to update to utc"
   ]
  },
  {
   "cell_type": "code",
   "execution_count": 14,
   "metadata": {},
   "outputs": [
    {
     "name": "stdout",
     "output_type": "stream",
     "text": [
      "<class 'pandas.core.frame.DataFrame'>\n",
      "RangeIndex: 1582 entries, 0 to 1581\n",
      "Data columns (total 4 columns):\n",
      " #   Column     Non-Null Count  Dtype              \n",
      "---  ------     --------------  -----              \n",
      " 0   ticktype   1582 non-null   int64              \n",
      " 1   price      1582 non-null   float64            \n",
      " 2   volume     1582 non-null   int64              \n",
      " 3   timestamp  1582 non-null   datetime64[ns, UTC]\n",
      "dtypes: datetime64[ns, UTC](1), float64(1), int64(2)\n",
      "memory usage: 49.6 KB\n"
     ]
    }
   ],
   "source": [
    "df.info()"
   ]
  },
  {
   "cell_type": "code",
   "execution_count": 15,
   "metadata": {
    "scrolled": true
   },
   "outputs": [
    {
     "data": {
      "text/html": [
       "<div>\n",
       "<style scoped>\n",
       "    .dataframe tbody tr th:only-of-type {\n",
       "        vertical-align: middle;\n",
       "    }\n",
       "\n",
       "    .dataframe tbody tr th {\n",
       "        vertical-align: top;\n",
       "    }\n",
       "\n",
       "    .dataframe thead th {\n",
       "        text-align: right;\n",
       "    }\n",
       "</style>\n",
       "<table border=\"1\" class=\"dataframe\">\n",
       "  <thead>\n",
       "    <tr style=\"text-align: right;\">\n",
       "      <th></th>\n",
       "      <th>ticktype</th>\n",
       "      <th>price</th>\n",
       "      <th>volume</th>\n",
       "      <th>timestamp</th>\n",
       "    </tr>\n",
       "  </thead>\n",
       "  <tbody>\n",
       "    <tr>\n",
       "      <th>0</th>\n",
       "      <td>1</td>\n",
       "      <td>4410.00</td>\n",
       "      <td>0</td>\n",
       "      <td>2023-06-21 20:22:28.671067+00:00</td>\n",
       "    </tr>\n",
       "    <tr>\n",
       "      <th>1</th>\n",
       "      <td>2</td>\n",
       "      <td>4410.25</td>\n",
       "      <td>0</td>\n",
       "      <td>2023-06-21 20:22:28.689977+00:00</td>\n",
       "    </tr>\n",
       "    <tr>\n",
       "      <th>2</th>\n",
       "      <td>4</td>\n",
       "      <td>4410.00</td>\n",
       "      <td>0</td>\n",
       "      <td>2023-06-21 20:22:28.696408+00:00</td>\n",
       "    </tr>\n",
       "    <tr>\n",
       "      <th>3</th>\n",
       "      <td>5</td>\n",
       "      <td>0.00</td>\n",
       "      <td>11</td>\n",
       "      <td>2023-06-21 20:22:28.702679+00:00</td>\n",
       "    </tr>\n",
       "    <tr>\n",
       "      <th>4</th>\n",
       "      <td>5</td>\n",
       "      <td>0.00</td>\n",
       "      <td>11</td>\n",
       "      <td>2023-06-21 20:22:28.708767+00:00</td>\n",
       "    </tr>\n",
       "  </tbody>\n",
       "</table>\n",
       "</div>"
      ],
      "text/plain": [
       "   ticktype    price  volume                        timestamp\n",
       "0         1  4410.00       0 2023-06-21 20:22:28.671067+00:00\n",
       "1         2  4410.25       0 2023-06-21 20:22:28.689977+00:00\n",
       "2         4  4410.00       0 2023-06-21 20:22:28.696408+00:00\n",
       "3         5     0.00      11 2023-06-21 20:22:28.702679+00:00\n",
       "4         5     0.00      11 2023-06-21 20:22:28.708767+00:00"
      ]
     },
     "execution_count": 15,
     "metadata": {},
     "output_type": "execute_result"
    }
   ],
   "source": [
    "df.head()"
   ]
  },
  {
   "cell_type": "code",
   "execution_count": 16,
   "metadata": {},
   "outputs": [],
   "source": [
    "# Create a DataProcessor instance\n",
    "processor = DataProcessor(df) "
   ]
  },
  {
   "cell_type": "code",
   "execution_count": 17,
   "metadata": {},
   "outputs": [],
   "source": [
    "processor.process_df()"
   ]
  },
  {
   "cell_type": "code",
   "execution_count": 18,
   "metadata": {},
   "outputs": [
    {
     "name": "stdout",
     "output_type": "stream",
     "text": [
      "<class 'pandas.core.frame.DataFrame'>\n",
      "DatetimeIndex: 3773 entries, 2023-06-21 20:22:28+00:00 to 2023-06-21 21:25:20+00:00\n",
      "Freq: S\n",
      "Data columns (total 5 columns):\n",
      " #   Column  Non-Null Count  Dtype  \n",
      "---  ------  --------------  -----  \n",
      " 0   Open    3773 non-null   float64\n",
      " 1   High    3773 non-null   float64\n",
      " 2   Low     3773 non-null   float64\n",
      " 3   Close   3773 non-null   float64\n",
      " 4   Volume  3773 non-null   float64\n",
      "dtypes: float64(5)\n",
      "memory usage: 176.9 KB\n"
     ]
    }
   ],
   "source": [
    "processor.processed_df.info()"
   ]
  },
  {
   "cell_type": "code",
   "execution_count": 19,
   "metadata": {},
   "outputs": [
    {
     "data": {
      "text/html": [
       "<div>\n",
       "<style scoped>\n",
       "    .dataframe tbody tr th:only-of-type {\n",
       "        vertical-align: middle;\n",
       "    }\n",
       "\n",
       "    .dataframe tbody tr th {\n",
       "        vertical-align: top;\n",
       "    }\n",
       "\n",
       "    .dataframe thead th {\n",
       "        text-align: right;\n",
       "    }\n",
       "</style>\n",
       "<table border=\"1\" class=\"dataframe\">\n",
       "  <thead>\n",
       "    <tr style=\"text-align: right;\">\n",
       "      <th></th>\n",
       "      <th>Open</th>\n",
       "      <th>High</th>\n",
       "      <th>Low</th>\n",
       "      <th>Close</th>\n",
       "      <th>Volume</th>\n",
       "    </tr>\n",
       "    <tr>\n",
       "      <th>timestamp</th>\n",
       "      <th></th>\n",
       "      <th></th>\n",
       "      <th></th>\n",
       "      <th></th>\n",
       "      <th></th>\n",
       "    </tr>\n",
       "  </thead>\n",
       "  <tbody>\n",
       "    <tr>\n",
       "      <th>2023-06-21 20:22:28+00:00</th>\n",
       "      <td>4410.0</td>\n",
       "      <td>4410.25</td>\n",
       "      <td>4410.0</td>\n",
       "      <td>4410.00</td>\n",
       "      <td>22.0</td>\n",
       "    </tr>\n",
       "    <tr>\n",
       "      <th>2023-06-21 20:22:29+00:00</th>\n",
       "      <td>4410.0</td>\n",
       "      <td>4410.25</td>\n",
       "      <td>4410.0</td>\n",
       "      <td>4410.25</td>\n",
       "      <td>2.0</td>\n",
       "    </tr>\n",
       "    <tr>\n",
       "      <th>2023-06-21 20:22:30+00:00</th>\n",
       "      <td>4410.0</td>\n",
       "      <td>4410.25</td>\n",
       "      <td>4410.0</td>\n",
       "      <td>4410.25</td>\n",
       "      <td>0.0</td>\n",
       "    </tr>\n",
       "    <tr>\n",
       "      <th>2023-06-21 20:22:31+00:00</th>\n",
       "      <td>4410.0</td>\n",
       "      <td>4410.25</td>\n",
       "      <td>4410.0</td>\n",
       "      <td>4410.25</td>\n",
       "      <td>0.0</td>\n",
       "    </tr>\n",
       "    <tr>\n",
       "      <th>2023-06-21 20:22:32+00:00</th>\n",
       "      <td>4410.0</td>\n",
       "      <td>4410.25</td>\n",
       "      <td>4410.0</td>\n",
       "      <td>4410.00</td>\n",
       "      <td>1.0</td>\n",
       "    </tr>\n",
       "  </tbody>\n",
       "</table>\n",
       "</div>"
      ],
      "text/plain": [
       "                             Open     High     Low    Close  Volume\n",
       "timestamp                                                          \n",
       "2023-06-21 20:22:28+00:00  4410.0  4410.25  4410.0  4410.00    22.0\n",
       "2023-06-21 20:22:29+00:00  4410.0  4410.25  4410.0  4410.25     2.0\n",
       "2023-06-21 20:22:30+00:00  4410.0  4410.25  4410.0  4410.25     0.0\n",
       "2023-06-21 20:22:31+00:00  4410.0  4410.25  4410.0  4410.25     0.0\n",
       "2023-06-21 20:22:32+00:00  4410.0  4410.25  4410.0  4410.00     1.0"
      ]
     },
     "execution_count": 19,
     "metadata": {},
     "output_type": "execute_result"
    }
   ],
   "source": [
    "processor.processed_df.head()"
   ]
  },
  {
   "cell_type": "code",
   "execution_count": 20,
   "metadata": {},
   "outputs": [],
   "source": [
    "# Scale and shift the data\n",
    "scaler, close_scaler = processor.scale_shift_data(look_ahead=5)"
   ]
  },
  {
   "cell_type": "code",
   "execution_count": 27,
   "metadata": {},
   "outputs": [
    {
     "data": {
      "text/html": [
       "<div>\n",
       "<style scoped>\n",
       "    .dataframe tbody tr th:only-of-type {\n",
       "        vertical-align: middle;\n",
       "    }\n",
       "\n",
       "    .dataframe tbody tr th {\n",
       "        vertical-align: top;\n",
       "    }\n",
       "\n",
       "    .dataframe thead th {\n",
       "        text-align: right;\n",
       "    }\n",
       "</style>\n",
       "<table border=\"1\" class=\"dataframe\">\n",
       "  <thead>\n",
       "    <tr style=\"text-align: right;\">\n",
       "      <th></th>\n",
       "      <th>Open</th>\n",
       "      <th>High</th>\n",
       "      <th>Low</th>\n",
       "      <th>Close</th>\n",
       "      <th>Volume</th>\n",
       "    </tr>\n",
       "    <tr>\n",
       "      <th>timestamp</th>\n",
       "      <th></th>\n",
       "      <th></th>\n",
       "      <th></th>\n",
       "      <th></th>\n",
       "      <th></th>\n",
       "    </tr>\n",
       "  </thead>\n",
       "  <tbody>\n",
       "    <tr>\n",
       "      <th>2023-06-21 20:22:28+00:00</th>\n",
       "      <td>0.8</td>\n",
       "      <td>0.666667</td>\n",
       "      <td>0.8</td>\n",
       "      <td>0.666667</td>\n",
       "      <td>0.115789</td>\n",
       "    </tr>\n",
       "    <tr>\n",
       "      <th>2023-06-21 20:22:29+00:00</th>\n",
       "      <td>0.8</td>\n",
       "      <td>0.666667</td>\n",
       "      <td>0.8</td>\n",
       "      <td>0.833333</td>\n",
       "      <td>0.010526</td>\n",
       "    </tr>\n",
       "    <tr>\n",
       "      <th>2023-06-21 20:22:30+00:00</th>\n",
       "      <td>0.8</td>\n",
       "      <td>0.666667</td>\n",
       "      <td>0.8</td>\n",
       "      <td>0.833333</td>\n",
       "      <td>0.000000</td>\n",
       "    </tr>\n",
       "    <tr>\n",
       "      <th>2023-06-21 20:22:31+00:00</th>\n",
       "      <td>0.8</td>\n",
       "      <td>0.666667</td>\n",
       "      <td>0.8</td>\n",
       "      <td>0.833333</td>\n",
       "      <td>0.000000</td>\n",
       "    </tr>\n",
       "    <tr>\n",
       "      <th>2023-06-21 20:22:32+00:00</th>\n",
       "      <td>0.8</td>\n",
       "      <td>0.666667</td>\n",
       "      <td>0.8</td>\n",
       "      <td>0.666667</td>\n",
       "      <td>0.005263</td>\n",
       "    </tr>\n",
       "  </tbody>\n",
       "</table>\n",
       "</div>"
      ],
      "text/plain": [
       "                           Open      High  Low     Close    Volume\n",
       "timestamp                                                         \n",
       "2023-06-21 20:22:28+00:00   0.8  0.666667  0.8  0.666667  0.115789\n",
       "2023-06-21 20:22:29+00:00   0.8  0.666667  0.8  0.833333  0.010526\n",
       "2023-06-21 20:22:30+00:00   0.8  0.666667  0.8  0.833333  0.000000\n",
       "2023-06-21 20:22:31+00:00   0.8  0.666667  0.8  0.833333  0.000000\n",
       "2023-06-21 20:22:32+00:00   0.8  0.666667  0.8  0.666667  0.005263"
      ]
     },
     "execution_count": 27,
     "metadata": {},
     "output_type": "execute_result"
    }
   ],
   "source": [
    "processor.scaled_df.head(5)"
   ]
  },
  {
   "cell_type": "code",
   "execution_count": 26,
   "metadata": {},
   "outputs": [
    {
     "data": {
      "text/html": [
       "<div>\n",
       "<style scoped>\n",
       "    .dataframe tbody tr th:only-of-type {\n",
       "        vertical-align: middle;\n",
       "    }\n",
       "\n",
       "    .dataframe tbody tr th {\n",
       "        vertical-align: top;\n",
       "    }\n",
       "\n",
       "    .dataframe thead th {\n",
       "        text-align: right;\n",
       "    }\n",
       "</style>\n",
       "<table border=\"1\" class=\"dataframe\">\n",
       "  <thead>\n",
       "    <tr style=\"text-align: right;\">\n",
       "      <th></th>\n",
       "      <th>Open</th>\n",
       "      <th>High</th>\n",
       "      <th>Low</th>\n",
       "      <th>Close</th>\n",
       "      <th>Volume</th>\n",
       "    </tr>\n",
       "    <tr>\n",
       "      <th>timestamp</th>\n",
       "      <th></th>\n",
       "      <th></th>\n",
       "      <th></th>\n",
       "      <th></th>\n",
       "      <th></th>\n",
       "    </tr>\n",
       "  </thead>\n",
       "  <tbody>\n",
       "    <tr>\n",
       "      <th>2023-06-21 20:22:28+00:00</th>\n",
       "      <td>0.8</td>\n",
       "      <td>0.666667</td>\n",
       "      <td>0.8</td>\n",
       "      <td>0.666667</td>\n",
       "      <td>0.000000</td>\n",
       "    </tr>\n",
       "    <tr>\n",
       "      <th>2023-06-21 20:22:29+00:00</th>\n",
       "      <td>0.8</td>\n",
       "      <td>0.666667</td>\n",
       "      <td>0.8</td>\n",
       "      <td>0.833333</td>\n",
       "      <td>0.263158</td>\n",
       "    </tr>\n",
       "    <tr>\n",
       "      <th>2023-06-21 20:22:30+00:00</th>\n",
       "      <td>0.8</td>\n",
       "      <td>0.666667</td>\n",
       "      <td>0.8</td>\n",
       "      <td>0.833333</td>\n",
       "      <td>0.000000</td>\n",
       "    </tr>\n",
       "    <tr>\n",
       "      <th>2023-06-21 20:22:31+00:00</th>\n",
       "      <td>0.8</td>\n",
       "      <td>0.666667</td>\n",
       "      <td>0.8</td>\n",
       "      <td>0.833333</td>\n",
       "      <td>0.000000</td>\n",
       "    </tr>\n",
       "    <tr>\n",
       "      <th>2023-06-21 20:22:32+00:00</th>\n",
       "      <td>0.8</td>\n",
       "      <td>0.666667</td>\n",
       "      <td>0.8</td>\n",
       "      <td>0.833333</td>\n",
       "      <td>0.005263</td>\n",
       "    </tr>\n",
       "  </tbody>\n",
       "</table>\n",
       "</div>"
      ],
      "text/plain": [
       "                           Open      High  Low     Close    Volume\n",
       "timestamp                                                         \n",
       "2023-06-21 20:22:28+00:00   0.8  0.666667  0.8  0.666667  0.000000\n",
       "2023-06-21 20:22:29+00:00   0.8  0.666667  0.8  0.833333  0.263158\n",
       "2023-06-21 20:22:30+00:00   0.8  0.666667  0.8  0.833333  0.000000\n",
       "2023-06-21 20:22:31+00:00   0.8  0.666667  0.8  0.833333  0.000000\n",
       "2023-06-21 20:22:32+00:00   0.8  0.666667  0.8  0.833333  0.005263"
      ]
     },
     "execution_count": 26,
     "metadata": {},
     "output_type": "execute_result"
    }
   ],
   "source": [
    "processor.shifted_df.head(5)"
   ]
  },
  {
   "cell_type": "code",
   "execution_count": 28,
   "metadata": {},
   "outputs": [],
   "source": [
    "X, y = processor.scaled_df, processor.shifted_df['Close']"
   ]
  },
  {
   "cell_type": "code",
   "execution_count": 29,
   "metadata": {},
   "outputs": [
    {
     "data": {
      "text/html": [
       "<div>\n",
       "<style scoped>\n",
       "    .dataframe tbody tr th:only-of-type {\n",
       "        vertical-align: middle;\n",
       "    }\n",
       "\n",
       "    .dataframe tbody tr th {\n",
       "        vertical-align: top;\n",
       "    }\n",
       "\n",
       "    .dataframe thead th {\n",
       "        text-align: right;\n",
       "    }\n",
       "</style>\n",
       "<table border=\"1\" class=\"dataframe\">\n",
       "  <thead>\n",
       "    <tr style=\"text-align: right;\">\n",
       "      <th></th>\n",
       "      <th>Open</th>\n",
       "      <th>High</th>\n",
       "      <th>Low</th>\n",
       "      <th>Close</th>\n",
       "      <th>Volume</th>\n",
       "    </tr>\n",
       "    <tr>\n",
       "      <th>timestamp</th>\n",
       "      <th></th>\n",
       "      <th></th>\n",
       "      <th></th>\n",
       "      <th></th>\n",
       "      <th></th>\n",
       "    </tr>\n",
       "  </thead>\n",
       "  <tbody>\n",
       "    <tr>\n",
       "      <th>2023-06-21 20:22:28+00:00</th>\n",
       "      <td>0.8</td>\n",
       "      <td>0.666667</td>\n",
       "      <td>0.8</td>\n",
       "      <td>0.666667</td>\n",
       "      <td>0.115789</td>\n",
       "    </tr>\n",
       "    <tr>\n",
       "      <th>2023-06-21 20:22:29+00:00</th>\n",
       "      <td>0.8</td>\n",
       "      <td>0.666667</td>\n",
       "      <td>0.8</td>\n",
       "      <td>0.833333</td>\n",
       "      <td>0.010526</td>\n",
       "    </tr>\n",
       "    <tr>\n",
       "      <th>2023-06-21 20:22:30+00:00</th>\n",
       "      <td>0.8</td>\n",
       "      <td>0.666667</td>\n",
       "      <td>0.8</td>\n",
       "      <td>0.833333</td>\n",
       "      <td>0.000000</td>\n",
       "    </tr>\n",
       "    <tr>\n",
       "      <th>2023-06-21 20:22:31+00:00</th>\n",
       "      <td>0.8</td>\n",
       "      <td>0.666667</td>\n",
       "      <td>0.8</td>\n",
       "      <td>0.833333</td>\n",
       "      <td>0.000000</td>\n",
       "    </tr>\n",
       "    <tr>\n",
       "      <th>2023-06-21 20:22:32+00:00</th>\n",
       "      <td>0.8</td>\n",
       "      <td>0.666667</td>\n",
       "      <td>0.8</td>\n",
       "      <td>0.666667</td>\n",
       "      <td>0.005263</td>\n",
       "    </tr>\n",
       "    <tr>\n",
       "      <th>...</th>\n",
       "      <td>...</td>\n",
       "      <td>...</td>\n",
       "      <td>...</td>\n",
       "      <td>...</td>\n",
       "      <td>...</td>\n",
       "    </tr>\n",
       "    <tr>\n",
       "      <th>2023-06-21 21:25:11+00:00</th>\n",
       "      <td>0.6</td>\n",
       "      <td>0.666667</td>\n",
       "      <td>0.6</td>\n",
       "      <td>0.666667</td>\n",
       "      <td>0.000000</td>\n",
       "    </tr>\n",
       "    <tr>\n",
       "      <th>2023-06-21 21:25:12+00:00</th>\n",
       "      <td>0.6</td>\n",
       "      <td>0.666667</td>\n",
       "      <td>0.6</td>\n",
       "      <td>0.666667</td>\n",
       "      <td>0.000000</td>\n",
       "    </tr>\n",
       "    <tr>\n",
       "      <th>2023-06-21 21:25:13+00:00</th>\n",
       "      <td>0.6</td>\n",
       "      <td>0.666667</td>\n",
       "      <td>0.6</td>\n",
       "      <td>0.666667</td>\n",
       "      <td>0.000000</td>\n",
       "    </tr>\n",
       "    <tr>\n",
       "      <th>2023-06-21 21:25:14+00:00</th>\n",
       "      <td>0.6</td>\n",
       "      <td>0.666667</td>\n",
       "      <td>0.6</td>\n",
       "      <td>0.666667</td>\n",
       "      <td>0.000000</td>\n",
       "    </tr>\n",
       "    <tr>\n",
       "      <th>2023-06-21 21:25:15+00:00</th>\n",
       "      <td>0.6</td>\n",
       "      <td>0.666667</td>\n",
       "      <td>0.6</td>\n",
       "      <td>0.666667</td>\n",
       "      <td>0.000000</td>\n",
       "    </tr>\n",
       "  </tbody>\n",
       "</table>\n",
       "<p>3768 rows × 5 columns</p>\n",
       "</div>"
      ],
      "text/plain": [
       "                           Open      High  Low     Close    Volume\n",
       "timestamp                                                         \n",
       "2023-06-21 20:22:28+00:00   0.8  0.666667  0.8  0.666667  0.115789\n",
       "2023-06-21 20:22:29+00:00   0.8  0.666667  0.8  0.833333  0.010526\n",
       "2023-06-21 20:22:30+00:00   0.8  0.666667  0.8  0.833333  0.000000\n",
       "2023-06-21 20:22:31+00:00   0.8  0.666667  0.8  0.833333  0.000000\n",
       "2023-06-21 20:22:32+00:00   0.8  0.666667  0.8  0.666667  0.005263\n",
       "...                         ...       ...  ...       ...       ...\n",
       "2023-06-21 21:25:11+00:00   0.6  0.666667  0.6  0.666667  0.000000\n",
       "2023-06-21 21:25:12+00:00   0.6  0.666667  0.6  0.666667  0.000000\n",
       "2023-06-21 21:25:13+00:00   0.6  0.666667  0.6  0.666667  0.000000\n",
       "2023-06-21 21:25:14+00:00   0.6  0.666667  0.6  0.666667  0.000000\n",
       "2023-06-21 21:25:15+00:00   0.6  0.666667  0.6  0.666667  0.000000\n",
       "\n",
       "[3768 rows x 5 columns]"
      ]
     },
     "execution_count": 29,
     "metadata": {},
     "output_type": "execute_result"
    }
   ],
   "source": [
    "X"
   ]
  },
  {
   "cell_type": "code",
   "execution_count": 31,
   "metadata": {},
   "outputs": [],
   "source": [
    "X_train, X_test, y_train, y_test = processor.create_train_test_split(X, y)"
   ]
  },
  {
   "cell_type": "code",
   "execution_count": 34,
   "metadata": {},
   "outputs": [
    {
     "data": {
      "text/html": [
       "<div>\n",
       "<style scoped>\n",
       "    .dataframe tbody tr th:only-of-type {\n",
       "        vertical-align: middle;\n",
       "    }\n",
       "\n",
       "    .dataframe tbody tr th {\n",
       "        vertical-align: top;\n",
       "    }\n",
       "\n",
       "    .dataframe thead th {\n",
       "        text-align: right;\n",
       "    }\n",
       "</style>\n",
       "<table border=\"1\" class=\"dataframe\">\n",
       "  <thead>\n",
       "    <tr style=\"text-align: right;\">\n",
       "      <th></th>\n",
       "      <th>Open</th>\n",
       "      <th>High</th>\n",
       "      <th>Low</th>\n",
       "      <th>Close</th>\n",
       "      <th>Volume</th>\n",
       "    </tr>\n",
       "    <tr>\n",
       "      <th>timestamp</th>\n",
       "      <th></th>\n",
       "      <th></th>\n",
       "      <th></th>\n",
       "      <th></th>\n",
       "      <th></th>\n",
       "    </tr>\n",
       "  </thead>\n",
       "  <tbody>\n",
       "    <tr>\n",
       "      <th>2023-06-21 20:22:28+00:00</th>\n",
       "      <td>0.8</td>\n",
       "      <td>0.666667</td>\n",
       "      <td>0.8</td>\n",
       "      <td>0.666667</td>\n",
       "      <td>0.115789</td>\n",
       "    </tr>\n",
       "    <tr>\n",
       "      <th>2023-06-21 20:22:29+00:00</th>\n",
       "      <td>0.8</td>\n",
       "      <td>0.666667</td>\n",
       "      <td>0.8</td>\n",
       "      <td>0.833333</td>\n",
       "      <td>0.010526</td>\n",
       "    </tr>\n",
       "    <tr>\n",
       "      <th>2023-06-21 20:22:30+00:00</th>\n",
       "      <td>0.8</td>\n",
       "      <td>0.666667</td>\n",
       "      <td>0.8</td>\n",
       "      <td>0.833333</td>\n",
       "      <td>0.000000</td>\n",
       "    </tr>\n",
       "    <tr>\n",
       "      <th>2023-06-21 20:22:31+00:00</th>\n",
       "      <td>0.8</td>\n",
       "      <td>0.666667</td>\n",
       "      <td>0.8</td>\n",
       "      <td>0.833333</td>\n",
       "      <td>0.000000</td>\n",
       "    </tr>\n",
       "    <tr>\n",
       "      <th>2023-06-21 20:22:32+00:00</th>\n",
       "      <td>0.8</td>\n",
       "      <td>0.666667</td>\n",
       "      <td>0.8</td>\n",
       "      <td>0.666667</td>\n",
       "      <td>0.005263</td>\n",
       "    </tr>\n",
       "  </tbody>\n",
       "</table>\n",
       "</div>"
      ],
      "text/plain": [
       "                           Open      High  Low     Close    Volume\n",
       "timestamp                                                         \n",
       "2023-06-21 20:22:28+00:00   0.8  0.666667  0.8  0.666667  0.115789\n",
       "2023-06-21 20:22:29+00:00   0.8  0.666667  0.8  0.833333  0.010526\n",
       "2023-06-21 20:22:30+00:00   0.8  0.666667  0.8  0.833333  0.000000\n",
       "2023-06-21 20:22:31+00:00   0.8  0.666667  0.8  0.833333  0.000000\n",
       "2023-06-21 20:22:32+00:00   0.8  0.666667  0.8  0.666667  0.005263"
      ]
     },
     "execution_count": 34,
     "metadata": {},
     "output_type": "execute_result"
    }
   ],
   "source": [
    "X_train.head()"
   ]
  },
  {
   "cell_type": "code",
   "execution_count": 36,
   "metadata": {},
   "outputs": [],
   "source": [
    "X_train, y_train = processor.create_dataset(X_train, y_train, time_steps=60, look_ahead=5, for_training=True)\n",
    "X_test, y_test = processor.create_dataset(X_test, y_test, time_steps=60, look_ahead=5, for_training=True)"
   ]
  },
  {
   "cell_type": "code",
   "execution_count": 40,
   "metadata": {},
   "outputs": [
    {
     "data": {
      "text/plain": [
       "array([[0.8       , 0.66666667, 0.8       , 0.66666667, 0.11578947],\n",
       "       [0.8       , 0.66666667, 0.8       , 0.83333333, 0.01052632],\n",
       "       [0.8       , 0.66666667, 0.8       , 0.83333333, 0.        ],\n",
       "       [0.8       , 0.66666667, 0.8       , 0.83333333, 0.        ],\n",
       "       [0.8       , 0.66666667, 0.8       , 0.66666667, 0.00526316],\n",
       "       [0.8       , 0.66666667, 0.8       , 0.66666667, 0.        ],\n",
       "       [0.8       , 0.66666667, 0.8       , 0.83333333, 0.26315789],\n",
       "       [0.8       , 0.66666667, 0.8       , 0.83333333, 0.        ],\n",
       "       [0.8       , 0.66666667, 0.8       , 0.83333333, 0.        ],\n",
       "       [0.8       , 0.66666667, 0.8       , 0.83333333, 0.00526316],\n",
       "       [0.8       , 0.66666667, 0.8       , 0.83333333, 0.        ],\n",
       "       [0.8       , 0.66666667, 0.8       , 0.83333333, 0.        ],\n",
       "       [0.8       , 0.66666667, 0.8       , 0.83333333, 0.        ],\n",
       "       [0.8       , 0.66666667, 0.8       , 0.83333333, 0.05263158],\n",
       "       [0.8       , 0.66666667, 0.8       , 0.83333333, 0.        ],\n",
       "       [0.8       , 0.66666667, 0.8       , 0.83333333, 0.13157895],\n",
       "       [0.8       , 0.66666667, 0.8       , 0.83333333, 0.35263158],\n",
       "       [0.8       , 0.66666667, 0.8       , 0.83333333, 0.04210526],\n",
       "       [0.8       , 0.66666667, 0.8       , 0.83333333, 0.        ],\n",
       "       [0.8       , 0.66666667, 0.8       , 0.83333333, 0.00526316],\n",
       "       [0.8       , 0.66666667, 0.8       , 0.83333333, 0.        ],\n",
       "       [0.8       , 0.66666667, 0.8       , 0.83333333, 0.        ],\n",
       "       [0.8       , 0.66666667, 0.8       , 0.83333333, 0.14736842],\n",
       "       [0.8       , 0.66666667, 0.8       , 0.83333333, 0.10526316],\n",
       "       [0.8       , 0.66666667, 0.8       , 0.83333333, 0.        ],\n",
       "       [0.8       , 0.66666667, 0.8       , 0.83333333, 0.00526316],\n",
       "       [0.8       , 0.66666667, 0.8       , 0.83333333, 0.        ],\n",
       "       [0.8       , 0.66666667, 0.8       , 0.83333333, 0.        ],\n",
       "       [0.8       , 0.66666667, 0.8       , 0.83333333, 0.        ],\n",
       "       [0.8       , 0.66666667, 0.8       , 0.83333333, 0.        ],\n",
       "       [0.8       , 0.66666667, 0.8       , 0.83333333, 0.        ],\n",
       "       [0.8       , 0.66666667, 0.8       , 0.83333333, 0.        ],\n",
       "       [0.8       , 0.66666667, 0.8       , 0.83333333, 0.        ],\n",
       "       [0.8       , 0.66666667, 0.8       , 0.83333333, 0.        ],\n",
       "       [0.8       , 0.66666667, 0.8       , 0.83333333, 0.        ],\n",
       "       [0.8       , 0.66666667, 0.8       , 0.83333333, 0.        ],\n",
       "       [0.8       , 0.66666667, 0.8       , 0.83333333, 0.        ],\n",
       "       [0.8       , 0.66666667, 0.8       , 0.83333333, 0.        ],\n",
       "       [0.8       , 0.66666667, 0.8       , 0.83333333, 0.        ],\n",
       "       [0.8       , 0.66666667, 0.8       , 0.83333333, 0.        ],\n",
       "       [0.8       , 0.66666667, 0.8       , 0.83333333, 0.        ],\n",
       "       [0.8       , 0.66666667, 0.8       , 0.83333333, 0.        ],\n",
       "       [0.8       , 0.66666667, 0.8       , 0.83333333, 0.        ],\n",
       "       [0.8       , 0.66666667, 0.8       , 0.66666667, 0.00526316],\n",
       "       [1.        , 0.83333333, 1.        , 0.83333333, 0.08421053],\n",
       "       [1.        , 0.83333333, 1.        , 0.83333333, 0.        ],\n",
       "       [1.        , 0.83333333, 1.        , 0.83333333, 0.        ],\n",
       "       [1.        , 0.83333333, 1.        , 0.83333333, 0.        ],\n",
       "       [1.        , 0.83333333, 1.        , 0.83333333, 0.        ],\n",
       "       [1.        , 0.83333333, 1.        , 0.83333333, 0.        ],\n",
       "       [1.        , 0.83333333, 1.        , 0.83333333, 0.        ],\n",
       "       [1.        , 0.83333333, 1.        , 0.83333333, 0.        ],\n",
       "       [1.        , 0.83333333, 1.        , 0.83333333, 0.        ],\n",
       "       [1.        , 0.83333333, 1.        , 0.83333333, 0.00526316],\n",
       "       [1.        , 0.83333333, 1.        , 0.83333333, 0.        ],\n",
       "       [1.        , 0.83333333, 1.        , 0.83333333, 0.        ],\n",
       "       [1.        , 0.83333333, 1.        , 0.83333333, 0.        ],\n",
       "       [1.        , 0.83333333, 1.        , 0.83333333, 0.        ],\n",
       "       [1.        , 0.83333333, 1.        , 0.83333333, 0.        ],\n",
       "       [1.        , 0.83333333, 1.        , 0.83333333, 0.        ]])"
      ]
     },
     "execution_count": 40,
     "metadata": {},
     "output_type": "execute_result"
    }
   ],
   "source": [
    "X_train[0]"
   ]
  },
  {
   "cell_type": "code",
   "execution_count": 41,
   "metadata": {},
   "outputs": [
    {
     "data": {
      "text/plain": [
       "array([[0.8       , 0.66666667, 0.8       , 0.83333333, 0.01052632],\n",
       "       [0.8       , 0.66666667, 0.8       , 0.83333333, 0.        ],\n",
       "       [0.8       , 0.66666667, 0.8       , 0.83333333, 0.        ],\n",
       "       [0.8       , 0.66666667, 0.8       , 0.66666667, 0.00526316],\n",
       "       [0.8       , 0.66666667, 0.8       , 0.66666667, 0.        ],\n",
       "       [0.8       , 0.66666667, 0.8       , 0.83333333, 0.26315789],\n",
       "       [0.8       , 0.66666667, 0.8       , 0.83333333, 0.        ],\n",
       "       [0.8       , 0.66666667, 0.8       , 0.83333333, 0.        ],\n",
       "       [0.8       , 0.66666667, 0.8       , 0.83333333, 0.00526316],\n",
       "       [0.8       , 0.66666667, 0.8       , 0.83333333, 0.        ],\n",
       "       [0.8       , 0.66666667, 0.8       , 0.83333333, 0.        ],\n",
       "       [0.8       , 0.66666667, 0.8       , 0.83333333, 0.        ],\n",
       "       [0.8       , 0.66666667, 0.8       , 0.83333333, 0.05263158],\n",
       "       [0.8       , 0.66666667, 0.8       , 0.83333333, 0.        ],\n",
       "       [0.8       , 0.66666667, 0.8       , 0.83333333, 0.13157895],\n",
       "       [0.8       , 0.66666667, 0.8       , 0.83333333, 0.35263158],\n",
       "       [0.8       , 0.66666667, 0.8       , 0.83333333, 0.04210526],\n",
       "       [0.8       , 0.66666667, 0.8       , 0.83333333, 0.        ],\n",
       "       [0.8       , 0.66666667, 0.8       , 0.83333333, 0.00526316],\n",
       "       [0.8       , 0.66666667, 0.8       , 0.83333333, 0.        ],\n",
       "       [0.8       , 0.66666667, 0.8       , 0.83333333, 0.        ],\n",
       "       [0.8       , 0.66666667, 0.8       , 0.83333333, 0.14736842],\n",
       "       [0.8       , 0.66666667, 0.8       , 0.83333333, 0.10526316],\n",
       "       [0.8       , 0.66666667, 0.8       , 0.83333333, 0.        ],\n",
       "       [0.8       , 0.66666667, 0.8       , 0.83333333, 0.00526316],\n",
       "       [0.8       , 0.66666667, 0.8       , 0.83333333, 0.        ],\n",
       "       [0.8       , 0.66666667, 0.8       , 0.83333333, 0.        ],\n",
       "       [0.8       , 0.66666667, 0.8       , 0.83333333, 0.        ],\n",
       "       [0.8       , 0.66666667, 0.8       , 0.83333333, 0.        ],\n",
       "       [0.8       , 0.66666667, 0.8       , 0.83333333, 0.        ],\n",
       "       [0.8       , 0.66666667, 0.8       , 0.83333333, 0.        ],\n",
       "       [0.8       , 0.66666667, 0.8       , 0.83333333, 0.        ],\n",
       "       [0.8       , 0.66666667, 0.8       , 0.83333333, 0.        ],\n",
       "       [0.8       , 0.66666667, 0.8       , 0.83333333, 0.        ],\n",
       "       [0.8       , 0.66666667, 0.8       , 0.83333333, 0.        ],\n",
       "       [0.8       , 0.66666667, 0.8       , 0.83333333, 0.        ],\n",
       "       [0.8       , 0.66666667, 0.8       , 0.83333333, 0.        ],\n",
       "       [0.8       , 0.66666667, 0.8       , 0.83333333, 0.        ],\n",
       "       [0.8       , 0.66666667, 0.8       , 0.83333333, 0.        ],\n",
       "       [0.8       , 0.66666667, 0.8       , 0.83333333, 0.        ],\n",
       "       [0.8       , 0.66666667, 0.8       , 0.83333333, 0.        ],\n",
       "       [0.8       , 0.66666667, 0.8       , 0.83333333, 0.        ],\n",
       "       [0.8       , 0.66666667, 0.8       , 0.66666667, 0.00526316],\n",
       "       [1.        , 0.83333333, 1.        , 0.83333333, 0.08421053],\n",
       "       [1.        , 0.83333333, 1.        , 0.83333333, 0.        ],\n",
       "       [1.        , 0.83333333, 1.        , 0.83333333, 0.        ],\n",
       "       [1.        , 0.83333333, 1.        , 0.83333333, 0.        ],\n",
       "       [1.        , 0.83333333, 1.        , 0.83333333, 0.        ],\n",
       "       [1.        , 0.83333333, 1.        , 0.83333333, 0.        ],\n",
       "       [1.        , 0.83333333, 1.        , 0.83333333, 0.        ],\n",
       "       [1.        , 0.83333333, 1.        , 0.83333333, 0.        ],\n",
       "       [1.        , 0.83333333, 1.        , 0.83333333, 0.        ],\n",
       "       [1.        , 0.83333333, 1.        , 0.83333333, 0.00526316],\n",
       "       [1.        , 0.83333333, 1.        , 0.83333333, 0.        ],\n",
       "       [1.        , 0.83333333, 1.        , 0.83333333, 0.        ],\n",
       "       [1.        , 0.83333333, 1.        , 0.83333333, 0.        ],\n",
       "       [1.        , 0.83333333, 1.        , 0.83333333, 0.        ],\n",
       "       [1.        , 0.83333333, 1.        , 0.83333333, 0.        ],\n",
       "       [1.        , 0.83333333, 1.        , 0.83333333, 0.        ],\n",
       "       [1.        , 0.83333333, 1.        , 0.83333333, 0.        ]])"
      ]
     },
     "execution_count": 41,
     "metadata": {},
     "output_type": "execute_result"
    }
   ],
   "source": [
    "X_train[1]"
   ]
  },
  {
   "cell_type": "code",
   "execution_count": 42,
   "metadata": {},
   "outputs": [],
   "source": [
    "n_features = X_train.shape[2]"
   ]
  },
  {
   "cell_type": "code",
   "execution_count": 43,
   "metadata": {},
   "outputs": [
    {
     "data": {
      "text/plain": [
       "5"
      ]
     },
     "execution_count": 43,
     "metadata": {},
     "output_type": "execute_result"
    }
   ],
   "source": [
    "n_features"
   ]
  },
  {
   "cell_type": "code",
   "execution_count": 44,
   "metadata": {},
   "outputs": [],
   "source": [
    "#### Below for inference"
   ]
  },
  {
   "cell_type": "code",
   "execution_count": null,
   "metadata": {},
   "outputs": [],
   "source": [
    "# Get current time\n",
    "#now = datetime.datetime.now(pytz.UTC)\n",
    "now = datetime.datetime(2023, 6, 21, 20, 57, 3, 410027, pytz.UTC) # for testing\n",
    "\n",
    "\n",
    "# Get the time one minute ago\n",
    "one_minute_ago = now - datetime.timedelta(minutes=1)\n",
    "\n",
    "# Get the time five minutes ago\n",
    "five_minutes_ago = now - datetime.timedelta(minutes=5)\n",
    "\n",
    "# Query the database for all rows from the last minute\n",
    "new_data = app.db.DBtoDF(f\"SELECT * FROM tickdata_jun21 WHERE timestamp BETWEEN '{five_minutes_ago}' AND '{now}'\")\n",
    "#new_data['timestamp'] = pd.to_datetime(new_data['timestamp'])\n",
    "new_data['timestamp'] = new_data['timestamp'].dt.tz_localize('UTC')\n",
    "print(\"Step 1\")\n",
    "print(new_data.head())\n",
    "\n",
    "\n",
    "# Process new_data into the proper format for the model\n",
    "preprocessor.df = new_data\n",
    "preprocessor.process_df()\n",
    "print(\"step 2\")\n",
    "print(preprocessor.processed_df.head())\n",
    "# After preprocessing and filling, trim data to only last minute\n",
    "preprocessor.processed_df = preprocessor.processed_df.tail(66)\n",
    "preprocessor.processed_df.to_csv(f\"testdata/{now}.csv\")\n",
    "print(\"Step 3\")\n",
    "print(preprocessor.processed_df.head())\n",
    "\n",
    "preprocessor.scale_shift_data(look_ahead=0, for_training=False)\n",
    "\n",
    "X = preprocessor.scaled_df\n",
    "print(\"Step 4\")\n",
    "print(X[0:5])\n",
    "print(y[0:5])\n",
    "print(X.shape)\n",
    "print(y.shape)\n",
    "#X, y = preprocessor.create_dataset(X, y, time_steps)\n",
    "X = preprocessor.create_dataset(X, y=None, time_steps=60, look_ahead=0, for_training=False)\n",
    "\n",
    "\n",
    "\n",
    "print(\"Step 5\")\n",
    "print(X[0:5])\n",
    "print(y[0:5])\n",
    "\n",
    "# Load the model\n",
    "model_builder.load_model(\"models/model.h5\")\n",
    "\n",
    "# Assign the model to the predictor\n",
    "predictor.model = model_builder.model\n",
    "\n",
    "# Predict the next 'look_ahead' steps\n",
    "predictions = predictor.predict(look_ahead, time_steps)\n",
    "print(\"step 6\")\n",
    "print(predictions[0:5])\n",
    "\n",
    "# Rescale predictions back to the original scale\n",
    "rescaled_predictions = predictor.rescale_prediction(predictions)\n",
    "print(\"Step 7:\")\n",
    "print(rescaled_predictions[0:5])\n",
    "\n",
    "# Fetch the last predicted value\n",
    "price = rescaled_predictions[-1][0]\n",
    "print(\"Step 8\")\n",
    "print(price)\n",
    "\n",
    "print(\"Step 9\")\n",
    "# print(new_data['price_4'][-1])\n",
    "if price > preprocessor.processed_df['Close'][-1]:\n",
    "    # Buy if the predicted price is higher than the current price\n",
    "    #app.placeOrder(app.nextOrderId(), order, Order(action=\"BUY\", totalQuantity=1, orderType=\"LMT\", lmtPrice=price))\n",
    "    print(f\"expected price: {price} Action: buy, {preprocessor.processed_df['Close'][-1]}\")\n",
    "\n",
    "elif price < preprocessor.processed_df['Close'][-1]:\n",
    "    # Sell if the predicted price is lower than the current price\n",
    "    #app.placeOrder(app.nextOrderId(), order, Order(action=\"SELL\", totalQuantity=1, orderType=\"LMT\", lmtPrice=price))\n",
    "    print(f\"expected price: {price} Action: sell, {preprocessor.processed_df['Close'][-1]}\")"
   ]
  },
  {
   "cell_type": "code",
   "execution_count": 6,
   "metadata": {},
   "outputs": [
    {
     "name": "stderr",
     "output_type": "stream",
     "text": [
      "/ibkr/databaseClass.py:111: UserWarning: pandas only supports SQLAlchemy connectable (engine/connection) or database string URI or sqlite3 DBAPI2 connection. Other DBAPI2 objects are not tested. Please consider using SQLAlchemy.\n",
      "  df = pd.read_sql_query(query, con=conn)\n"
     ]
    }
   ],
   "source": [
    "# Get current time\n",
    "#now = datetime.datetime.now(pytz.UTC)\n",
    "now = datetime.datetime(2023, 6, 21, 20, 57, 3, 410027, pytz.UTC) # for testing\n",
    "\n",
    "\n",
    "# Get the time one minute ago\n",
    "one_minute_ago = now - datetime.timedelta(minutes=1)\n",
    "\n",
    "# Get the time five minutes ago\n",
    "five_minutes_ago = now - datetime.timedelta(minutes=5)\n",
    "\n",
    "# Query the database for all rows from the last minute\n",
    "new_data = db.DBtoDF(f\"SELECT * FROM tickdata_jun21 WHERE timestamp BETWEEN '{five_minutes_ago}' AND '{now}'\")"
   ]
  },
  {
   "cell_type": "code",
   "execution_count": 7,
   "metadata": {
    "scrolled": true
   },
   "outputs": [
    {
     "data": {
      "text/html": [
       "<div>\n",
       "<style scoped>\n",
       "    .dataframe tbody tr th:only-of-type {\n",
       "        vertical-align: middle;\n",
       "    }\n",
       "\n",
       "    .dataframe tbody tr th {\n",
       "        vertical-align: top;\n",
       "    }\n",
       "\n",
       "    .dataframe thead th {\n",
       "        text-align: right;\n",
       "    }\n",
       "</style>\n",
       "<table border=\"1\" class=\"dataframe\">\n",
       "  <thead>\n",
       "    <tr style=\"text-align: right;\">\n",
       "      <th></th>\n",
       "      <th>ticktype</th>\n",
       "      <th>price</th>\n",
       "      <th>volume</th>\n",
       "      <th>timestamp</th>\n",
       "    </tr>\n",
       "  </thead>\n",
       "  <tbody>\n",
       "    <tr>\n",
       "      <th>0</th>\n",
       "      <td>5</td>\n",
       "      <td>0.00</td>\n",
       "      <td>1</td>\n",
       "      <td>2023-06-21 20:52:06.636343</td>\n",
       "    </tr>\n",
       "    <tr>\n",
       "      <th>1</th>\n",
       "      <td>5</td>\n",
       "      <td>0.00</td>\n",
       "      <td>5</td>\n",
       "      <td>2023-06-21 20:52:08.940320</td>\n",
       "    </tr>\n",
       "    <tr>\n",
       "      <th>2</th>\n",
       "      <td>2</td>\n",
       "      <td>4409.75</td>\n",
       "      <td>0</td>\n",
       "      <td>2023-06-21 20:52:08.964836</td>\n",
       "    </tr>\n",
       "    <tr>\n",
       "      <th>3</th>\n",
       "      <td>2</td>\n",
       "      <td>4409.50</td>\n",
       "      <td>0</td>\n",
       "      <td>2023-06-21 20:52:09.039789</td>\n",
       "    </tr>\n",
       "    <tr>\n",
       "      <th>4</th>\n",
       "      <td>5</td>\n",
       "      <td>0.00</td>\n",
       "      <td>10</td>\n",
       "      <td>2023-06-21 20:52:15.050502</td>\n",
       "    </tr>\n",
       "  </tbody>\n",
       "</table>\n",
       "</div>"
      ],
      "text/plain": [
       "   ticktype    price  volume                  timestamp\n",
       "0         5     0.00       1 2023-06-21 20:52:06.636343\n",
       "1         5     0.00       5 2023-06-21 20:52:08.940320\n",
       "2         2  4409.75       0 2023-06-21 20:52:08.964836\n",
       "3         2  4409.50       0 2023-06-21 20:52:09.039789\n",
       "4         5     0.00      10 2023-06-21 20:52:15.050502"
      ]
     },
     "execution_count": 7,
     "metadata": {},
     "output_type": "execute_result"
    }
   ],
   "source": [
    "new_data.head()"
   ]
  },
  {
   "cell_type": "code",
   "execution_count": 28,
   "metadata": {},
   "outputs": [],
   "source": [
    "pred_preprocessor = DataProcessor(df=None)"
   ]
  },
  {
   "cell_type": "code",
   "execution_count": 29,
   "metadata": {},
   "outputs": [],
   "source": [
    "pred_preprocessor.df = new_data"
   ]
  },
  {
   "cell_type": "code",
   "execution_count": 30,
   "metadata": {},
   "outputs": [],
   "source": [
    "pred_preprocessor.process_df()"
   ]
  },
  {
   "cell_type": "code",
   "execution_count": 31,
   "metadata": {},
   "outputs": [
    {
     "data": {
      "text/html": [
       "<div>\n",
       "<style scoped>\n",
       "    .dataframe tbody tr th:only-of-type {\n",
       "        vertical-align: middle;\n",
       "    }\n",
       "\n",
       "    .dataframe tbody tr th {\n",
       "        vertical-align: top;\n",
       "    }\n",
       "\n",
       "    .dataframe thead th {\n",
       "        text-align: right;\n",
       "    }\n",
       "</style>\n",
       "<table border=\"1\" class=\"dataframe\">\n",
       "  <thead>\n",
       "    <tr style=\"text-align: right;\">\n",
       "      <th></th>\n",
       "      <th>Open</th>\n",
       "      <th>High</th>\n",
       "      <th>Low</th>\n",
       "      <th>Close</th>\n",
       "      <th>Volume</th>\n",
       "    </tr>\n",
       "    <tr>\n",
       "      <th>timestamp</th>\n",
       "      <th></th>\n",
       "      <th></th>\n",
       "      <th></th>\n",
       "      <th></th>\n",
       "      <th></th>\n",
       "    </tr>\n",
       "  </thead>\n",
       "  <tbody>\n",
       "    <tr>\n",
       "      <th>2023-06-21 20:52:06</th>\n",
       "      <td>NaN</td>\n",
       "      <td>NaN</td>\n",
       "      <td>NaN</td>\n",
       "      <td>NaN</td>\n",
       "      <td>1.0</td>\n",
       "    </tr>\n",
       "    <tr>\n",
       "      <th>2023-06-21 20:52:07</th>\n",
       "      <td>NaN</td>\n",
       "      <td>NaN</td>\n",
       "      <td>NaN</td>\n",
       "      <td>NaN</td>\n",
       "      <td>0.0</td>\n",
       "    </tr>\n",
       "    <tr>\n",
       "      <th>2023-06-21 20:52:08</th>\n",
       "      <td>NaN</td>\n",
       "      <td>4409.75</td>\n",
       "      <td>4409.75</td>\n",
       "      <td>NaN</td>\n",
       "      <td>5.0</td>\n",
       "    </tr>\n",
       "    <tr>\n",
       "      <th>2023-06-21 20:52:09</th>\n",
       "      <td>NaN</td>\n",
       "      <td>4409.50</td>\n",
       "      <td>4409.50</td>\n",
       "      <td>NaN</td>\n",
       "      <td>0.0</td>\n",
       "    </tr>\n",
       "    <tr>\n",
       "      <th>2023-06-21 20:52:10</th>\n",
       "      <td>NaN</td>\n",
       "      <td>4409.50</td>\n",
       "      <td>4409.50</td>\n",
       "      <td>NaN</td>\n",
       "      <td>0.0</td>\n",
       "    </tr>\n",
       "    <tr>\n",
       "      <th>...</th>\n",
       "      <td>...</td>\n",
       "      <td>...</td>\n",
       "      <td>...</td>\n",
       "      <td>...</td>\n",
       "      <td>...</td>\n",
       "    </tr>\n",
       "    <tr>\n",
       "      <th>2023-06-21 20:56:59</th>\n",
       "      <td>4409.25</td>\n",
       "      <td>4409.50</td>\n",
       "      <td>4409.25</td>\n",
       "      <td>4409.5</td>\n",
       "      <td>0.0</td>\n",
       "    </tr>\n",
       "    <tr>\n",
       "      <th>2023-06-21 20:57:00</th>\n",
       "      <td>4409.25</td>\n",
       "      <td>4409.50</td>\n",
       "      <td>4409.25</td>\n",
       "      <td>4409.5</td>\n",
       "      <td>0.0</td>\n",
       "    </tr>\n",
       "    <tr>\n",
       "      <th>2023-06-21 20:57:01</th>\n",
       "      <td>4409.25</td>\n",
       "      <td>4409.50</td>\n",
       "      <td>4409.25</td>\n",
       "      <td>4409.5</td>\n",
       "      <td>0.0</td>\n",
       "    </tr>\n",
       "    <tr>\n",
       "      <th>2023-06-21 20:57:02</th>\n",
       "      <td>4409.25</td>\n",
       "      <td>4409.50</td>\n",
       "      <td>4409.25</td>\n",
       "      <td>4409.5</td>\n",
       "      <td>0.0</td>\n",
       "    </tr>\n",
       "    <tr>\n",
       "      <th>2023-06-21 20:57:03</th>\n",
       "      <td>4409.50</td>\n",
       "      <td>4409.75</td>\n",
       "      <td>4409.50</td>\n",
       "      <td>4409.5</td>\n",
       "      <td>18.0</td>\n",
       "    </tr>\n",
       "  </tbody>\n",
       "</table>\n",
       "<p>298 rows × 5 columns</p>\n",
       "</div>"
      ],
      "text/plain": [
       "                        Open     High      Low   Close  Volume\n",
       "timestamp                                                     \n",
       "2023-06-21 20:52:06      NaN      NaN      NaN     NaN     1.0\n",
       "2023-06-21 20:52:07      NaN      NaN      NaN     NaN     0.0\n",
       "2023-06-21 20:52:08      NaN  4409.75  4409.75     NaN     5.0\n",
       "2023-06-21 20:52:09      NaN  4409.50  4409.50     NaN     0.0\n",
       "2023-06-21 20:52:10      NaN  4409.50  4409.50     NaN     0.0\n",
       "...                      ...      ...      ...     ...     ...\n",
       "2023-06-21 20:56:59  4409.25  4409.50  4409.25  4409.5     0.0\n",
       "2023-06-21 20:57:00  4409.25  4409.50  4409.25  4409.5     0.0\n",
       "2023-06-21 20:57:01  4409.25  4409.50  4409.25  4409.5     0.0\n",
       "2023-06-21 20:57:02  4409.25  4409.50  4409.25  4409.5     0.0\n",
       "2023-06-21 20:57:03  4409.50  4409.75  4409.50  4409.5    18.0\n",
       "\n",
       "[298 rows x 5 columns]"
      ]
     },
     "execution_count": 31,
     "metadata": {},
     "output_type": "execute_result"
    }
   ],
   "source": [
    "pred_preprocessor.processed_df"
   ]
  },
  {
   "cell_type": "code",
   "execution_count": 32,
   "metadata": {},
   "outputs": [],
   "source": [
    "#pred_preprocessor.processed_df = pred_preprocessor.processed_df.tail(66)\n",
    "pred_preprocessor.processed_df = pred_preprocessor.processed_df.tail(250)"
   ]
  },
  {
   "cell_type": "code",
   "execution_count": 33,
   "metadata": {},
   "outputs": [
    {
     "data": {
      "text/html": [
       "<div>\n",
       "<style scoped>\n",
       "    .dataframe tbody tr th:only-of-type {\n",
       "        vertical-align: middle;\n",
       "    }\n",
       "\n",
       "    .dataframe tbody tr th {\n",
       "        vertical-align: top;\n",
       "    }\n",
       "\n",
       "    .dataframe thead th {\n",
       "        text-align: right;\n",
       "    }\n",
       "</style>\n",
       "<table border=\"1\" class=\"dataframe\">\n",
       "  <thead>\n",
       "    <tr style=\"text-align: right;\">\n",
       "      <th></th>\n",
       "      <th>Open</th>\n",
       "      <th>High</th>\n",
       "      <th>Low</th>\n",
       "      <th>Close</th>\n",
       "      <th>Volume</th>\n",
       "    </tr>\n",
       "    <tr>\n",
       "      <th>timestamp</th>\n",
       "      <th></th>\n",
       "      <th></th>\n",
       "      <th></th>\n",
       "      <th></th>\n",
       "      <th></th>\n",
       "    </tr>\n",
       "  </thead>\n",
       "  <tbody>\n",
       "    <tr>\n",
       "      <th>2023-06-21 20:52:54</th>\n",
       "      <td>4409.25</td>\n",
       "      <td>4409.50</td>\n",
       "      <td>4409.25</td>\n",
       "      <td>4409.50</td>\n",
       "      <td>0.0</td>\n",
       "    </tr>\n",
       "    <tr>\n",
       "      <th>2023-06-21 20:52:55</th>\n",
       "      <td>4409.25</td>\n",
       "      <td>4409.50</td>\n",
       "      <td>4409.25</td>\n",
       "      <td>4409.50</td>\n",
       "      <td>0.0</td>\n",
       "    </tr>\n",
       "    <tr>\n",
       "      <th>2023-06-21 20:52:56</th>\n",
       "      <td>4409.25</td>\n",
       "      <td>4409.50</td>\n",
       "      <td>4409.25</td>\n",
       "      <td>4409.50</td>\n",
       "      <td>0.0</td>\n",
       "    </tr>\n",
       "    <tr>\n",
       "      <th>2023-06-21 20:52:57</th>\n",
       "      <td>4409.25</td>\n",
       "      <td>4409.50</td>\n",
       "      <td>4409.25</td>\n",
       "      <td>4409.50</td>\n",
       "      <td>0.0</td>\n",
       "    </tr>\n",
       "    <tr>\n",
       "      <th>2023-06-21 20:52:58</th>\n",
       "      <td>4409.25</td>\n",
       "      <td>4409.50</td>\n",
       "      <td>4409.25</td>\n",
       "      <td>4409.25</td>\n",
       "      <td>2.0</td>\n",
       "    </tr>\n",
       "    <tr>\n",
       "      <th>...</th>\n",
       "      <td>...</td>\n",
       "      <td>...</td>\n",
       "      <td>...</td>\n",
       "      <td>...</td>\n",
       "      <td>...</td>\n",
       "    </tr>\n",
       "    <tr>\n",
       "      <th>2023-06-21 20:56:59</th>\n",
       "      <td>4409.25</td>\n",
       "      <td>4409.50</td>\n",
       "      <td>4409.25</td>\n",
       "      <td>4409.50</td>\n",
       "      <td>0.0</td>\n",
       "    </tr>\n",
       "    <tr>\n",
       "      <th>2023-06-21 20:57:00</th>\n",
       "      <td>4409.25</td>\n",
       "      <td>4409.50</td>\n",
       "      <td>4409.25</td>\n",
       "      <td>4409.50</td>\n",
       "      <td>0.0</td>\n",
       "    </tr>\n",
       "    <tr>\n",
       "      <th>2023-06-21 20:57:01</th>\n",
       "      <td>4409.25</td>\n",
       "      <td>4409.50</td>\n",
       "      <td>4409.25</td>\n",
       "      <td>4409.50</td>\n",
       "      <td>0.0</td>\n",
       "    </tr>\n",
       "    <tr>\n",
       "      <th>2023-06-21 20:57:02</th>\n",
       "      <td>4409.25</td>\n",
       "      <td>4409.50</td>\n",
       "      <td>4409.25</td>\n",
       "      <td>4409.50</td>\n",
       "      <td>0.0</td>\n",
       "    </tr>\n",
       "    <tr>\n",
       "      <th>2023-06-21 20:57:03</th>\n",
       "      <td>4409.50</td>\n",
       "      <td>4409.75</td>\n",
       "      <td>4409.50</td>\n",
       "      <td>4409.50</td>\n",
       "      <td>18.0</td>\n",
       "    </tr>\n",
       "  </tbody>\n",
       "</table>\n",
       "<p>250 rows × 5 columns</p>\n",
       "</div>"
      ],
      "text/plain": [
       "                        Open     High      Low    Close  Volume\n",
       "timestamp                                                      \n",
       "2023-06-21 20:52:54  4409.25  4409.50  4409.25  4409.50     0.0\n",
       "2023-06-21 20:52:55  4409.25  4409.50  4409.25  4409.50     0.0\n",
       "2023-06-21 20:52:56  4409.25  4409.50  4409.25  4409.50     0.0\n",
       "2023-06-21 20:52:57  4409.25  4409.50  4409.25  4409.50     0.0\n",
       "2023-06-21 20:52:58  4409.25  4409.50  4409.25  4409.25     2.0\n",
       "...                      ...      ...      ...      ...     ...\n",
       "2023-06-21 20:56:59  4409.25  4409.50  4409.25  4409.50     0.0\n",
       "2023-06-21 20:57:00  4409.25  4409.50  4409.25  4409.50     0.0\n",
       "2023-06-21 20:57:01  4409.25  4409.50  4409.25  4409.50     0.0\n",
       "2023-06-21 20:57:02  4409.25  4409.50  4409.25  4409.50     0.0\n",
       "2023-06-21 20:57:03  4409.50  4409.75  4409.50  4409.50    18.0\n",
       "\n",
       "[250 rows x 5 columns]"
      ]
     },
     "execution_count": 33,
     "metadata": {},
     "output_type": "execute_result"
    }
   ],
   "source": [
    "pred_preprocessor.processed_df"
   ]
  },
  {
   "cell_type": "code",
   "execution_count": 34,
   "metadata": {},
   "outputs": [
    {
     "data": {
      "text/plain": [
       "(MinMaxScaler(), MinMaxScaler())"
      ]
     },
     "execution_count": 34,
     "metadata": {},
     "output_type": "execute_result"
    }
   ],
   "source": [
    "pred_preprocessor.scale_shift_data(look_ahead=0, for_training=False)"
   ]
  },
  {
   "cell_type": "code",
   "execution_count": 35,
   "metadata": {},
   "outputs": [],
   "source": [
    "X = pred_preprocessor.scaled_df"
   ]
  },
  {
   "cell_type": "code",
   "execution_count": 36,
   "metadata": {},
   "outputs": [
    {
     "data": {
      "text/html": [
       "<div>\n",
       "<style scoped>\n",
       "    .dataframe tbody tr th:only-of-type {\n",
       "        vertical-align: middle;\n",
       "    }\n",
       "\n",
       "    .dataframe tbody tr th {\n",
       "        vertical-align: top;\n",
       "    }\n",
       "\n",
       "    .dataframe thead th {\n",
       "        text-align: right;\n",
       "    }\n",
       "</style>\n",
       "<table border=\"1\" class=\"dataframe\">\n",
       "  <thead>\n",
       "    <tr style=\"text-align: right;\">\n",
       "      <th></th>\n",
       "      <th>Open</th>\n",
       "      <th>High</th>\n",
       "      <th>Low</th>\n",
       "      <th>Close</th>\n",
       "      <th>Volume</th>\n",
       "    </tr>\n",
       "    <tr>\n",
       "      <th>timestamp</th>\n",
       "      <th></th>\n",
       "      <th></th>\n",
       "      <th></th>\n",
       "      <th></th>\n",
       "      <th></th>\n",
       "    </tr>\n",
       "  </thead>\n",
       "  <tbody>\n",
       "    <tr>\n",
       "      <th>2023-06-21 20:52:54</th>\n",
       "      <td>0.333333</td>\n",
       "      <td>0.333333</td>\n",
       "      <td>0.333333</td>\n",
       "      <td>0.50</td>\n",
       "      <td>0.000000</td>\n",
       "    </tr>\n",
       "    <tr>\n",
       "      <th>2023-06-21 20:52:55</th>\n",
       "      <td>0.333333</td>\n",
       "      <td>0.333333</td>\n",
       "      <td>0.333333</td>\n",
       "      <td>0.50</td>\n",
       "      <td>0.000000</td>\n",
       "    </tr>\n",
       "    <tr>\n",
       "      <th>2023-06-21 20:52:56</th>\n",
       "      <td>0.333333</td>\n",
       "      <td>0.333333</td>\n",
       "      <td>0.333333</td>\n",
       "      <td>0.50</td>\n",
       "      <td>0.000000</td>\n",
       "    </tr>\n",
       "    <tr>\n",
       "      <th>2023-06-21 20:52:57</th>\n",
       "      <td>0.333333</td>\n",
       "      <td>0.333333</td>\n",
       "      <td>0.333333</td>\n",
       "      <td>0.50</td>\n",
       "      <td>0.000000</td>\n",
       "    </tr>\n",
       "    <tr>\n",
       "      <th>2023-06-21 20:52:58</th>\n",
       "      <td>0.333333</td>\n",
       "      <td>0.333333</td>\n",
       "      <td>0.333333</td>\n",
       "      <td>0.25</td>\n",
       "      <td>0.010526</td>\n",
       "    </tr>\n",
       "    <tr>\n",
       "      <th>...</th>\n",
       "      <td>...</td>\n",
       "      <td>...</td>\n",
       "      <td>...</td>\n",
       "      <td>...</td>\n",
       "      <td>...</td>\n",
       "    </tr>\n",
       "    <tr>\n",
       "      <th>2023-06-21 20:56:59</th>\n",
       "      <td>0.333333</td>\n",
       "      <td>0.333333</td>\n",
       "      <td>0.333333</td>\n",
       "      <td>0.50</td>\n",
       "      <td>0.000000</td>\n",
       "    </tr>\n",
       "    <tr>\n",
       "      <th>2023-06-21 20:57:00</th>\n",
       "      <td>0.333333</td>\n",
       "      <td>0.333333</td>\n",
       "      <td>0.333333</td>\n",
       "      <td>0.50</td>\n",
       "      <td>0.000000</td>\n",
       "    </tr>\n",
       "    <tr>\n",
       "      <th>2023-06-21 20:57:01</th>\n",
       "      <td>0.333333</td>\n",
       "      <td>0.333333</td>\n",
       "      <td>0.333333</td>\n",
       "      <td>0.50</td>\n",
       "      <td>0.000000</td>\n",
       "    </tr>\n",
       "    <tr>\n",
       "      <th>2023-06-21 20:57:02</th>\n",
       "      <td>0.333333</td>\n",
       "      <td>0.333333</td>\n",
       "      <td>0.333333</td>\n",
       "      <td>0.50</td>\n",
       "      <td>0.000000</td>\n",
       "    </tr>\n",
       "    <tr>\n",
       "      <th>2023-06-21 20:57:03</th>\n",
       "      <td>0.666667</td>\n",
       "      <td>0.666667</td>\n",
       "      <td>0.666667</td>\n",
       "      <td>0.50</td>\n",
       "      <td>0.094737</td>\n",
       "    </tr>\n",
       "  </tbody>\n",
       "</table>\n",
       "<p>250 rows × 5 columns</p>\n",
       "</div>"
      ],
      "text/plain": [
       "                         Open      High       Low  Close    Volume\n",
       "timestamp                                                         \n",
       "2023-06-21 20:52:54  0.333333  0.333333  0.333333   0.50  0.000000\n",
       "2023-06-21 20:52:55  0.333333  0.333333  0.333333   0.50  0.000000\n",
       "2023-06-21 20:52:56  0.333333  0.333333  0.333333   0.50  0.000000\n",
       "2023-06-21 20:52:57  0.333333  0.333333  0.333333   0.50  0.000000\n",
       "2023-06-21 20:52:58  0.333333  0.333333  0.333333   0.25  0.010526\n",
       "...                       ...       ...       ...    ...       ...\n",
       "2023-06-21 20:56:59  0.333333  0.333333  0.333333   0.50  0.000000\n",
       "2023-06-21 20:57:00  0.333333  0.333333  0.333333   0.50  0.000000\n",
       "2023-06-21 20:57:01  0.333333  0.333333  0.333333   0.50  0.000000\n",
       "2023-06-21 20:57:02  0.333333  0.333333  0.333333   0.50  0.000000\n",
       "2023-06-21 20:57:03  0.666667  0.666667  0.666667   0.50  0.094737\n",
       "\n",
       "[250 rows x 5 columns]"
      ]
     },
     "execution_count": 36,
     "metadata": {},
     "output_type": "execute_result"
    }
   ],
   "source": [
    "X"
   ]
  },
  {
   "cell_type": "code",
   "execution_count": 37,
   "metadata": {},
   "outputs": [],
   "source": [
    "X = pred_preprocessor.create_dataset(X, y=None, time_steps=60, look_ahead=0, for_training=False)"
   ]
  },
  {
   "cell_type": "code",
   "execution_count": 39,
   "metadata": {},
   "outputs": [
    {
     "data": {
      "text/plain": [
       "190"
      ]
     },
     "execution_count": 39,
     "metadata": {},
     "output_type": "execute_result"
    }
   ],
   "source": [
    "len(X)"
   ]
  },
  {
   "cell_type": "code",
   "execution_count": null,
   "metadata": {},
   "outputs": [],
   "source": []
  },
  {
   "cell_type": "code",
   "execution_count": 40,
   "metadata": {},
   "outputs": [
    {
     "name": "stdout",
     "output_type": "stream",
     "text": [
      "6/6 [==============================] - 0s 6ms/step\n"
     ]
    }
   ],
   "source": [
    "model_builder = ModelBuilder(n_features=5, time_steps=60)\n",
    "predictor = Predictor(model=None, preprocessor=pred_preprocessor)\n",
    "model_builder.load_model(\"../models/model.h5\")\n",
    "\n",
    "# Assign the model to the predictor\n",
    "predictor.model = model_builder.model\n",
    "# Predict the next 'look_ahead' steps\n",
    "predictions = predictor.predict(time_steps=60, for_training=False)"
   ]
  },
  {
   "cell_type": "code",
   "execution_count": 41,
   "metadata": {},
   "outputs": [
    {
     "data": {
      "text/plain": [
       "array([[0.23812972],\n",
       "       [0.21817155],\n",
       "       [0.20020513],\n",
       "       [0.18480946],\n",
       "       [0.17214589],\n",
       "       [0.16210766],\n",
       "       [0.15443254],\n",
       "       [0.15274526],\n",
       "       [0.15054107],\n",
       "       [0.14865759],\n",
       "       [0.14707857],\n",
       "       [0.14578785],\n",
       "       [0.14475845],\n",
       "       [0.16335495],\n",
       "       [0.19343972],\n",
       "       [0.22959436],\n",
       "       [0.26691508],\n",
       "       [0.30200914],\n",
       "       [0.31963152],\n",
       "       [0.3251544 ],\n",
       "       [0.32361722],\n",
       "       [0.3178501 ],\n",
       "       [0.310019  ],\n",
       "       [0.30162185],\n",
       "       [0.2936183 ],\n",
       "       [0.29932553],\n",
       "       [0.31237233],\n",
       "       [0.33451626],\n",
       "       [0.3797043 ],\n",
       "       [0.433237  ],\n",
       "       [0.48745903],\n",
       "       [0.5376426 ],\n",
       "       [0.5860698 ],\n",
       "       [0.62735194],\n",
       "       [0.66269106],\n",
       "       [0.67864853],\n",
       "       [0.69101894],\n",
       "       [0.7131095 ],\n",
       "       [0.7335184 ],\n",
       "       [0.76511824],\n",
       "       [0.78544754],\n",
       "       [0.7983215 ],\n",
       "       [0.8061627 ],\n",
       "       [0.81008244],\n",
       "       [0.811234  ],\n",
       "       [0.81057084],\n",
       "       [0.79307663],\n",
       "       [0.77540284],\n",
       "       [0.7578575 ],\n",
       "       [0.74170226],\n",
       "       [0.727629  ],\n",
       "       [0.7159011 ],\n",
       "       [0.70649153],\n",
       "       [0.6991981 ],\n",
       "       [0.70046884],\n",
       "       [0.7092973 ],\n",
       "       [0.7214635 ],\n",
       "       [0.73455524],\n",
       "       [0.7606243 ],\n",
       "       [0.7761752 ],\n",
       "       [0.7989765 ],\n",
       "       [0.8248072 ],\n",
       "       [0.8357892 ],\n",
       "       [0.8395388 ],\n",
       "       [0.83824986],\n",
       "       [0.8474756 ],\n",
       "       [0.8606652 ],\n",
       "       [0.8752637 ],\n",
       "       [0.8792258 ],\n",
       "       [0.88700795],\n",
       "       [0.90134704],\n",
       "       [0.90334   ],\n",
       "       [0.8886055 ],\n",
       "       [0.867998  ],\n",
       "       [0.8449639 ],\n",
       "       [0.82226956],\n",
       "       [0.8121217 ],\n",
       "       [0.808765  ],\n",
       "       [0.80195254],\n",
       "       [0.7900697 ],\n",
       "       [0.7796333 ],\n",
       "       [0.77330434],\n",
       "       [0.77061695],\n",
       "       [0.76522434],\n",
       "       [0.7704391 ],\n",
       "       [0.78780633],\n",
       "       [0.8105134 ],\n",
       "       [0.8351791 ],\n",
       "       [0.8456808 ],\n",
       "       [0.8476008 ],\n",
       "       [0.8448892 ],\n",
       "       [0.83928746],\n",
       "       [0.8272183 ],\n",
       "       [0.8124973 ],\n",
       "       [0.7979689 ],\n",
       "       [0.78446907],\n",
       "       [0.77255386],\n",
       "       [0.76244545],\n",
       "       [0.75414234],\n",
       "       [0.7475108 ],\n",
       "       [0.74234635],\n",
       "       [0.7384198 ],\n",
       "       [0.7353835 ],\n",
       "       [0.7328703 ],\n",
       "       [0.73125345],\n",
       "       [0.72524947],\n",
       "       [0.71679384],\n",
       "       [0.7086619 ],\n",
       "       [0.7012455 ],\n",
       "       [0.6948986 ],\n",
       "       [0.6897593 ],\n",
       "       [0.6858143 ],\n",
       "       [0.6877013 ],\n",
       "       [0.6927086 ],\n",
       "       [0.6932043 ],\n",
       "       [0.6926648 ],\n",
       "       [0.69135725],\n",
       "       [0.6896901 ],\n",
       "       [0.6873472 ],\n",
       "       [0.685402  ],\n",
       "       [0.6839118 ],\n",
       "       [0.68280643],\n",
       "       [0.6820345 ],\n",
       "       [0.6815382 ],\n",
       "       [0.68125814],\n",
       "       [0.681139  ],\n",
       "       [0.6811312 ],\n",
       "       [0.6811944 ],\n",
       "       [0.68129647],\n",
       "       [0.6814148 ],\n",
       "       [0.681532  ],\n",
       "       [0.6617546 ],\n",
       "       [0.634728  ],\n",
       "       [0.6049194 ],\n",
       "       [0.5756086 ],\n",
       "       [0.5488402 ],\n",
       "       [0.5257062 ],\n",
       "       [0.506613  ],\n",
       "       [0.49150783],\n",
       "       [0.4800562 ],\n",
       "       [0.4717735 ],\n",
       "       [0.465817  ],\n",
       "       [0.4621483 ],\n",
       "       [0.45996472],\n",
       "       [0.45913506],\n",
       "       [0.45920947],\n",
       "       [0.4598675 ],\n",
       "       [0.46086627],\n",
       "       [0.46122965],\n",
       "       [0.4621346 ],\n",
       "       [0.46321043],\n",
       "       [0.46431836],\n",
       "       [0.4602291 ],\n",
       "       [0.4542685 ],\n",
       "       [0.45208347],\n",
       "       [0.45215395],\n",
       "       [0.44847077],\n",
       "       [0.443717  ],\n",
       "       [0.4381149 ],\n",
       "       [0.43201295],\n",
       "       [0.4271618 ],\n",
       "       [0.4233193 ],\n",
       "       [0.42038712],\n",
       "       [0.41824389],\n",
       "       [0.4167569 ],\n",
       "       [0.41579327],\n",
       "       [0.41522917],\n",
       "       [0.41495526],\n",
       "       [0.41448602],\n",
       "       [0.4143904 ],\n",
       "       [0.41427538],\n",
       "       [0.4143776 ],\n",
       "       [0.41457093],\n",
       "       [0.41479722],\n",
       "       [0.4150202 ],\n",
       "       [0.41949385],\n",
       "       [0.42569038],\n",
       "       [0.43769956],\n",
       "       [0.44570807],\n",
       "       [0.4530402 ],\n",
       "       [0.45894983],\n",
       "       [0.46359614],\n",
       "       [0.46706787],\n",
       "       [0.46953234],\n",
       "       [0.4711725 ],\n",
       "       [0.47216436],\n",
       "       [0.4726653 ],\n",
       "       [0.47281036],\n",
       "       [0.4727107 ],\n",
       "       [0.47245505]], dtype=float32)"
      ]
     },
     "execution_count": 41,
     "metadata": {},
     "output_type": "execute_result"
    }
   ],
   "source": [
    "predictions"
   ]
  },
  {
   "cell_type": "code",
   "execution_count": 20,
   "metadata": {},
   "outputs": [
    {
     "data": {
      "text/plain": [
       "array([[0.34899536],\n",
       "       [0.35761642],\n",
       "       [0.3638836 ],\n",
       "       [0.36821687],\n",
       "       [0.37101164],\n",
       "       [0.37262303]], dtype=float32)"
      ]
     },
     "execution_count": 20,
     "metadata": {},
     "output_type": "execute_result"
    }
   ],
   "source": [
    "predictions"
   ]
  },
  {
   "cell_type": "code",
   "execution_count": 42,
   "metadata": {},
   "outputs": [],
   "source": [
    "rescaled_predictions = predictor.rescale_prediction(predictions)"
   ]
  },
  {
   "cell_type": "code",
   "execution_count": 50,
   "metadata": {},
   "outputs": [
    {
     "data": {
      "text/plain": [
       "4409.4727"
      ]
     },
     "execution_count": 50,
     "metadata": {},
     "output_type": "execute_result"
    }
   ],
   "source": [
    "rescaled_predictions[-1][0]"
   ]
  },
  {
   "cell_type": "code",
   "execution_count": 22,
   "metadata": {},
   "outputs": [
    {
     "data": {
      "text/plain": [
       "array([[4409.3374],\n",
       "       [4409.3394],\n",
       "       [4409.341 ],\n",
       "       [4409.3423],\n",
       "       [4409.343 ],\n",
       "       [4409.3433]], dtype=float32)"
      ]
     },
     "execution_count": 22,
     "metadata": {},
     "output_type": "execute_result"
    }
   ],
   "source": [
    "rescaled_predictions"
   ]
  },
  {
   "cell_type": "code",
   "execution_count": 46,
   "metadata": {},
   "outputs": [],
   "source": [
    "price = rescaled_predictions[-1][0]"
   ]
  },
  {
   "cell_type": "code",
   "execution_count": 47,
   "metadata": {},
   "outputs": [
    {
     "data": {
      "text/plain": [
       "4409.4727"
      ]
     },
     "execution_count": 47,
     "metadata": {},
     "output_type": "execute_result"
    }
   ],
   "source": [
    "price"
   ]
  },
  {
   "cell_type": "code",
   "execution_count": 45,
   "metadata": {},
   "outputs": [
    {
     "data": {
      "text/plain": [
       "(190, 60, 5)"
      ]
     },
     "execution_count": 45,
     "metadata": {},
     "output_type": "execute_result"
    }
   ],
   "source": [
    "X.shape"
   ]
  },
  {
   "cell_type": "code",
   "execution_count": null,
   "metadata": {},
   "outputs": [],
   "source": []
  }
 ],
 "metadata": {
  "kernelspec": {
   "display_name": "Python 3",
   "language": "python",
   "name": "python3"
  },
  "language_info": {
   "codemirror_mode": {
    "name": "ipython",
    "version": 3
   },
   "file_extension": ".py",
   "mimetype": "text/x-python",
   "name": "python",
   "nbconvert_exporter": "python",
   "pygments_lexer": "ipython3",
   "version": "3.8.10"
  }
 },
 "nbformat": 4,
 "nbformat_minor": 2
}
