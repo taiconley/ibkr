{
 "cells": [
  {
   "cell_type": "code",
   "execution_count": null,
   "metadata": {},
   "outputs": [],
   "source": [
    "!pip install backtrader"
   ]
  },
  {
   "cell_type": "code",
   "execution_count": 37,
   "metadata": {},
   "outputs": [],
   "source": [
    "import sys\n",
    "sys.path.append(\"/ibkr\")\n",
    "\n",
    "import os\n",
    "import datetime\n",
    "import pandas as pd\n",
    "import time\n",
    "import numpy as np\n",
    "import matplotlib.pyplot as plt\n",
    "\n",
    "\n",
    "from sklearn.preprocessing import MinMaxScaler\n",
    "from sklearn.model_selection import train_test_split\n",
    "\n",
    "import tensorflow as tf\n",
    "from tensorflow.keras.models import load_model\n",
    "from keras.models import Sequential\n",
    "from keras.layers import Dense\n",
    "from keras.layers import LSTM\n",
    "from keras.layers import Dropout\n",
    "\n",
    "\n",
    "import passwords\n",
    "from databaseClass import DB\n",
    "from utils import generate_df_from_sql_file, generate_list_from_sql_file\n",
    "from utils import DataProcessor, ModelBuilder, Predictor\n",
    "pd.set_option('display.max_rows', None)"
   ]
  },
  {
   "cell_type": "code",
   "execution_count": 38,
   "metadata": {},
   "outputs": [],
   "source": [
    "userName = passwords.userName\n",
    "userPass = passwords.userPass\n",
    "dataBaseName = passwords.dataBaseName\n",
    "host = passwords.host\n",
    "\n",
    "db = DB(userName=userName, userPass=userPass, dataBaseName=dataBaseName, host='ibkr_db', docker=True)"
   ]
  },
  {
   "cell_type": "code",
   "execution_count": null,
   "metadata": {},
   "outputs": [],
   "source": []
  },
  {
   "cell_type": "code",
   "execution_count": 39,
   "metadata": {},
   "outputs": [
    {
     "name": "stderr",
     "output_type": "stream",
     "text": [
      "/ibkr/databaseClass.py:111: UserWarning: pandas only supports SQLAlchemy connectable (engine/connection) or database string URI or sqlite3 DBAPI2 connection. Other DBAPI2 objects are not tested. Please consider using SQLAlchemy.\n",
      "  df = pd.read_sql_query(query, con=conn)\n"
     ]
    }
   ],
   "source": [
    "input_sql_file='../sql_files/test.sql'\n",
    "df = generate_df_from_sql_file(input_sql_file, db)"
   ]
  },
  {
   "cell_type": "code",
   "execution_count": 40,
   "metadata": {
    "scrolled": true
   },
   "outputs": [
    {
     "data": {
      "text/html": [
       "<div>\n",
       "<style scoped>\n",
       "    .dataframe tbody tr th:only-of-type {\n",
       "        vertical-align: middle;\n",
       "    }\n",
       "\n",
       "    .dataframe tbody tr th {\n",
       "        vertical-align: top;\n",
       "    }\n",
       "\n",
       "    .dataframe thead th {\n",
       "        text-align: right;\n",
       "    }\n",
       "</style>\n",
       "<table border=\"1\" class=\"dataframe\">\n",
       "  <thead>\n",
       "    <tr style=\"text-align: right;\">\n",
       "      <th></th>\n",
       "      <th>ticktype</th>\n",
       "      <th>price</th>\n",
       "      <th>volume</th>\n",
       "      <th>timestamp</th>\n",
       "    </tr>\n",
       "  </thead>\n",
       "  <tbody>\n",
       "    <tr>\n",
       "      <th>1</th>\n",
       "      <td>1</td>\n",
       "      <td>4363.50</td>\n",
       "      <td>0</td>\n",
       "      <td>2023-06-12 16:36:40.089188</td>\n",
       "    </tr>\n",
       "    <tr>\n",
       "      <th>2</th>\n",
       "      <td>2</td>\n",
       "      <td>4363.75</td>\n",
       "      <td>0</td>\n",
       "      <td>2023-06-12 16:36:40.106197</td>\n",
       "    </tr>\n",
       "    <tr>\n",
       "      <th>3</th>\n",
       "      <td>4</td>\n",
       "      <td>4363.75</td>\n",
       "      <td>0</td>\n",
       "      <td>2023-06-12 16:36:40.112691</td>\n",
       "    </tr>\n",
       "    <tr>\n",
       "      <th>4</th>\n",
       "      <td>5</td>\n",
       "      <td>0.00</td>\n",
       "      <td>2</td>\n",
       "      <td>2023-06-12 16:36:40.118582</td>\n",
       "    </tr>\n",
       "    <tr>\n",
       "      <th>5</th>\n",
       "      <td>5</td>\n",
       "      <td>0.00</td>\n",
       "      <td>2</td>\n",
       "      <td>2023-06-12 16:36:40.124512</td>\n",
       "    </tr>\n",
       "  </tbody>\n",
       "</table>\n",
       "</div>"
      ],
      "text/plain": [
       "   ticktype    price  volume                  timestamp\n",
       "1         1  4363.50       0 2023-06-12 16:36:40.089188\n",
       "2         2  4363.75       0 2023-06-12 16:36:40.106197\n",
       "3         4  4363.75       0 2023-06-12 16:36:40.112691\n",
       "4         5     0.00       2 2023-06-12 16:36:40.118582\n",
       "5         5     0.00       2 2023-06-12 16:36:40.124512"
      ]
     },
     "execution_count": 40,
     "metadata": {},
     "output_type": "execute_result"
    }
   ],
   "source": [
    "df = df.iloc[1:]\n",
    "df.head()"
   ]
  },
  {
   "cell_type": "code",
   "execution_count": 22,
   "metadata": {},
   "outputs": [],
   "source": [
    "def process_df(df, look_ahead=5):\n",
    "    # Create a DataProcessor instance\n",
    "    processor = DataProcessor(df) \n",
    "    # Process the df\n",
    "    processor.process_df()\n",
    "    # Scale and shift the data\n",
    "    scaler, close_scaler = processor.scale_shift_data(look_ahead)\n",
    "    # Create the X and y datasets\n",
    "    X, y = processor.scaled_df, processor.shifted_df['Close']\n",
    "    # Create train test split\n",
    "    X_train, X_test, y_train, y_test = processor.create_train_test_split(X, y)\n",
    "    # Create final train and test datasets\n",
    "    TIME_STEPS = 60\n",
    "    X_train, y_train = processor.create_dataset(X_train, y_train, TIME_STEPS)\n",
    "    X_test, y_test = processor.create_dataset(X_test, y_test, TIME_STEPS)\n",
    "    # Number of features in the data\n",
    "    n_features = X_train.shape[2]\n",
    "    \n",
    "    # Create a ModelBuilder instance and build the model\n",
    "    builder = ModelBuilder(n_features, TIME_STEPS)\n",
    "    # Train the model\n",
    "    #model, history = builder.train_model(X_train, y_train, X_test, y_test, epochs=5, batch_size=64)\n",
    "    # Save the model\n",
    "    \n",
    "    model_path = '../models/model.h5'\n",
    "    \n",
    "    builder.load_model(model_path)\n",
    "    # Plot loss\n",
    "    #builder.plot_loss(history)\n",
    "    # Create a Predictor instance\n",
    "    predictor = Predictor(builder.model, processor)\n",
    "    # Predict\n",
    "    predictions = predictor.predict(look_ahead, TIME_STEPS)\n",
    "    # Rescale predictions\n",
    "    rescaled_predictions = predictor.rescale_prediction(predictions)\n",
    "    return y_test, rescaled_predictions"
   ]
  },
  {
   "cell_type": "code",
   "execution_count": null,
   "metadata": {},
   "outputs": [],
   "source": [
    "y_test,rescaled_predictions = process_df(df, 5)"
   ]
  },
  {
   "cell_type": "code",
   "execution_count": 41,
   "metadata": {},
   "outputs": [],
   "source": [
    "class Backtester:\n",
    "    def __init__(self, processed_data, predicted_prices, initial_balance):\n",
    "        self.data = pd.concat([processed_data, pd.DataFrame({\n",
    "            'Predicted': predicted_prices,\n",
    "            'Order': np.zeros(len(processed_data)),\n",
    "            'Holdings': np.zeros(len(processed_data)),\n",
    "            'Cash': np.full(len(processed_data), initial_balance),\n",
    "            'Total': np.full(len(processed_data), initial_balance)\n",
    "        }, index=processed_data.index)], axis=1).copy()\n",
    "        self.initial_balance = initial_balance\n",
    "    \n",
    "    def run(self):\n",
    "        position = 0  # -1: short, 0: no position, 1: long\n",
    "        for i in range(len(self.data) - 1):\n",
    "            actual_price_now = self.data.iat[i, self.data.columns.get_loc('Actual')]\n",
    "            predicted_price_now = self.data.iat[i, self.data.columns.get_loc('Predicted')]\n",
    "            # Buy condition\n",
    "            if predicted_price_now > actual_price_now and position != 1:\n",
    "                self.data.iat[i, self.data.columns.get_loc('Order')] = 1\n",
    "                self.data.iat[i, self.data.columns.get_loc('Cash')] -= actual_price_now\n",
    "                position = 1\n",
    "            # Sell condition\n",
    "            elif predicted_price_now < actual_price_now and position != -1:\n",
    "                self.data.iat[i, self.data.columns.get_loc('Order')] = -1\n",
    "                self.data.iat[i, self.data.columns.get_loc('Cash')] += actual_price_now\n",
    "                position = -1\n",
    "            self.data.iat[i, self.data.columns.get_loc('Holdings')] = position * actual_price_now\n",
    "            self.data.iat[i, self.data.columns.get_loc('Total')] = self.data.iat[i, self.data.columns.get_loc('Cash')] + self.data.iat[i, self.data.columns.get_loc('Holdings')]\n",
    "            # Copy Cash and Holdings to the next row\n",
    "            self.data.iat[i + 1, self.data.columns.get_loc('Cash')] = self.data.iat[i, self.data.columns.get_loc('Cash')]\n",
    "            self.data.iat[i + 1, self.data.columns.get_loc('Holdings')] = self.data.iat[i, self.data.columns.get_loc('Holdings')]\n",
    "        self.data.iat[-1, self.data.columns.get_loc('Total')] = self.data.iat[-1, self.data.columns.get_loc('Cash')] + self.data.iat[-1, self.data.columns.get_loc('Holdings')]\n",
    "        return self.data\n",
    "\n",
    "    def calculate_metrics(self):\n",
    "        total_profit = self.data['Total'].iloc[-1] - self.initial_balance\n",
    "        num_positive_trades = len(self.data[self.data['Order'] > 0])\n",
    "        num_negative_trades = len(self.data[self.data['Order'] < 0])\n",
    "        total_trades = num_positive_trades + num_negative_trades\n",
    "        win_ratio = num_positive_trades / total_trades if total_trades != 0 else 0\n",
    "        avg_profit_per_trade = total_profit / total_trades if total_trades != 0 else 0\n",
    "        return_on_investment = total_profit / self.initial_balance\n",
    "        daily_returns = self.data['Total'].pct_change().dropna()\n",
    "        sharpe_ratio = np.sqrt(252) * (daily_returns.mean() / daily_returns.std())\n",
    "        metrics = {\n",
    "            'Total Profit': total_profit,\n",
    "            'Number of Positive Trades': num_positive_trades,\n",
    "            'Number of Negative Trades': num_negative_trades,\n",
    "            'Win Ratio': win_ratio,\n",
    "            'Average Profit per Trade': avg_profit_per_trade,\n",
    "            'Return on Investment': return_on_investment,\n",
    "            'Sharpe Ratio': sharpe_ratio,\n",
    "        }\n",
    "        return metrics\n",
    "\n",
    "    def plot_portfolio_values(self):\n",
    "        fig, ax1 = plt.subplots(figsize=(10, 5))\n",
    "        color = 'tab:blue'\n",
    "        ax1.set_xlabel('Time')\n",
    "        ax1.set_ylabel('Actual Prices', color=color)\n",
    "        ax1.plot(self.data['Actual'], color=color)\n",
    "        ax1.tick_params(axis='y', labelcolor=color)\n",
    "        ax2 = ax1.twinx()  # instantiate a second axes that shares the same x-axis\n",
    "        color = 'tab:red'\n",
    "        ax2.set_ylabel('Total Value', color=color)\n",
    "        ax2.plot(self.data['Total'], color=color)\n",
    "        ax2.tick_params(axis='y', labelcolor=color)\n",
    "        fig.tight_layout()  # otherwise the right y-label is slightly clipped\n",
    "        plt.title('Actual Prices and Portfolio Value Over Time')\n",
    "        plt.show()"
   ]
  },
  {
   "cell_type": "code",
   "execution_count": 42,
   "metadata": {},
   "outputs": [],
   "source": [
    "def test_on_unseen_data(unseen_df, model_path, look_ahead, time_steps, initial_balance):\n",
    "    model = load_model(model_path)\n",
    "    data_processor = DataProcessor(unseen_df)\n",
    "    data_processor.process_df()\n",
    "    data_processor.scale_shift_data(look_ahead)\n",
    "    X_unseen, y_unseen = data_processor.create_dataset(data_processor.scaled_df, data_processor.shifted_df['Close'], time_steps)\n",
    "    predictor = Predictor(model, data_processor)\n",
    "    predictions_unseen = predictor.predict(look_ahead, time_steps)\n",
    "    rescaled_predictions_unseen = predictor.rescale_prediction(predictions_unseen)\n",
    "    rescaled_predictions_unseen = rescaled_predictions_unseen.flatten()\n",
    "\n",
    "    actual_prices_unseen = data_processor.processed_df['Close'].values[time_steps+look_ahead:]\n",
    "    actual_prices_unseen = actual_prices_unseen.flatten()\n",
    "\n",
    "    processed_data_unseen = data_processor.processed_df.iloc[time_steps+look_ahead:]\n",
    "    processed_data_unseen = processed_data_unseen.assign(Actual = actual_prices_unseen)\n",
    "    backtester = Backtester(processed_data_unseen, rescaled_predictions_unseen, initial_balance)\n",
    "    results = backtester.run()\n",
    "    backtester.plot_portfolio_values()\n",
    "    metrics = backtester.calculate_metrics()\n",
    "    return results, metrics\n"
   ]
  },
  {
   "cell_type": "code",
   "execution_count": 43,
   "metadata": {
    "scrolled": true
   },
   "outputs": [
    {
     "name": "stderr",
     "output_type": "stream",
     "text": [
      "/ibkr/databaseClass.py:111: UserWarning: pandas only supports SQLAlchemy connectable (engine/connection) or database string URI or sqlite3 DBAPI2 connection. Other DBAPI2 objects are not tested. Please consider using SQLAlchemy.\n",
      "  df = pd.read_sql_query(query, con=conn)\n"
     ]
    },
    {
     "name": "stdout",
     "output_type": "stream",
     "text": [
      "695/695 [==============================] - 3s 4ms/step\n"
     ]
    },
    {
     "data": {
      "image/png": "[encoded data removed]",
      "text/plain": [
       "<Figure size 1000x500 with 2 Axes>"
      ]
     },
     "metadata": {},
     "output_type": "display_data"
    }
   ],
   "source": [
    "input_sql_file='../sql_files/jun13.sql'\n",
    "unseen_df = generate_df_from_sql_file(input_sql_file, db)\n",
    "\n",
    "model_path = \"../models/model.h5\"  # replace with the actual path to your saved model\n",
    "look_ahead = 5  # replace with the value you used in training\n",
    "time_steps = 60  # replace with the value you used in training\n",
    "initial_balance = 10000\n",
    "results, metrics = test_on_unseen_data(unseen_df, model_path, look_ahead, time_steps, initial_balance)"
   ]
  },
  {
   "cell_type": "code",
   "execution_count": 44,
   "metadata": {
    "scrolled": true
   },
   "outputs": [
    {
     "data": {
      "text/html": [
       "<div>\n",
       "<style scoped>\n",
       "    .dataframe tbody tr th:only-of-type {\n",
       "        vertical-align: middle;\n",
       "    }\n",
       "\n",
       "    .dataframe tbody tr th {\n",
       "        vertical-align: top;\n",
       "    }\n",
       "\n",
       "    .dataframe thead th {\n",
       "        text-align: right;\n",
       "    }\n",
       "</style>\n",
       "<table border=\"1\" class=\"dataframe\">\n",
       "  <thead>\n",
       "    <tr style=\"text-align: right;\">\n",
       "      <th></th>\n",
       "      <th>Open</th>\n",
       "      <th>High</th>\n",
       "      <th>Low</th>\n",
       "      <th>Close</th>\n",
       "      <th>Volume</th>\n",
       "      <th>Actual</th>\n",
       "      <th>Predicted</th>\n",
       "      <th>Order</th>\n",
       "      <th>Holdings</th>\n",
       "      <th>Cash</th>\n",
       "      <th>Total</th>\n",
       "    </tr>\n",
       "    <tr>\n",
       "      <th>timestamp</th>\n",
       "      <th></th>\n",
       "      <th></th>\n",
       "      <th></th>\n",
       "      <th></th>\n",
       "      <th></th>\n",
       "      <th></th>\n",
       "      <th></th>\n",
       "      <th></th>\n",
       "      <th></th>\n",
       "      <th></th>\n",
       "      <th></th>\n",
       "    </tr>\n",
       "  </thead>\n",
       "  <tbody>\n",
       "    <tr>\n",
       "      <th>2023-06-13 14:44:20</th>\n",
       "      <td>4408.25</td>\n",
       "      <td>4408.50</td>\n",
       "      <td>4408.25</td>\n",
       "      <td>4408.50</td>\n",
       "      <td>2.0</td>\n",
       "      <td>4408.50</td>\n",
       "      <td>4409.347656</td>\n",
       "      <td>1.0</td>\n",
       "      <td>4408.50</td>\n",
       "      <td>5591.5</td>\n",
       "      <td>10000.00</td>\n",
       "    </tr>\n",
       "    <tr>\n",
       "      <th>2023-06-13 14:44:21</th>\n",
       "      <td>4408.25</td>\n",
       "      <td>4408.50</td>\n",
       "      <td>4408.25</td>\n",
       "      <td>4408.25</td>\n",
       "      <td>34.0</td>\n",
       "      <td>4408.25</td>\n",
       "      <td>4409.278809</td>\n",
       "      <td>0.0</td>\n",
       "      <td>4408.25</td>\n",
       "      <td>5591.5</td>\n",
       "      <td>9999.75</td>\n",
       "    </tr>\n",
       "    <tr>\n",
       "      <th>2023-06-13 14:44:22</th>\n",
       "      <td>4408.25</td>\n",
       "      <td>4408.50</td>\n",
       "      <td>4408.25</td>\n",
       "      <td>4408.25</td>\n",
       "      <td>7.0</td>\n",
       "      <td>4408.25</td>\n",
       "      <td>4409.241699</td>\n",
       "      <td>0.0</td>\n",
       "      <td>4408.25</td>\n",
       "      <td>5591.5</td>\n",
       "      <td>9999.75</td>\n",
       "    </tr>\n",
       "    <tr>\n",
       "      <th>2023-06-13 14:44:23</th>\n",
       "      <td>4408.00</td>\n",
       "      <td>4408.25</td>\n",
       "      <td>4408.00</td>\n",
       "      <td>4408.25</td>\n",
       "      <td>26.0</td>\n",
       "      <td>4408.25</td>\n",
       "      <td>4409.192871</td>\n",
       "      <td>0.0</td>\n",
       "      <td>4408.25</td>\n",
       "      <td>5591.5</td>\n",
       "      <td>9999.75</td>\n",
       "    </tr>\n",
       "    <tr>\n",
       "      <th>2023-06-13 14:44:24</th>\n",
       "      <td>4408.00</td>\n",
       "      <td>4408.25</td>\n",
       "      <td>4408.00</td>\n",
       "      <td>4408.00</td>\n",
       "      <td>2.0</td>\n",
       "      <td>4408.00</td>\n",
       "      <td>4409.153809</td>\n",
       "      <td>0.0</td>\n",
       "      <td>4408.00</td>\n",
       "      <td>5591.5</td>\n",
       "      <td>9999.50</td>\n",
       "    </tr>\n",
       "  </tbody>\n",
       "</table>\n",
       "</div>"
      ],
      "text/plain": [
       "                        Open     High      Low    Close  Volume   Actual  \\\n",
       "timestamp                                                                  \n",
       "2023-06-13 14:44:20  4408.25  4408.50  4408.25  4408.50     2.0  4408.50   \n",
       "2023-06-13 14:44:21  4408.25  4408.50  4408.25  4408.25    34.0  4408.25   \n",
       "2023-06-13 14:44:22  4408.25  4408.50  4408.25  4408.25     7.0  4408.25   \n",
       "2023-06-13 14:44:23  4408.00  4408.25  4408.00  4408.25    26.0  4408.25   \n",
       "2023-06-13 14:44:24  4408.00  4408.25  4408.00  4408.00     2.0  4408.00   \n",
       "\n",
       "                       Predicted  Order  Holdings    Cash     Total  \n",
       "timestamp                                                            \n",
       "2023-06-13 14:44:20  4409.347656    1.0   4408.50  5591.5  10000.00  \n",
       "2023-06-13 14:44:21  4409.278809    0.0   4408.25  5591.5   9999.75  \n",
       "2023-06-13 14:44:22  4409.241699    0.0   4408.25  5591.5   9999.75  \n",
       "2023-06-13 14:44:23  4409.192871    0.0   4408.25  5591.5   9999.75  \n",
       "2023-06-13 14:44:24  4409.153809    0.0   4408.00  5591.5   9999.50  "
      ]
     },
     "execution_count": 44,
     "metadata": {},
     "output_type": "execute_result"
    }
   ],
   "source": [
    "results.head(5)"
   ]
  },
  {
   "cell_type": "code",
   "execution_count": 45,
   "metadata": {},
   "outputs": [
    {
     "data": {
      "text/plain": [
       "{'Total Profit': -4378.5,\n",
       " 'Number of Positive Trades': 264,\n",
       " 'Number of Negative Trades': 264,\n",
       " 'Win Ratio': 0.5,\n",
       " 'Average Profit per Trade': -8.292613636363637,\n",
       " 'Return on Investment': -0.43785,\n",
       " 'Sharpe Ratio': 0.6607976584986581}"
      ]
     },
     "execution_count": 45,
     "metadata": {},
     "output_type": "execute_result"
    }
   ],
   "source": [
    "metrics"
   ]
  },
  {
   "cell_type": "code",
   "execution_count": null,
   "metadata": {},
   "outputs": [],
   "source": [
    "model = load_model(model_path)"
   ]
  },
  {
   "cell_type": "code",
   "execution_count": null,
   "metadata": {},
   "outputs": [],
   "source": [
    "data_processor = DataProcessor(unseen_df)"
   ]
  },
  {
   "cell_type": "code",
   "execution_count": null,
   "metadata": {},
   "outputs": [],
   "source": [
    "data_processor.process_df()"
   ]
  },
  {
   "cell_type": "code",
   "execution_count": null,
   "metadata": {},
   "outputs": [],
   "source": [
    "data_processor.scale_shift_data(look_ahead)"
   ]
  },
  {
   "cell_type": "code",
   "execution_count": null,
   "metadata": {},
   "outputs": [],
   "source": [
    "X_unseen, y_unseen = data_processor.create_dataset(data_processor.scaled_df, data_processor.shifted_df['Close'], time_steps)"
   ]
  },
  {
   "cell_type": "code",
   "execution_count": null,
   "metadata": {},
   "outputs": [],
   "source": [
    "y_unseen"
   ]
  },
  {
   "cell_type": "code",
   "execution_count": null,
   "metadata": {},
   "outputs": [],
   "source": [
    "predictor = Predictor(model, data_processor)\n",
    "predictions_unseen = predictor.predict(look_ahead, time_steps)\n",
    "rescaled_predictions_unseen = predictor.rescale_prediction(predictions_unseen)\n",
    "\n",
    "# Get the actual prices (unnormalized)\n",
    "actual_prices_unseen = data_processor.processed_df['Close'].values[time_steps+look_ahead:]\n",
    "\n",
    "# Run the backtester\n",
    "backtester = Backtester(actual_prices=actual_prices_unseen, predicted_prices=rescaled_predictions_unseen, initial_balance=initial_balance)\n",
    "profit_unseen = backtester.run()"
   ]
  },
  {
   "cell_type": "code",
   "execution_count": null,
   "metadata": {},
   "outputs": [],
   "source": [
    "actual_prices_unseen"
   ]
  },
  {
   "cell_type": "code",
   "execution_count": null,
   "metadata": {},
   "outputs": [],
   "source": []
  }
 ],
 "metadata": {
  "kernelspec": {
   "display_name": "Python 3",
   "language": "python",
   "name": "python3"
  },
  "language_info": {
   "codemirror_mode": {
    "name": "ipython",
    "version": 3
   },
   "file_extension": ".py",
   "mimetype": "text/x-python",
   "name": "python",
   "nbconvert_exporter": "python",
   "pygments_lexer": "ipython3",
   "version": "3.8.10"
  }
 },
 "nbformat": 4,
 "nbformat_minor": 2
}
