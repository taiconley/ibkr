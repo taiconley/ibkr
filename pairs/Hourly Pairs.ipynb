{
 "cells": [
  {
   "cell_type": "code",
   "execution_count": 1,
   "id": "15e1853a",
   "metadata": {},
   "outputs": [
    {
     "name": "stderr",
     "output_type": "stream",
     "text": [
      "2023-12-13 00:01:56.920234: I tensorflow/core/util/port.cc:110] oneDNN custom operations are on. You may see slightly different numerical results due to floating-point round-off errors from different computation orders. To turn them off, set the environment variable `TF_ENABLE_ONEDNN_OPTS=0`.\n",
      "2023-12-13 00:01:56.941199: I tensorflow/core/platform/cpu_feature_guard.cc:182] This TensorFlow binary is optimized to use available CPU instructions in performance-critical operations.\n",
      "To enable the following instructions: AVX2 AVX_VNNI FMA, in other operations, rebuild TensorFlow with the appropriate compiler flags.\n",
      "/usr/lib/python3/dist-packages/requests/__init__.py:89: RequestsDependencyWarning: urllib3 (2.0.3) or chardet (3.0.4) doesn't match a supported version!\n",
      "  warnings.warn(\"urllib3 ({}) or chardet ({}) doesn't match a supported \"\n"
     ]
    }
   ],
   "source": [
    "import sys\n",
    "sys.path.append(\"/ibkr\")\n",
    "\n",
    "import os\n",
    "import datetime\n",
    "import pandas as pd\n",
    "import time\n",
    "import numpy as np\n",
    "import matplotlib.pyplot as plt\n",
    "\n",
    "\n",
    "from sklearn.preprocessing import MinMaxScaler\n",
    "from sklearn.model_selection import train_test_split\n",
    "from statsmodels.tsa.stattools import coint\n",
    "import itertools\n",
    "\n",
    "import tensorflow as tf\n",
    "from tensorflow.keras.models import load_model\n",
    "from keras.models import Sequential\n",
    "from keras.layers import Dense\n",
    "from keras.layers import LSTM\n",
    "from keras.layers import Dropout\n",
    "import pytz\n",
    "\n",
    "import backtrader as bt\n",
    "import statsmodels.api as sm\n",
    "\n",
    "import passwords\n",
    "from databaseClass import DB\n",
    "from utils import generate_df_from_sql_file, generate_list_from_sql_file\n",
    "from utils import DataProcessor\n",
    "from utils import ModelBuilder\n",
    "from utils import Predictor\n",
    "pd.set_option('display.max_columns', None)"
   ]
  },
  {
   "cell_type": "code",
   "execution_count": 2,
   "id": "d1de65fb",
   "metadata": {},
   "outputs": [],
   "source": [
    "userName = passwords.userName\n",
    "userPass = passwords.userPass\n",
    "dataBaseName = passwords.dataBaseName\n",
    "host = passwords.host"
   ]
  },
  {
   "cell_type": "code",
   "execution_count": 3,
   "id": "d82e9b14",
   "metadata": {},
   "outputs": [],
   "source": [
    "db = DB(userName=userName, userPass=userPass, dataBaseName=dataBaseName, host='ibkr_db', docker=True)"
   ]
  },
  {
   "cell_type": "code",
   "execution_count": 4,
   "id": "5e22309e",
   "metadata": {},
   "outputs": [
    {
     "name": "stderr",
     "output_type": "stream",
     "text": [
      "/ibkr/databaseClass.py:113: UserWarning: pandas only supports SQLAlchemy connectable (engine/connection) or database string URI or sqlite3 DBAPI2 connection. Other DBAPI2 objects are not tested. Please consider using SQLAlchemy.\n",
      "  df = pd.read_sql_query(query, con=conn)\n"
     ]
    }
   ],
   "source": [
    "df = db.DBtoDF(\"SELECT * FROM pairs_hourly\")"
   ]
  },
  {
   "cell_type": "code",
   "execution_count": 5,
   "id": "d3876cd9",
   "metadata": {},
   "outputs": [
    {
     "name": "stdout",
     "output_type": "stream",
     "text": [
      "<class 'pandas.core.frame.DataFrame'>\n",
      "RangeIndex: 1087505 entries, 0 to 1087504\n",
      "Data columns (total 9 columns):\n",
      " #   Column  Non-Null Count    Dtype         \n",
      "---  ------  --------------    -----         \n",
      " 0   date    1087505 non-null  datetime64[ns]\n",
      " 1   ticker  1087505 non-null  object        \n",
      " 2   open    1087505 non-null  float64       \n",
      " 3   high    1087505 non-null  float64       \n",
      " 4   low     1087505 non-null  float64       \n",
      " 5   close   1087505 non-null  float64       \n",
      " 6   volume  1087505 non-null  int64         \n",
      " 7   count   1087505 non-null  int64         \n",
      " 8   wap     1087505 non-null  float64       \n",
      "dtypes: datetime64[ns](1), float64(5), int64(2), object(1)\n",
      "memory usage: 74.7+ MB\n"
     ]
    }
   ],
   "source": [
    "df.info()"
   ]
  },
  {
   "cell_type": "code",
   "execution_count": 6,
   "id": "624f9a28",
   "metadata": {},
   "outputs": [],
   "source": [
    "# Filter criteria\n",
    "criteria = (\n",
    "    # Drop hours\n",
    "    ~df['date'].dt.strftime('%H:%M:%S').isin(['04:00:00', '05:00:00', '06:00:00', '07:00:00', '08:00:00']) & \n",
    "    # Drop any value that has a 30 in it\n",
    "    ~df['date'].dt.strftime('%H:%M:%S').str.contains('30') & \n",
    "    # Drop specific dates\n",
    "    ~df['date'].dt.strftime('%Y-%m-%d').isin(['2023-08-21', '2023-06-20'])\n",
    ")\n",
    "\n",
    "# Apply the filter\n",
    "df = df.loc[criteria]"
   ]
  },
  {
   "cell_type": "code",
   "execution_count": 7,
   "id": "e0cf4728",
   "metadata": {},
   "outputs": [],
   "source": [
    "df.set_index('date', inplace=True)\n",
    "df = df.sort_index()"
   ]
  },
  {
   "cell_type": "code",
   "execution_count": 8,
   "id": "7b724445",
   "metadata": {},
   "outputs": [
    {
     "name": "stdout",
     "output_type": "stream",
     "text": [
      "<class 'pandas.core.frame.DataFrame'>\n",
      "DatetimeIndex: 988810 entries, 2023-06-21 09:00:00 to 2023-08-23 00:00:00\n",
      "Data columns (total 8 columns):\n",
      " #   Column  Non-Null Count   Dtype  \n",
      "---  ------  --------------   -----  \n",
      " 0   ticker  988810 non-null  object \n",
      " 1   open    988810 non-null  float64\n",
      " 2   high    988810 non-null  float64\n",
      " 3   low     988810 non-null  float64\n",
      " 4   close   988810 non-null  float64\n",
      " 5   volume  988810 non-null  int64  \n",
      " 6   count   988810 non-null  int64  \n",
      " 7   wap     988810 non-null  float64\n",
      "dtypes: float64(5), int64(2), object(1)\n",
      "memory usage: 67.9+ MB\n"
     ]
    }
   ],
   "source": [
    "df.info()"
   ]
  },
  {
   "cell_type": "code",
   "execution_count": 9,
   "id": "baab0a06",
   "metadata": {},
   "outputs": [],
   "source": [
    "cointegrated_pairs = [\n",
    " ('DCOM', 'NWBI', 6.931876734139303e-06),\n",
    " ('FRME', 'NWBI', 9.37938259373182e-05),\n",
    " ('TCMD', 'TPH', 0.00013073334263829345),\n",
    " ('CCS', 'LEN', 0.0006196557061908078),\n",
    " ('CAC', 'FRST', 0.0008485027070045955),\n",
    " ('LBAI', 'OCFC', 0.000903611374429789),\n",
    " ('CCS', 'MTH', 0.0009796528086234786),\n",
    " ('CAC', 'IBTX', 0.0010073871417657944),\n",
    " ('DCOM', 'SFST', 0.0011273781403298882),\n",
    " ('KBH', 'PHM', 0.0011802965098307982),\n",
    " ('NWBI', 'THFF', 0.0012415205030575284),\n",
    " ('FRST', 'IBTX', 0.001941843898475266),\n",
    " ('DCOM', 'FRME', 0.0022399937984697534),\n",
    " ('JOAN', 'MNTS', 0.002264131645384891),\n",
    " ('TMP', 'WSBC', 0.002372145409391496),\n",
    " ('NWBI', 'PPBI', 0.0024458720041988205),\n",
    " ('DCOM', 'RBB', 0.003658108066248698),\n",
    " ('MDC', 'PHM', 0.003958810756435488),\n",
    " ('FISI', 'IBTX', 0.0052866348855049065),\n",
    " ('MDC', 'MHO', 0.006825166993485608),\n",
    " ('LEN', 'TMHC', 0.008255969753706589),\n",
    " ('FFIC', 'FLIC', 0.008496965029977478),\n",
    " ('CIVB', 'MYFW', 0.00883506396397999),\n",
    " ('CNOB', 'FLIC', 0.009295107676352634),\n",
    " ('TCBK', 'WSBC', 0.009504000032407294),\n",
    " ('LILA', 'LILAK', 0.009563357266514647)\n",
    "]"
   ]
  },
  {
   "cell_type": "code",
   "execution_count": null,
   "id": "25fb45e3",
   "metadata": {},
   "outputs": [],
   "source": [
    "db.dropTable(\"pairs_ticker_list\")"
   ]
  },
  {
   "cell_type": "code",
   "execution_count": null,
   "id": "710d0a32",
   "metadata": {},
   "outputs": [],
   "source": [
    "fieldList = '''(\n",
    "    Ticker1 VARCHAR(20) NOT NULL,\n",
    "    Ticker2 VARCHAR(20) NOT NULL\n",
    "    )'''\n",
    "\n",
    "db.buildTable(\"pairs_ticker_list\", fieldList)\n",
    "\n",
    "pairs = pd.DataFrame(cointegrated_pairs, columns=['Ticker1', 'Ticker2', 'Value3'])\n",
    "\n",
    "# Drop the third column as we only need the first two\n",
    "pairs = pairs.drop('Value3', axis=1)\n",
    "db.DFtoDB(pairs, \"pairs_ticker_list\")"
   ]
  },
  {
   "cell_type": "code",
   "execution_count": null,
   "id": "e5b6ff8d",
   "metadata": {},
   "outputs": [],
   "source": [
    "pairs"
   ]
  },
  {
   "cell_type": "code",
   "execution_count": 10,
   "id": "8a475b1b",
   "metadata": {},
   "outputs": [],
   "source": [
    "new_list = []\n",
    "for pair in cointegrated_pairs:\n",
    "    new_list.append(pair[0])\n",
    "    new_list.append(pair[1])"
   ]
  },
  {
   "cell_type": "code",
   "execution_count": 11,
   "id": "5b441545",
   "metadata": {},
   "outputs": [
    {
     "data": {
      "text/plain": [
       "35"
      ]
     },
     "execution_count": 11,
     "metadata": {},
     "output_type": "execute_result"
    }
   ],
   "source": [
    "len(set(new_list))"
   ]
  },
  {
   "cell_type": "code",
   "execution_count": 12,
   "id": "5970823f",
   "metadata": {},
   "outputs": [],
   "source": [
    "# def process_pair(df, stock1, stock2, lookback=20, initial_investment=100000):\n",
    "    \n",
    "def process_pair(df, stock1, stock2, lookback, threshold, trade_percentage, max_multiplier, stop_loss_percentage, take_profit_percentage):\n",
    "    # Filter for pairs data\n",
    "    df_stock1 = df[df['ticker'] == stock1].copy()\n",
    "    df_stock2 = df[df['ticker'] == stock2].copy()\n",
    "    df_SPY = df[df['ticker'] == 'SPY'].copy()\n",
    "\n",
    "\n",
    "    df_stock1 = df_stock1.add_suffix('_stock1')\n",
    "    df_stock2 = df_stock2.add_suffix('_stock2')\n",
    "    df_SPY = df_SPY.add_suffix('_SPY')\n",
    "    df_combined = df_stock1.merge(df_stock2, left_index=True, right_index=True)\n",
    "\n",
    "    df_combined['spread'] = df_combined['close_stock1'] - df_combined['close_stock2']\n",
    "\n",
    "    # Calculate mean and std deviation\n",
    "    df_combined['rolling_mean'] = df_combined['spread'].rolling(window=lookback).mean()\n",
    "    df_combined['rolling_std'] = df_combined['spread'].rolling(window=lookback).std()\n",
    "\n",
    "    # Decide Buy/Sell signals\n",
    "    threshold = 1  # e.g., 1 std deviation\n",
    "    df_combined['signal'] = 'Do Nothing'\n",
    "    df_combined.loc[df_combined['spread'] > df_combined['rolling_mean'] + threshold * df_combined['rolling_std'], 'signal'] = 'Sell Stock1, Buy Stock2'\n",
    "    df_combined.loc[df_combined['spread'] < df_combined['rolling_mean'] - threshold * df_combined['rolling_std'], 'signal'] = 'Buy Stock1, Sell Stock2'\n",
    "\n",
    "\n",
    "    # Update portfolio calculations using df_combined\n",
    "    initial_investment = 100000\n",
    "    total_cash = initial_investment\n",
    "    stock1_qty_cumulative = 0\n",
    "    stock2_qty_cumulative = 0\n",
    "\n",
    "    # Initialize portfolio and quantities columns\n",
    "    df_combined['portfolio_value'] = np.nan\n",
    "    df_combined['stock1_qty'] = np.nan\n",
    "    df_combined['stock2_qty'] = np.nan\n",
    "    df_combined['total_cash'] = np.nan\n",
    "    df_combined['stock1_value'] = np.nan\n",
    "    df_combined['stock2_value'] = np.nan\n",
    "    df_combined['exit_reason'] = 'None'\n",
    "\n",
    "    df_combined['z_score'] = (df_combined['spread'] - df_combined['rolling_mean']) / df_combined['rolling_std']\n",
    "\n",
    "    # Keeping track of peak portfolio value for stop loss:\n",
    "    peak_portfolio_value = initial_investment\n",
    "    entry_portfolio_value = initial_investment\n",
    "\n",
    "\n",
    "    for i, row in df_combined.iterrows():\n",
    "\n",
    "        # Values for stocks based on current holdings:\n",
    "        stock1_value = stock1_qty_cumulative * row['close_stock1']\n",
    "        stock2_value = stock2_qty_cumulative * row['close_stock2']\n",
    "        portfolio_value_before_trade = stock1_value + stock2_value + total_cash\n",
    "\n",
    "        # Calculate adaptive trade size based on z-score\n",
    "        base_trade_size = portfolio_value_before_trade * trade_percentage\n",
    "        adaptive_trade_size = base_trade_size * min(abs(row['z_score']), max_multiplier)\n",
    "\n",
    "        # Trading signals:\n",
    "        if row['signal'] == 'Buy Stock1, Sell Stock2':\n",
    "            stock1_qty = adaptive_trade_size / 2 / row['close_stock1']\n",
    "            stock2_qty = -adaptive_trade_size / 2 / row['close_stock2']\n",
    "        elif row['signal'] == 'Sell Stock1, Buy Stock2':\n",
    "            stock1_qty = -adaptive_trade_size / 2 / row['close_stock1']\n",
    "            stock2_qty = adaptive_trade_size / 2 / row['close_stock2']\n",
    "        else:  # 'Do Nothing'\n",
    "            stock1_qty = 0\n",
    "            stock2_qty = 0\n",
    "\n",
    "        # Stop-loss logic\n",
    "        if portfolio_value_before_trade <= (1 - stop_loss_percentage) * peak_portfolio_value:\n",
    "            df_combined.at[i, 'exit_reason'] = 'Stop-loss'\n",
    "            total_cash += stock1_qty_cumulative * row['close_stock1'] + stock2_qty_cumulative * row['close_stock2']\n",
    "            stock1_qty_cumulative = 0\n",
    "            stock2_qty_cumulative = 0\n",
    "            peak_portfolio_value = total_cash\n",
    "            df_combined.at[i, 'total_cash'] = total_cash\n",
    "            df_combined.at[i, 'stock1_value'] = 0  # because all positions are closed\n",
    "            df_combined.at[i, 'stock2_value'] = 0\n",
    "            df_combined.at[i, 'portfolio_value'] = total_cash\n",
    "            df_combined.at[i, 'stock1_qty'] = 0\n",
    "            df_combined.at[i, 'stock2_qty'] = 0\n",
    "            continue\n",
    "\n",
    "        # Take-profit logic\n",
    "        elif i != 0 and portfolio_value_before_trade >= (1 + take_profit_percentage) * entry_portfolio_value:\n",
    "            df_combined.at[i, 'exit_reason'] = 'take-profit'\n",
    "            total_cash += stock1_qty_cumulative * row['close_stock1'] + stock2_qty_cumulative * row['close_stock2']\n",
    "            stock1_qty_cumulative = 0\n",
    "            stock2_qty_cumulative = 0\n",
    "            entry_portfolio_value = total_cash\n",
    "            df_combined.at[i, 'total_cash'] = total_cash\n",
    "            df_combined.at[i, 'stock1_value'] = 0  # because all positions are closed\n",
    "            df_combined.at[i, 'stock2_value'] = 0\n",
    "            df_combined.at[i, 'portfolio_value'] = total_cash\n",
    "            df_combined.at[i, 'stock1_qty'] = 0\n",
    "            df_combined.at[i, 'stock2_qty'] = 0\n",
    "\n",
    "            continue\n",
    "\n",
    "        # If neither stop-loss nor take-profit conditions are met, execute the trade based on the signal\n",
    "        cash_spent_on_stock1 = stock1_qty * row['close_stock1']\n",
    "        cash_spent_on_stock2 = stock2_qty * row['close_stock2']\n",
    "        total_cash -= cash_spent_on_stock1 + cash_spent_on_stock2\n",
    "        stock1_qty_cumulative += stock1_qty\n",
    "        stock2_qty_cumulative += stock2_qty\n",
    "\n",
    "        # Update portfolio value after the trade:\n",
    "        stock1_value = stock1_qty_cumulative * row['close_stock1']\n",
    "        stock2_value = stock2_qty_cumulative * row['close_stock2']\n",
    "        portfolio_value = stock1_value + stock2_value + total_cash\n",
    "\n",
    "        # Update the peak portfolio value if the current value is greater\n",
    "        peak_portfolio_value = max(peak_portfolio_value, portfolio_value)\n",
    "\n",
    "        df_combined.at[i, 'total_cash'] = total_cash\n",
    "        df_combined.at[i, 'stock1_value'] = stock1_value\n",
    "        df_combined.at[i, 'stock2_value'] = stock2_value\n",
    "        df_combined.at[i, 'portfolio_value'] = portfolio_value\n",
    "        df_combined.at[i, 'stock1_qty'] = stock1_qty_cumulative\n",
    "        df_combined.at[i, 'stock2_qty'] = stock2_qty_cumulative\n",
    "\n",
    "\n",
    "    # 2. Calculate SPY Portfolio Value:\n",
    "    df_combined = df_combined.join(df_SPY, how='left')\n",
    "    # initial_investment = df_combined['portfolio_value'].iloc[0]\n",
    "    df_combined['SPY_returns'] = df_combined['close_SPY'].pct_change().fillna(0)\n",
    "    df_combined['SPY_cumulative_returns'] = (1 + df_combined['SPY_returns']).cumprod()\n",
    "    df_combined['SPY_portfolio_value'] = df_combined['SPY_cumulative_returns'] * initial_investment\n",
    "    return df_combined"
   ]
  },
  {
   "cell_type": "code",
   "execution_count": 13,
   "id": "f53917df",
   "metadata": {},
   "outputs": [
    {
     "data": {
      "image/png": "[encoded data removed]",
      "text/plain": [
       "<Figure size 1400x700 with 1 Axes>"
      ]
     },
     "metadata": {},
     "output_type": "display_data"
    },
    {
     "data": {
      "text/plain": [
       "{'Alpha': 0.0032223790085533516,\n",
       " 'Beta': -0.14664912748604975,\n",
       " 'Sharpe Ratio': 24.91639180059189,\n",
       " 'Total Return': 1.467736893030595,\n",
       " 'Final_portfolio_value': 3208057.9609397734,\n",
       " 'Initial Investment': 1300000.0}"
      ]
     },
     "execution_count": 13,
     "metadata": {},
     "output_type": "execute_result"
    }
   ],
   "source": [
    "# this is to run one time. \n",
    "dfs = []  # List to store individual pair dataframes\n",
    "\n",
    "for pair in cointegrated_pairs:\n",
    "    stock1, stock2, _ = pair\n",
    "    \n",
    "    df_combined = process_pair(df, stock1, stock2, lookback=10, threshold=1.5, trade_percentage=.6, max_multiplier = 2.5, stop_loss_percentage=0.04, take_profit_percentage = 0.05)\n",
    "    df_combined['pair'] = f\"{stock1}-{stock2}\"  # Add an additional column to identify the pair\n",
    "    dfs.append(df_combined)\n",
    "\n",
    "master_df = pd.concat(dfs)\n",
    "\n",
    "output_df = master_df.groupby(master_df.index).agg({\n",
    "    'portfolio_value': 'sum',\n",
    "    'total_cash': 'sum',\n",
    "    'SPY_returns': 'first'\n",
    "})\n",
    "\n",
    "initial_investment = output_df['portfolio_value'].iloc[0]\n",
    "output_df['SPY_cumulative_returns'] = (1 + output_df['SPY_returns']).cumprod()\n",
    "output_df['SPY_portfolio_value'] = initial_investment * output_df['SPY_cumulative_returns']\n",
    "\n",
    "def evaluate_aggregated_df(df):\n",
    "    #expected that df is the output_df\n",
    "    # Total return\n",
    "    final_portfolio_value = df['portfolio_value'].iloc[-1]\n",
    "    initial_investment = df['portfolio_value'].iloc[0]\n",
    "    total_return = (final_portfolio_value - initial_investment) / initial_investment\n",
    "\n",
    "    # Prepare data for regression\n",
    "    X = df['SPY_returns']\n",
    "    X = sm.add_constant(X)  # Adds a constant (intercept) to the model\n",
    "    y = df['portfolio_value'].pct_change().fillna(0)\n",
    "\n",
    "    # Regression model\n",
    "    model = sm.OLS(y, X).fit()\n",
    "\n",
    "    alpha = model.params[0]\n",
    "    beta = model.params[1]\n",
    "    \n",
    "    # 5. Calculate Sharpe Ratio:\n",
    "    risk_free_rate = 0.02  # Approximated risk-free rate, adjust as needed\n",
    "    strategy_excess_return = total_return - risk_free_rate\n",
    "    strategy_std = df['portfolio_value'].pct_change().fillna(0).std()\n",
    "    sharpe_ratio = strategy_excess_return / strategy_std\n",
    "\n",
    "\n",
    "    \n",
    "    return {\n",
    "        \"Alpha\": alpha,\n",
    "        \"Beta\": beta,\n",
    "        \"Sharpe Ratio\": sharpe_ratio,\n",
    "        \"Total Return\": total_return,\n",
    "        \"Final_portfolio_value\": final_portfolio_value,\n",
    "        \"Initial Investment\": initial_investment\n",
    "    }\n",
    "\n",
    "def plot_aggregated(df):\n",
    "    plt.figure(figsize=(14,7))\n",
    "    df['portfolio_value'].plot(label='Pairs Trading Strategy')\n",
    "    df['SPY_portfolio_value'].plot(label='SPY Returns')\n",
    "    plt.legend()\n",
    "    plt.title('Pairs Trading Strategy vs SPY Returns')\n",
    "    plt.show()\n",
    "    \n",
    "plot_aggregated(output_df)\n",
    "evaluate_aggregated_df(output_df)"
   ]
  },
  {
   "cell_type": "code",
   "execution_count": 14,
   "id": "d2edffd9",
   "metadata": {
    "scrolled": false
   },
   "outputs": [],
   "source": [
    "# Grid Search\n",
    "\n",
    "from itertools import product\n",
    "\n",
    "# Define your parameter grid.\n",
    "param_grid = {\n",
    "    'lookback': [10, 20, 30, 40],\n",
    "    'threshold': [0.5, 1, 1.5],\n",
    "    'trade_percentage': [0.40, 0.50, 0.60],\n",
    "    'max_multiplier': [1.5, 2.0, 2.5],\n",
    "    'stop_loss_percentage': [0.02, 0.03, 0.04],\n",
    "    'take_profit_percentage': [0.04, 0.05, 0.06]\n",
    "}\n",
    "\n",
    "all_names = sorted(param_grid)\n",
    "combinations = product(*(param_grid[name] for name in all_names))\n",
    "column_order = [\"Alpha\", \"Beta\", \"Sharpe Ratio\", \"Total Return\"] + all_names\n",
    "df_results = pd.DataFrame(columns=column_order)\n",
    "\n",
    "# Grid search loop\n",
    "for values in combinations:\n",
    "    params = dict(zip(all_names, values))\n",
    "\n",
    "    dfs = []\n",
    "    for pair in cointegrated_pairs:\n",
    "        stock1, stock2, _ = pair\n",
    "        df_combined = process_pair(df, stock1, stock2, **params)\n",
    "        df_combined['pair'] = f\"{stock1}-{stock2}\"\n",
    "        dfs.append(df_combined)\n",
    "\n",
    "    master_df = pd.concat(dfs)\n",
    "    output_df = master_df.groupby(master_df.index).agg({\n",
    "        'portfolio_value': 'sum',\n",
    "        'total_cash': 'sum',\n",
    "        'SPY_returns': 'first'\n",
    "    })\n",
    "\n",
    "    initial_investment = output_df['portfolio_value'].iloc[0]\n",
    "    output_df['SPY_cumulative_returns'] = (1 + output_df['SPY_returns']).cumprod()\n",
    "    output_df['SPY_portfolio_value'] = initial_investment * output_df['SPY_cumulative_returns']\n",
    "\n",
    "    performance = evaluate_aggregated_df(output_df)\n",
    "    \n",
    "    # Store results\n",
    "    for param_name, param_value in params.items():\n",
    "        performance[param_name] = param_value\n",
    "\n",
    "    df_results.loc[len(df_results)] = performance  # Add performance to the results dataframe\n",
    "\n",
    "# Sort by alpha for easier review\n",
    "df_results = df_results.sort_values(by=\"Alpha\", ascending=False).reset_index(drop=True)"
   ]
  },
  {
   "cell_type": "code",
   "execution_count": null,
   "id": "27dfb1b8",
   "metadata": {},
   "outputs": [],
   "source": [
    "# Below is for real time, 5 second bars. "
   ]
  },
  {
   "cell_type": "code",
   "execution_count": 15,
   "id": "4b1f09c5",
   "metadata": {},
   "outputs": [],
   "source": [
    "def get_data_for_real_time(n):\n",
    "    '''\n",
    "    n is the number of rows to include for each ticker.  each row represents 5 seconds of aggregated data\n",
    "    '''\n",
    "    \n",
    "    query = f'''\n",
    "                SELECT * FROM (\n",
    "                    SELECT *, ROW_NUMBER() OVER (PARTITION BY ticker ORDER BY date DESC) as rn\n",
    "                    FROM pairs_live_trading\n",
    "                ) t\n",
    "                WHERE t.rn <= {n}\n",
    "                '''.format(n)\n",
    "\n",
    "    df = db.DBtoDF(query)\n",
    "    \n",
    "    dates = df['date'].drop_duplicates().to_list()\n",
    "    pairs = db.DBtoDF('SELECT * FROM pairs_ticker_list')\n",
    "    \n",
    "    #expanding the pairs for each ticker pair and each timeframe\n",
    "    expanded_pairs = pairs.loc[np.repeat(pairs.index.values, len(dates))]\n",
    "    expanded_pairs['Date'] = np.tile(dates, len(pairs))\n",
    "    expanded_pairs = expanded_pairs.rename(columns={'ticker1': 'Ticker1',\n",
    "                                                    'ticker2': 'Ticker2'})\n",
    "\n",
    "    merged = pd.merge(expanded_pairs, df, left_on=['Ticker1', 'Date'], right_on=['ticker', 'date'], how='left')\n",
    "    merged = merged.rename(columns={\n",
    "                                'open': 'open_ticker1',\n",
    "                                'high': 'high_ticker1',\n",
    "                                'low': 'low_ticker1',\n",
    "                                'close': 'close_ticker1',\n",
    "                                'volume': 'volume_ticker1',\n",
    "                                'count': 'count_ticker1',\n",
    "                                'wap': 'wap_ticker1',\n",
    "                                'rn': 'rn_ticker1',\n",
    "\n",
    "                            })\n",
    "\n",
    "    merged = pd.merge(merged, df, left_on=['Ticker2', 'Date'], right_on=['ticker', 'date'], how='left')\n",
    "    merged = merged.rename(columns={\n",
    "                                'open': 'open_ticker2',\n",
    "                                'high': 'high_ticker2',\n",
    "                                'low': 'low_ticker2',\n",
    "                                'close': 'close_ticker2',\n",
    "                                'volume': 'volume_ticker2',\n",
    "                                'count': 'count_ticker2',\n",
    "                                'wap': 'wap_ticker2',\n",
    "                                'rn': 'rn_ticker2',\n",
    "\n",
    "                            })\n",
    "    merged = merged.drop(['date_x', 'ticker_x', 'date_y', 'ticker_y'], axis=1)\n",
    "    merged['open_ratio'] = merged['open_ticker1'] / merged['open_ticker2']\n",
    "    merged['high_ratio'] = merged['high_ticker1'] / merged['high_ticker2']\n",
    "    merged['low_ratio'] = merged['low_ticker1'] / merged['low_ticker2']\n",
    "    merged['wap_ratio'] = merged['wap_ticker1'] / merged['wap_ticker2']\n",
    "    columns_to_aggregate = [col for col in merged.columns if col not in ['Ticker1', 'Ticker2', 'Date']]\n",
    "    aggregation_functions = {col: ['mean', 'std'] for col in columns_to_aggregate}\n",
    "    aggregated_df = merged.groupby(['Ticker1', 'Ticker2']).agg(aggregation_functions)\n",
    "    aggregated_df.columns = ['_'.join(col).strip() for col in aggregated_df.columns.values]\n",
    "    aggregated_df.reset_index(inplace=True)\n",
    "    return aggregated_df"
   ]
  },
  {
   "cell_type": "code",
   "execution_count": 16,
   "id": "b8223e6e",
   "metadata": {},
   "outputs": [
    {
     "name": "stdout",
     "output_type": "stream",
     "text": [
      "My program took 0.020337820053100586 to run\n"
     ]
    },
    {
     "name": "stderr",
     "output_type": "stream",
     "text": [
      "/ibkr/databaseClass.py:113: UserWarning: pandas only supports SQLAlchemy connectable (engine/connection) or database string URI or sqlite3 DBAPI2 connection. Other DBAPI2 objects are not tested. Please consider using SQLAlchemy.\n",
      "  df = pd.read_sql_query(query, con=conn)\n",
      "/ibkr/databaseClass.py:113: UserWarning: pandas only supports SQLAlchemy connectable (engine/connection) or database string URI or sqlite3 DBAPI2 connection. Other DBAPI2 objects are not tested. Please consider using SQLAlchemy.\n",
      "  df = pd.read_sql_query(query, con=conn)\n"
     ]
    }
   ],
   "source": [
    "start_time = time.time()\n",
    "\n",
    "get_data_for_real_time(5)\n",
    "print(\"My program took\", time.time() - start_time, \"to run\")\n"
   ]
  },
  {
   "cell_type": "code",
   "execution_count": null,
   "id": "681efad4",
   "metadata": {},
   "outputs": [],
   "source": [
    "get_data_for_real_time(15)"
   ]
  }
 ],
 "metadata": {
  "kernelspec": {
   "display_name": "Python 3 (ipykernel)",
   "language": "python",
   "name": "python3"
  },
  "language_info": {
   "codemirror_mode": {
    "name": "ipython",
    "version": 3
   },
   "file_extension": ".py",
   "mimetype": "text/x-python",
   "name": "python",
   "nbconvert_exporter": "python",
   "pygments_lexer": "ipython3",
   "version": "3.8.10"
  }
 },
 "nbformat": 4,
 "nbformat_minor": 5
}
